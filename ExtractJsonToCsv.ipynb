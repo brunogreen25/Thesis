{
 "cells": [
  {
   "cell_type": "markdown",
   "source": [
    "# Experiment 0"
   ],
   "metadata": {
    "collapsed": false,
    "pycharm": {
     "name": "#%% md\n"
    }
   }
  },
  {
   "cell_type": "code",
   "execution_count": null,
   "outputs": [],
   "source": [
    "import numpy as np\n",
    "import json\n",
    "import matplotlib.pyplot as plt\n",
    "import seaborn as sns\n",
    "import pandas as pd"
   ],
   "metadata": {
    "collapsed": false,
    "pycharm": {
     "name": "#%%\n"
    }
   }
  },
  {
   "cell_type": "code",
   "execution_count": 30,
   "outputs": [
    {
     "name": "stdout",
     "output_type": "stream",
     "text": [
      "0.9 0.9 0.0 0.9\n"
     ]
    }
   ],
   "source": [
    "# Get data\n",
    "experiment = '0'\n",
    "\n",
    "model_names = ['ngc0', 'ngc', 'nri']\n",
    "result_files = [f'results/{experiment}/{model_name}/results.json' for model_name in model_names]\n",
    "\n",
    "results = {\n",
    "    'models': [],\n",
    "    'accs': [],\n",
    "    'seeds': [],\n",
    "    'trainset_size': [],\n",
    "    'tvt_split': [],\n",
    "}\n",
    "\n",
    "for i, result_file_ in enumerate(result_files):\n",
    "    with open(result_file_) as f:\n",
    "        results_file = json.load(f)\n",
    "\n",
    "        results['models'] += [\n",
    "            result_exp['experiment_config']['model'] for result_exp in results_file.values()\n",
    "        ]\n",
    "        results['accs'] += [\n",
    "            result_exp['model_results']['accuracy'] for result_exp in results_file.values()\n",
    "        ]\n",
    "        results['seeds'] += [\n",
    "            result_exp['experiment_config']['seed'] for result_exp in results_file.values()\n",
    "        ]\n",
    "        results['trainset_size'] += [\n",
    "            result_exp['experiment_config']['trainset_size'] for result_exp in results_file.values()\n",
    "        ]\n",
    "        results['tvt_split'] += [\n",
    "            result_exp['experiment_config']['tvt_split'] for result_exp in results_file.values()\n",
    "        ]"
   ],
   "metadata": {
    "collapsed": false,
    "pycharm": {
     "name": "#%%\n"
    }
   }
  },
  {
   "cell_type": "code",
   "execution_count": 314,
   "outputs": [
    {
     "data": {
      "text/plain": "    models  accs  seeds  trainset_size  tvt_split\n0     ngc0   1.0      1            500        0.1\n1     ngc0   1.0    101            500        0.1\n2     ngc0   1.0     33            500        0.1\n3     ngc0   1.0     12            500        0.1\n4     ngc0   1.0      0            500        0.1\n..     ...   ...    ...            ...        ...\n445    nri   0.5      1           5000        1.0\n446    nri   0.5    101           5000        1.0\n447    nri   0.5     33           5000        1.0\n448    nri   0.5     12           5000        1.0\n449    nri   0.5      0           5000        1.0\n\n[450 rows x 5 columns]",
      "text/html": "<div>\n<style scoped>\n    .dataframe tbody tr th:only-of-type {\n        vertical-align: middle;\n    }\n\n    .dataframe tbody tr th {\n        vertical-align: top;\n    }\n\n    .dataframe thead th {\n        text-align: right;\n    }\n</style>\n<table border=\"1\" class=\"dataframe\">\n  <thead>\n    <tr style=\"text-align: right;\">\n      <th></th>\n      <th>models</th>\n      <th>accs</th>\n      <th>seeds</th>\n      <th>trainset_size</th>\n      <th>tvt_split</th>\n    </tr>\n  </thead>\n  <tbody>\n    <tr>\n      <th>0</th>\n      <td>ngc0</td>\n      <td>1.0</td>\n      <td>1</td>\n      <td>500</td>\n      <td>0.1</td>\n    </tr>\n    <tr>\n      <th>1</th>\n      <td>ngc0</td>\n      <td>1.0</td>\n      <td>101</td>\n      <td>500</td>\n      <td>0.1</td>\n    </tr>\n    <tr>\n      <th>2</th>\n      <td>ngc0</td>\n      <td>1.0</td>\n      <td>33</td>\n      <td>500</td>\n      <td>0.1</td>\n    </tr>\n    <tr>\n      <th>3</th>\n      <td>ngc0</td>\n      <td>1.0</td>\n      <td>12</td>\n      <td>500</td>\n      <td>0.1</td>\n    </tr>\n    <tr>\n      <th>4</th>\n      <td>ngc0</td>\n      <td>1.0</td>\n      <td>0</td>\n      <td>500</td>\n      <td>0.1</td>\n    </tr>\n    <tr>\n      <th>...</th>\n      <td>...</td>\n      <td>...</td>\n      <td>...</td>\n      <td>...</td>\n      <td>...</td>\n    </tr>\n    <tr>\n      <th>445</th>\n      <td>nri</td>\n      <td>0.5</td>\n      <td>1</td>\n      <td>5000</td>\n      <td>1.0</td>\n    </tr>\n    <tr>\n      <th>446</th>\n      <td>nri</td>\n      <td>0.5</td>\n      <td>101</td>\n      <td>5000</td>\n      <td>1.0</td>\n    </tr>\n    <tr>\n      <th>447</th>\n      <td>nri</td>\n      <td>0.5</td>\n      <td>33</td>\n      <td>5000</td>\n      <td>1.0</td>\n    </tr>\n    <tr>\n      <th>448</th>\n      <td>nri</td>\n      <td>0.5</td>\n      <td>12</td>\n      <td>5000</td>\n      <td>1.0</td>\n    </tr>\n    <tr>\n      <th>449</th>\n      <td>nri</td>\n      <td>0.5</td>\n      <td>0</td>\n      <td>5000</td>\n      <td>1.0</td>\n    </tr>\n  </tbody>\n</table>\n<p>450 rows × 5 columns</p>\n</div>"
     },
     "execution_count": 314,
     "metadata": {},
     "output_type": "execute_result"
    }
   ],
   "source": [
    "# Save data in csv\n",
    "df_ = pd.DataFrame(data=results)\n",
    "df_.to_csv(f'results/{experiment}/processed_results_{experiment}.csv')\n",
    "df_"
   ],
   "metadata": {
    "collapsed": false,
    "pycharm": {
     "name": "#%%\n"
    }
   }
  },
  {
   "cell_type": "code",
   "execution_count": 320,
   "outputs": [
    {
     "data": {
      "text/plain": "    models  accs  seeds  trainset_size  tvt_split\n0     ngc0   1.0      1            500        0.1\n1     ngc0   1.0    101            500        0.1\n2     ngc0   1.0     33            500        0.1\n3     ngc0   1.0     12            500        0.1\n4     ngc0   1.0      0            500        0.1\n..     ...   ...    ...            ...        ...\n445    nri   0.5      1           5000        1.0\n446    nri   0.5    101           5000        1.0\n447    nri   0.5     33           5000        1.0\n448    nri   0.5     12           5000        1.0\n449    nri   0.5      0           5000        1.0\n\n[450 rows x 5 columns]",
      "text/html": "<div>\n<style scoped>\n    .dataframe tbody tr th:only-of-type {\n        vertical-align: middle;\n    }\n\n    .dataframe tbody tr th {\n        vertical-align: top;\n    }\n\n    .dataframe thead th {\n        text-align: right;\n    }\n</style>\n<table border=\"1\" class=\"dataframe\">\n  <thead>\n    <tr style=\"text-align: right;\">\n      <th></th>\n      <th>models</th>\n      <th>accs</th>\n      <th>seeds</th>\n      <th>trainset_size</th>\n      <th>tvt_split</th>\n    </tr>\n  </thead>\n  <tbody>\n    <tr>\n      <th>0</th>\n      <td>ngc0</td>\n      <td>1.0</td>\n      <td>1</td>\n      <td>500</td>\n      <td>0.1</td>\n    </tr>\n    <tr>\n      <th>1</th>\n      <td>ngc0</td>\n      <td>1.0</td>\n      <td>101</td>\n      <td>500</td>\n      <td>0.1</td>\n    </tr>\n    <tr>\n      <th>2</th>\n      <td>ngc0</td>\n      <td>1.0</td>\n      <td>33</td>\n      <td>500</td>\n      <td>0.1</td>\n    </tr>\n    <tr>\n      <th>3</th>\n      <td>ngc0</td>\n      <td>1.0</td>\n      <td>12</td>\n      <td>500</td>\n      <td>0.1</td>\n    </tr>\n    <tr>\n      <th>4</th>\n      <td>ngc0</td>\n      <td>1.0</td>\n      <td>0</td>\n      <td>500</td>\n      <td>0.1</td>\n    </tr>\n    <tr>\n      <th>...</th>\n      <td>...</td>\n      <td>...</td>\n      <td>...</td>\n      <td>...</td>\n      <td>...</td>\n    </tr>\n    <tr>\n      <th>445</th>\n      <td>nri</td>\n      <td>0.5</td>\n      <td>1</td>\n      <td>5000</td>\n      <td>1.0</td>\n    </tr>\n    <tr>\n      <th>446</th>\n      <td>nri</td>\n      <td>0.5</td>\n      <td>101</td>\n      <td>5000</td>\n      <td>1.0</td>\n    </tr>\n    <tr>\n      <th>447</th>\n      <td>nri</td>\n      <td>0.5</td>\n      <td>33</td>\n      <td>5000</td>\n      <td>1.0</td>\n    </tr>\n    <tr>\n      <th>448</th>\n      <td>nri</td>\n      <td>0.5</td>\n      <td>12</td>\n      <td>5000</td>\n      <td>1.0</td>\n    </tr>\n    <tr>\n      <th>449</th>\n      <td>nri</td>\n      <td>0.5</td>\n      <td>0</td>\n      <td>5000</td>\n      <td>1.0</td>\n    </tr>\n  </tbody>\n</table>\n<p>450 rows × 5 columns</p>\n</div>"
     },
     "execution_count": 320,
     "metadata": {},
     "output_type": "execute_result"
    }
   ],
   "source": [
    "# Load the data and aggregate results\n",
    "df = pd.read_csv(f'results/{experiment}/processed_results_{experiment}.csv', index_col='Unnamed: 0')\n",
    "#df = df.groupby(by=['trainset_size', 'tvt_split']).mean()\n",
    "df"
   ],
   "metadata": {
    "collapsed": false,
    "pycharm": {
     "name": "#%%\n"
    }
   }
  },
  {
   "cell_type": "code",
   "execution_count": 322,
   "outputs": [],
   "source": [
    "# Plot data\n"
   ],
   "metadata": {
    "collapsed": false,
    "pycharm": {
     "name": "#%%\n"
    }
   }
  },
  {
   "cell_type": "markdown",
   "source": [
    "# Experiment 1a / 1b / 1c / 1d"
   ],
   "metadata": {
    "collapsed": false,
    "pycharm": {
     "name": "#%% md\n"
    }
   }
  },
  {
   "cell_type": "code",
   "execution_count": 353,
   "outputs": [],
   "source": [
    "import pandas as pd\n",
    "import json"
   ],
   "metadata": {
    "collapsed": false,
    "pycharm": {
     "name": "#%%\n"
    }
   }
  },
  {
   "cell_type": "code",
   "execution_count": 480,
   "outputs": [],
   "source": [
    "# Get data\n",
    "experiment = '1d'\n",
    "\n",
    "model_names = ['ngc', 'nri', 'ngc0', 'tvar']\n",
    "result_files = [f'results/{experiment}/{model_name}/results.json' for model_name in model_names]\n",
    "\n",
    "results = {\n",
    "    'models': [],\n",
    "    'accs': [],\n",
    "    'seeds': [],\n",
    "    'c11': [],\n",
    "    'c12': [],\n",
    "    'c21': [],\n",
    "    'c22': []\n",
    "}\n",
    "\n",
    "experiments = {}\n",
    "for i, result_file_ in enumerate(result_files):\n",
    "    with open(result_file_) as f:\n",
    "        results_file = json.load(f)\n",
    "\n",
    "        results['models'] += [\n",
    "            result_exp['experiment_config']['model'] for result_exp in results_file.values() if result_exp['experiment_config']['c11'] == result_exp['experiment_config']['c22']\n",
    "        ]\n",
    "        results['accs'] += [\n",
    "            result_exp['model_results']['accuracy'] for result_exp in results_file.values() if result_exp['experiment_config']['c11'] == result_exp['experiment_config']['c22']\n",
    "        ]\n",
    "        results['seeds'] += [\n",
    "            result_exp['experiment_config']['seed'] for result_exp in results_file.values() if result_exp['experiment_config']['c11'] == result_exp['experiment_config']['c22']\n",
    "        ]\n",
    "        results['c11'] += [\n",
    "            result_exp['experiment_config']['c11'] for result_exp in results_file.values() if result_exp['experiment_config']['c11'] == result_exp['experiment_config']['c22']\n",
    "        ]\n",
    "        results['c12'] += [\n",
    "            result_exp['experiment_config']['c12'] for result_exp in results_file.values() if result_exp['experiment_config']['c11'] == result_exp['experiment_config']['c22']\n",
    "        ]\n",
    "        results['c21'] += [\n",
    "            result_exp['experiment_config']['c21'] for result_exp in results_file.values() if result_exp['experiment_config']['c11'] == result_exp['experiment_config']['c22']\n",
    "        ]\n",
    "        results['c22'] += [\n",
    "            result_exp['experiment_config']['c22'] for result_exp in results_file.values() if result_exp['experiment_config']['c11'] == result_exp['experiment_config']['c22']\n",
    "        ]"
   ],
   "metadata": {
    "collapsed": false,
    "pycharm": {
     "name": "#%%\n"
    }
   }
  },
  {
   "cell_type": "code",
   "execution_count": 481,
   "outputs": [
    {
     "data": {
      "text/plain": "    models  accs  seeds  c11  c12  c21  c22\n0      ngc  1.00      1  0.4  0.0  0.0  0.4\n1      ngc  1.00    101  0.4  0.0  0.0  0.4\n2      ngc  0.50     33  0.4  0.0  0.0  0.4\n3      ngc  0.75     12  0.4  0.0  0.0  0.4\n4      ngc  0.50      0  0.4  0.0  0.0  0.4\n..     ...   ...    ...  ...  ...  ...  ...\n115   tvar  1.00      1  0.4  0.5  0.5  0.4\n116   tvar  1.00    101  0.4  0.5  0.5  0.4\n117   tvar  1.00     33  0.4  0.5  0.5  0.4\n118   tvar  1.00     12  0.4  0.5  0.5  0.4\n119   tvar  1.00      0  0.4  0.5  0.5  0.4\n\n[120 rows x 7 columns]",
      "text/html": "<div>\n<style scoped>\n    .dataframe tbody tr th:only-of-type {\n        vertical-align: middle;\n    }\n\n    .dataframe tbody tr th {\n        vertical-align: top;\n    }\n\n    .dataframe thead th {\n        text-align: right;\n    }\n</style>\n<table border=\"1\" class=\"dataframe\">\n  <thead>\n    <tr style=\"text-align: right;\">\n      <th></th>\n      <th>models</th>\n      <th>accs</th>\n      <th>seeds</th>\n      <th>c11</th>\n      <th>c12</th>\n      <th>c21</th>\n      <th>c22</th>\n    </tr>\n  </thead>\n  <tbody>\n    <tr>\n      <th>0</th>\n      <td>ngc</td>\n      <td>1.00</td>\n      <td>1</td>\n      <td>0.4</td>\n      <td>0.0</td>\n      <td>0.0</td>\n      <td>0.4</td>\n    </tr>\n    <tr>\n      <th>1</th>\n      <td>ngc</td>\n      <td>1.00</td>\n      <td>101</td>\n      <td>0.4</td>\n      <td>0.0</td>\n      <td>0.0</td>\n      <td>0.4</td>\n    </tr>\n    <tr>\n      <th>2</th>\n      <td>ngc</td>\n      <td>0.50</td>\n      <td>33</td>\n      <td>0.4</td>\n      <td>0.0</td>\n      <td>0.0</td>\n      <td>0.4</td>\n    </tr>\n    <tr>\n      <th>3</th>\n      <td>ngc</td>\n      <td>0.75</td>\n      <td>12</td>\n      <td>0.4</td>\n      <td>0.0</td>\n      <td>0.0</td>\n      <td>0.4</td>\n    </tr>\n    <tr>\n      <th>4</th>\n      <td>ngc</td>\n      <td>0.50</td>\n      <td>0</td>\n      <td>0.4</td>\n      <td>0.0</td>\n      <td>0.0</td>\n      <td>0.4</td>\n    </tr>\n    <tr>\n      <th>...</th>\n      <td>...</td>\n      <td>...</td>\n      <td>...</td>\n      <td>...</td>\n      <td>...</td>\n      <td>...</td>\n      <td>...</td>\n    </tr>\n    <tr>\n      <th>115</th>\n      <td>tvar</td>\n      <td>1.00</td>\n      <td>1</td>\n      <td>0.4</td>\n      <td>0.5</td>\n      <td>0.5</td>\n      <td>0.4</td>\n    </tr>\n    <tr>\n      <th>116</th>\n      <td>tvar</td>\n      <td>1.00</td>\n      <td>101</td>\n      <td>0.4</td>\n      <td>0.5</td>\n      <td>0.5</td>\n      <td>0.4</td>\n    </tr>\n    <tr>\n      <th>117</th>\n      <td>tvar</td>\n      <td>1.00</td>\n      <td>33</td>\n      <td>0.4</td>\n      <td>0.5</td>\n      <td>0.5</td>\n      <td>0.4</td>\n    </tr>\n    <tr>\n      <th>118</th>\n      <td>tvar</td>\n      <td>1.00</td>\n      <td>12</td>\n      <td>0.4</td>\n      <td>0.5</td>\n      <td>0.5</td>\n      <td>0.4</td>\n    </tr>\n    <tr>\n      <th>119</th>\n      <td>tvar</td>\n      <td>1.00</td>\n      <td>0</td>\n      <td>0.4</td>\n      <td>0.5</td>\n      <td>0.5</td>\n      <td>0.4</td>\n    </tr>\n  </tbody>\n</table>\n<p>120 rows × 7 columns</p>\n</div>"
     },
     "execution_count": 481,
     "metadata": {},
     "output_type": "execute_result"
    }
   ],
   "source": [
    "df = pd.DataFrame(data=results)\n",
    "df"
   ],
   "metadata": {
    "collapsed": false,
    "pycharm": {
     "name": "#%%\n"
    }
   }
  },
  {
   "cell_type": "code",
   "execution_count": 482,
   "outputs": [
    {
     "data": {
      "text/plain": "    models  accs  seeds  c11  c12  c21  c22\n0      ngc  1.00      1  0.4  0.0  0.0  0.4\n1      ngc  1.00    101  0.4  0.0  0.0  0.4\n2      ngc  0.50     33  0.4  0.0  0.0  0.4\n3      ngc  0.75     12  0.4  0.0  0.0  0.4\n4      ngc  0.50      0  0.4  0.0  0.0  0.4\n..     ...   ...    ...  ...  ...  ...  ...\n115   tvar  1.00      1  0.4  0.5  0.5  0.4\n116   tvar  1.00    101  0.4  0.5  0.5  0.4\n117   tvar  1.00     33  0.4  0.5  0.5  0.4\n118   tvar  1.00     12  0.4  0.5  0.5  0.4\n119   tvar  1.00      0  0.4  0.5  0.5  0.4\n\n[120 rows x 7 columns]",
      "text/html": "<div>\n<style scoped>\n    .dataframe tbody tr th:only-of-type {\n        vertical-align: middle;\n    }\n\n    .dataframe tbody tr th {\n        vertical-align: top;\n    }\n\n    .dataframe thead th {\n        text-align: right;\n    }\n</style>\n<table border=\"1\" class=\"dataframe\">\n  <thead>\n    <tr style=\"text-align: right;\">\n      <th></th>\n      <th>models</th>\n      <th>accs</th>\n      <th>seeds</th>\n      <th>c11</th>\n      <th>c12</th>\n      <th>c21</th>\n      <th>c22</th>\n    </tr>\n  </thead>\n  <tbody>\n    <tr>\n      <th>0</th>\n      <td>ngc</td>\n      <td>1.00</td>\n      <td>1</td>\n      <td>0.4</td>\n      <td>0.0</td>\n      <td>0.0</td>\n      <td>0.4</td>\n    </tr>\n    <tr>\n      <th>1</th>\n      <td>ngc</td>\n      <td>1.00</td>\n      <td>101</td>\n      <td>0.4</td>\n      <td>0.0</td>\n      <td>0.0</td>\n      <td>0.4</td>\n    </tr>\n    <tr>\n      <th>2</th>\n      <td>ngc</td>\n      <td>0.50</td>\n      <td>33</td>\n      <td>0.4</td>\n      <td>0.0</td>\n      <td>0.0</td>\n      <td>0.4</td>\n    </tr>\n    <tr>\n      <th>3</th>\n      <td>ngc</td>\n      <td>0.75</td>\n      <td>12</td>\n      <td>0.4</td>\n      <td>0.0</td>\n      <td>0.0</td>\n      <td>0.4</td>\n    </tr>\n    <tr>\n      <th>4</th>\n      <td>ngc</td>\n      <td>0.50</td>\n      <td>0</td>\n      <td>0.4</td>\n      <td>0.0</td>\n      <td>0.0</td>\n      <td>0.4</td>\n    </tr>\n    <tr>\n      <th>...</th>\n      <td>...</td>\n      <td>...</td>\n      <td>...</td>\n      <td>...</td>\n      <td>...</td>\n      <td>...</td>\n      <td>...</td>\n    </tr>\n    <tr>\n      <th>115</th>\n      <td>tvar</td>\n      <td>1.00</td>\n      <td>1</td>\n      <td>0.4</td>\n      <td>0.5</td>\n      <td>0.5</td>\n      <td>0.4</td>\n    </tr>\n    <tr>\n      <th>116</th>\n      <td>tvar</td>\n      <td>1.00</td>\n      <td>101</td>\n      <td>0.4</td>\n      <td>0.5</td>\n      <td>0.5</td>\n      <td>0.4</td>\n    </tr>\n    <tr>\n      <th>117</th>\n      <td>tvar</td>\n      <td>1.00</td>\n      <td>33</td>\n      <td>0.4</td>\n      <td>0.5</td>\n      <td>0.5</td>\n      <td>0.4</td>\n    </tr>\n    <tr>\n      <th>118</th>\n      <td>tvar</td>\n      <td>1.00</td>\n      <td>12</td>\n      <td>0.4</td>\n      <td>0.5</td>\n      <td>0.5</td>\n      <td>0.4</td>\n    </tr>\n    <tr>\n      <th>119</th>\n      <td>tvar</td>\n      <td>1.00</td>\n      <td>0</td>\n      <td>0.4</td>\n      <td>0.5</td>\n      <td>0.5</td>\n      <td>0.4</td>\n    </tr>\n  </tbody>\n</table>\n<p>120 rows × 7 columns</p>\n</div>"
     },
     "execution_count": 482,
     "metadata": {},
     "output_type": "execute_result"
    }
   ],
   "source": [
    "df.to_csv(f'results/{experiment}/processed_results_{experiment}.csv')\n",
    "df = pd.read_csv(f'results/{experiment}/processed_results_{experiment}.csv', index_col='Unnamed: 0')\n",
    "df"
   ],
   "metadata": {
    "collapsed": false,
    "pycharm": {
     "name": "#%%\n"
    }
   }
  },
  {
   "cell_type": "code",
   "execution_count": 483,
   "outputs": [],
   "source": [
    "# Plot data"
   ],
   "metadata": {
    "collapsed": false,
    "pycharm": {
     "name": "#%%\n"
    }
   }
  },
  {
   "cell_type": "markdown",
   "source": [
    "# Experiment 2"
   ],
   "metadata": {
    "collapsed": false,
    "pycharm": {
     "name": "#%% md\n"
    }
   }
  },
  {
   "cell_type": "code",
   "execution_count": 21,
   "outputs": [],
   "source": [
    "import pandas as pd"
   ],
   "metadata": {
    "collapsed": false,
    "pycharm": {
     "name": "#%%\n"
    }
   }
  },
  {
   "cell_type": "code",
   "execution_count": 22,
   "outputs": [],
   "source": [
    "# Get data\n",
    "experiment = '2'\n",
    "\n",
    "model_names = ['ngc', 'nri', 'ngc0', 'tvar']\n",
    "result_files = [f'results/{experiment}/{model_name}/results.json' for model_name in model_names]\n",
    "\n",
    "results = {\n",
    "    'models': [],\n",
    "    'accs': [],\n",
    "    'seeds': [],\n",
    "    'c11': [],\n",
    "    'c12': [],\n",
    "    'c21': [],\n",
    "    'c22': [],\n",
    "    'sigma_eta_diag': [],\n",
    "    'sigma_eta_off_diag': []\n",
    "}\n",
    "\n",
    "experiments = {}\n",
    "for i, result_file_ in enumerate(result_files):\n",
    "    with open(result_file_) as f:\n",
    "        results_file = json.load(f)\n",
    "\n",
    "        results['models'] += [\n",
    "            result_exp['experiment_config']['model'] for result_exp in results_file.values()\n",
    "        ]\n",
    "        results['accs'] += [\n",
    "            result_exp['model_results']['accuracy'] for result_exp in results_file.values()\n",
    "        ]\n",
    "        results['seeds'] += [\n",
    "            result_exp['experiment_config']['seed'] for result_exp in results_file.values()\n",
    "        ]\n",
    "        results['c11'] += [\n",
    "            result_exp['experiment_config']['c11'] for result_exp in results_file.values()\n",
    "        ]\n",
    "        results['c12'] += [\n",
    "            result_exp['experiment_config']['c12'] for result_exp in results_file.values()\n",
    "        ]\n",
    "        results['c21'] += [\n",
    "            result_exp['experiment_config']['c21'] for result_exp in results_file.values()\n",
    "        ]\n",
    "        results['c22'] += [\n",
    "            result_exp['experiment_config']['c22'] for result_exp in results_file.values()\n",
    "        ]\n",
    "        results['sigma_eta_diag'] += [\n",
    "            result_exp['experiment_config']['sigma_eta_diag'] for result_exp in results_file.values()\n",
    "        ]\n",
    "        results['sigma_eta_off_diag'] += [\n",
    "            result_exp['experiment_config']['sigma_eta_off_diag'] for result_exp in results_file.values()\n",
    "        ]"
   ],
   "metadata": {
    "collapsed": false,
    "pycharm": {
     "name": "#%%\n"
    }
   }
  },
  {
   "cell_type": "code",
   "execution_count": 23,
   "outputs": [
    {
     "data": {
      "text/plain": "    models  accs  seeds  c11  c12  c21  c22  sigma_eta_diag  \\\n0      ngc   1.0      1  0.8  0.0  0.0  0.8            0.01   \n1      ngc   1.0    101  0.8  0.0  0.0  0.8            0.01   \n2      ngc   1.0     33  0.8  0.0  0.0  0.8            0.01   \n3      ngc   1.0     12  0.8  0.0  0.0  0.8            0.01   \n4      ngc   1.0      0  0.8  0.0  0.0  0.8            0.01   \n..     ...   ...    ...  ...  ...  ...  ...             ...   \n155   tvar   1.0      1  0.8  0.8  0.0  0.8            0.02   \n156   tvar   1.0    101  0.8  0.8  0.0  0.8            0.02   \n157   tvar   1.0     33  0.8  0.8  0.0  0.8            0.02   \n158   tvar   1.0     12  0.8  0.8  0.0  0.8            0.02   \n159   tvar   1.0      0  0.8  0.8  0.0  0.8            0.02   \n\n     sigma_eta_off_diag  \n0                  0.00  \n1                  0.00  \n2                  0.00  \n3                  0.00  \n4                  0.00  \n..                  ...  \n155                0.02  \n156                0.02  \n157                0.02  \n158                0.02  \n159                0.02  \n\n[160 rows x 9 columns]",
      "text/html": "<div>\n<style scoped>\n    .dataframe tbody tr th:only-of-type {\n        vertical-align: middle;\n    }\n\n    .dataframe tbody tr th {\n        vertical-align: top;\n    }\n\n    .dataframe thead th {\n        text-align: right;\n    }\n</style>\n<table border=\"1\" class=\"dataframe\">\n  <thead>\n    <tr style=\"text-align: right;\">\n      <th></th>\n      <th>models</th>\n      <th>accs</th>\n      <th>seeds</th>\n      <th>c11</th>\n      <th>c12</th>\n      <th>c21</th>\n      <th>c22</th>\n      <th>sigma_eta_diag</th>\n      <th>sigma_eta_off_diag</th>\n    </tr>\n  </thead>\n  <tbody>\n    <tr>\n      <th>0</th>\n      <td>ngc</td>\n      <td>1.0</td>\n      <td>1</td>\n      <td>0.8</td>\n      <td>0.0</td>\n      <td>0.0</td>\n      <td>0.8</td>\n      <td>0.01</td>\n      <td>0.00</td>\n    </tr>\n    <tr>\n      <th>1</th>\n      <td>ngc</td>\n      <td>1.0</td>\n      <td>101</td>\n      <td>0.8</td>\n      <td>0.0</td>\n      <td>0.0</td>\n      <td>0.8</td>\n      <td>0.01</td>\n      <td>0.00</td>\n    </tr>\n    <tr>\n      <th>2</th>\n      <td>ngc</td>\n      <td>1.0</td>\n      <td>33</td>\n      <td>0.8</td>\n      <td>0.0</td>\n      <td>0.0</td>\n      <td>0.8</td>\n      <td>0.01</td>\n      <td>0.00</td>\n    </tr>\n    <tr>\n      <th>3</th>\n      <td>ngc</td>\n      <td>1.0</td>\n      <td>12</td>\n      <td>0.8</td>\n      <td>0.0</td>\n      <td>0.0</td>\n      <td>0.8</td>\n      <td>0.01</td>\n      <td>0.00</td>\n    </tr>\n    <tr>\n      <th>4</th>\n      <td>ngc</td>\n      <td>1.0</td>\n      <td>0</td>\n      <td>0.8</td>\n      <td>0.0</td>\n      <td>0.0</td>\n      <td>0.8</td>\n      <td>0.01</td>\n      <td>0.00</td>\n    </tr>\n    <tr>\n      <th>...</th>\n      <td>...</td>\n      <td>...</td>\n      <td>...</td>\n      <td>...</td>\n      <td>...</td>\n      <td>...</td>\n      <td>...</td>\n      <td>...</td>\n      <td>...</td>\n    </tr>\n    <tr>\n      <th>155</th>\n      <td>tvar</td>\n      <td>1.0</td>\n      <td>1</td>\n      <td>0.8</td>\n      <td>0.8</td>\n      <td>0.0</td>\n      <td>0.8</td>\n      <td>0.02</td>\n      <td>0.02</td>\n    </tr>\n    <tr>\n      <th>156</th>\n      <td>tvar</td>\n      <td>1.0</td>\n      <td>101</td>\n      <td>0.8</td>\n      <td>0.8</td>\n      <td>0.0</td>\n      <td>0.8</td>\n      <td>0.02</td>\n      <td>0.02</td>\n    </tr>\n    <tr>\n      <th>157</th>\n      <td>tvar</td>\n      <td>1.0</td>\n      <td>33</td>\n      <td>0.8</td>\n      <td>0.8</td>\n      <td>0.0</td>\n      <td>0.8</td>\n      <td>0.02</td>\n      <td>0.02</td>\n    </tr>\n    <tr>\n      <th>158</th>\n      <td>tvar</td>\n      <td>1.0</td>\n      <td>12</td>\n      <td>0.8</td>\n      <td>0.8</td>\n      <td>0.0</td>\n      <td>0.8</td>\n      <td>0.02</td>\n      <td>0.02</td>\n    </tr>\n    <tr>\n      <th>159</th>\n      <td>tvar</td>\n      <td>1.0</td>\n      <td>0</td>\n      <td>0.8</td>\n      <td>0.8</td>\n      <td>0.0</td>\n      <td>0.8</td>\n      <td>0.02</td>\n      <td>0.02</td>\n    </tr>\n  </tbody>\n</table>\n<p>160 rows × 9 columns</p>\n</div>"
     },
     "execution_count": 23,
     "metadata": {},
     "output_type": "execute_result"
    }
   ],
   "source": [
    "df = pd.DataFrame(data=results)\n",
    "df"
   ],
   "metadata": {
    "collapsed": false,
    "pycharm": {
     "name": "#%%\n"
    }
   }
  },
  {
   "cell_type": "code",
   "execution_count": 24,
   "outputs": [
    {
     "data": {
      "text/plain": "    models  accs  seeds  c11  c12  c21  c22  sigma_eta_diag  \\\n0      ngc   1.0      1  0.8  0.0  0.0  0.8            0.01   \n1      ngc   1.0    101  0.8  0.0  0.0  0.8            0.01   \n2      ngc   1.0     33  0.8  0.0  0.0  0.8            0.01   \n3      ngc   1.0     12  0.8  0.0  0.0  0.8            0.01   \n4      ngc   1.0      0  0.8  0.0  0.0  0.8            0.01   \n..     ...   ...    ...  ...  ...  ...  ...             ...   \n155   tvar   1.0      1  0.8  0.8  0.0  0.8            0.02   \n156   tvar   1.0    101  0.8  0.8  0.0  0.8            0.02   \n157   tvar   1.0     33  0.8  0.8  0.0  0.8            0.02   \n158   tvar   1.0     12  0.8  0.8  0.0  0.8            0.02   \n159   tvar   1.0      0  0.8  0.8  0.0  0.8            0.02   \n\n     sigma_eta_off_diag  \n0                  0.00  \n1                  0.00  \n2                  0.00  \n3                  0.00  \n4                  0.00  \n..                  ...  \n155                0.02  \n156                0.02  \n157                0.02  \n158                0.02  \n159                0.02  \n\n[160 rows x 9 columns]",
      "text/html": "<div>\n<style scoped>\n    .dataframe tbody tr th:only-of-type {\n        vertical-align: middle;\n    }\n\n    .dataframe tbody tr th {\n        vertical-align: top;\n    }\n\n    .dataframe thead th {\n        text-align: right;\n    }\n</style>\n<table border=\"1\" class=\"dataframe\">\n  <thead>\n    <tr style=\"text-align: right;\">\n      <th></th>\n      <th>models</th>\n      <th>accs</th>\n      <th>seeds</th>\n      <th>c11</th>\n      <th>c12</th>\n      <th>c21</th>\n      <th>c22</th>\n      <th>sigma_eta_diag</th>\n      <th>sigma_eta_off_diag</th>\n    </tr>\n  </thead>\n  <tbody>\n    <tr>\n      <th>0</th>\n      <td>ngc</td>\n      <td>1.0</td>\n      <td>1</td>\n      <td>0.8</td>\n      <td>0.0</td>\n      <td>0.0</td>\n      <td>0.8</td>\n      <td>0.01</td>\n      <td>0.00</td>\n    </tr>\n    <tr>\n      <th>1</th>\n      <td>ngc</td>\n      <td>1.0</td>\n      <td>101</td>\n      <td>0.8</td>\n      <td>0.0</td>\n      <td>0.0</td>\n      <td>0.8</td>\n      <td>0.01</td>\n      <td>0.00</td>\n    </tr>\n    <tr>\n      <th>2</th>\n      <td>ngc</td>\n      <td>1.0</td>\n      <td>33</td>\n      <td>0.8</td>\n      <td>0.0</td>\n      <td>0.0</td>\n      <td>0.8</td>\n      <td>0.01</td>\n      <td>0.00</td>\n    </tr>\n    <tr>\n      <th>3</th>\n      <td>ngc</td>\n      <td>1.0</td>\n      <td>12</td>\n      <td>0.8</td>\n      <td>0.0</td>\n      <td>0.0</td>\n      <td>0.8</td>\n      <td>0.01</td>\n      <td>0.00</td>\n    </tr>\n    <tr>\n      <th>4</th>\n      <td>ngc</td>\n      <td>1.0</td>\n      <td>0</td>\n      <td>0.8</td>\n      <td>0.0</td>\n      <td>0.0</td>\n      <td>0.8</td>\n      <td>0.01</td>\n      <td>0.00</td>\n    </tr>\n    <tr>\n      <th>...</th>\n      <td>...</td>\n      <td>...</td>\n      <td>...</td>\n      <td>...</td>\n      <td>...</td>\n      <td>...</td>\n      <td>...</td>\n      <td>...</td>\n      <td>...</td>\n    </tr>\n    <tr>\n      <th>155</th>\n      <td>tvar</td>\n      <td>1.0</td>\n      <td>1</td>\n      <td>0.8</td>\n      <td>0.8</td>\n      <td>0.0</td>\n      <td>0.8</td>\n      <td>0.02</td>\n      <td>0.02</td>\n    </tr>\n    <tr>\n      <th>156</th>\n      <td>tvar</td>\n      <td>1.0</td>\n      <td>101</td>\n      <td>0.8</td>\n      <td>0.8</td>\n      <td>0.0</td>\n      <td>0.8</td>\n      <td>0.02</td>\n      <td>0.02</td>\n    </tr>\n    <tr>\n      <th>157</th>\n      <td>tvar</td>\n      <td>1.0</td>\n      <td>33</td>\n      <td>0.8</td>\n      <td>0.8</td>\n      <td>0.0</td>\n      <td>0.8</td>\n      <td>0.02</td>\n      <td>0.02</td>\n    </tr>\n    <tr>\n      <th>158</th>\n      <td>tvar</td>\n      <td>1.0</td>\n      <td>12</td>\n      <td>0.8</td>\n      <td>0.8</td>\n      <td>0.0</td>\n      <td>0.8</td>\n      <td>0.02</td>\n      <td>0.02</td>\n    </tr>\n    <tr>\n      <th>159</th>\n      <td>tvar</td>\n      <td>1.0</td>\n      <td>0</td>\n      <td>0.8</td>\n      <td>0.8</td>\n      <td>0.0</td>\n      <td>0.8</td>\n      <td>0.02</td>\n      <td>0.02</td>\n    </tr>\n  </tbody>\n</table>\n<p>160 rows × 9 columns</p>\n</div>"
     },
     "execution_count": 24,
     "metadata": {},
     "output_type": "execute_result"
    }
   ],
   "source": [
    "df.to_csv(f'results/{experiment}/processed_data_{experiment}.csv')\n",
    "df = pd.read_csv(f'results/{experiment}/processed_data_{experiment}.csv', index_col='Unnamed: 0')\n",
    "df"
   ],
   "metadata": {
    "collapsed": false,
    "pycharm": {
     "name": "#%%\n"
    }
   }
  },
  {
   "cell_type": "markdown",
   "source": [
    "# Experiment 3"
   ],
   "metadata": {
    "collapsed": false,
    "pycharm": {
     "name": "#%% md\n"
    }
   }
  },
  {
   "cell_type": "code",
   "execution_count": 465,
   "outputs": [],
   "source": [
    "import pandas as pd"
   ],
   "metadata": {
    "collapsed": false,
    "pycharm": {
     "name": "#%%\n"
    }
   }
  },
  {
   "cell_type": "code",
   "execution_count": 9,
   "outputs": [],
   "source": [
    "# Get data\n",
    "experiment = '3'\n",
    "\n",
    "model_names = ['nri']\n",
    "result_files = [f'results/{experiment}/{model_name}/results.json' for model_name in model_names]\n",
    "\n",
    "results = {\n",
    "    'models': [],\n",
    "    'accs': [],\n",
    "    'seeds': [],\n",
    "    'c11': [],\n",
    "    'c12': [],\n",
    "    'c21': [],\n",
    "    'c22': [],\n",
    "    'n_data': [],\n",
    "}\n",
    "\n",
    "experiments = {}\n",
    "for i, result_file_ in enumerate(result_files):\n",
    "    with open(result_file_) as f:\n",
    "        results_file = json.load(f)\n",
    "\n",
    "        results['models'] += [\n",
    "            result_exp['experiment_config']['model'] for result_exp in results_file.values()\n",
    "        ]\n",
    "        results['accs'] += [\n",
    "            result_exp['model_results']['accuracy'] for result_exp in results_file.values()\n",
    "        ]\n",
    "        results['seeds'] += [\n",
    "            result_exp['experiment_config']['seed'] for result_exp in results_file.values()\n",
    "        ]\n",
    "        results['c11'] += [\n",
    "            result_exp['experiment_config']['c11'] for result_exp in results_file.values()\n",
    "        ]\n",
    "        results['c12'] += [\n",
    "            result_exp['experiment_config']['c12'] for result_exp in results_file.values()\n",
    "        ]\n",
    "        results['c21'] += [\n",
    "            result_exp['experiment_config']['c21'] for result_exp in results_file.values()\n",
    "        ]\n",
    "        results['c22'] += [\n",
    "            result_exp['experiment_config']['c22'] for result_exp in results_file.values()\n",
    "        ]\n",
    "        results['n_data'] += [\n",
    "            result_exp['experiment_config']['n_data'] for result_exp in results_file.values()\n",
    "        ]"
   ],
   "metadata": {
    "collapsed": false,
    "pycharm": {
     "name": "#%%\n"
    }
   }
  },
  {
   "cell_type": "code",
   "execution_count": 10,
   "outputs": [
    {
     "data": {
      "text/plain": "   models      accs  seeds  c11  c12  c21  c22  n_data\n0     nri  0.500000      1  0.8  0.1  0.1  0.8       2\n1     nri  0.000000    101  0.8  0.1  0.1  0.8       2\n2     nri  0.500000     33  0.8  0.1  0.1  0.8       2\n3     nri  0.500000     12  0.8  0.1  0.1  0.8       2\n4     nri  0.500000      0  0.8  0.1  0.1  0.8       2\n5     nri  0.555556      1  0.8  0.1  0.1  0.8       3\n6     nri  0.555556    101  0.8  0.1  0.1  0.8       3\n7     nri  0.666667     33  0.8  0.1  0.1  0.8       3\n8     nri  0.555556     12  0.8  0.1  0.1  0.8       3\n9     nri  0.555556      0  0.8  0.1  0.1  0.8       3\n10    nri  0.625000      1  0.8  0.1  0.1  0.8       4\n11    nri  0.562500    101  0.8  0.1  0.1  0.8       4\n12    nri  0.625000     33  0.8  0.1  0.1  0.8       4\n13    nri  0.625000     12  0.8  0.1  0.1  0.8       4\n14    nri  0.687500      0  0.8  0.1  0.1  0.8       4\n15    nri  0.800000      1  0.8  0.1  0.1  0.8       5\n16    nri  0.720000    101  0.8  0.1  0.1  0.8       5\n17    nri  0.760000     33  0.8  0.1  0.1  0.8       5",
      "text/html": "<div>\n<style scoped>\n    .dataframe tbody tr th:only-of-type {\n        vertical-align: middle;\n    }\n\n    .dataframe tbody tr th {\n        vertical-align: top;\n    }\n\n    .dataframe thead th {\n        text-align: right;\n    }\n</style>\n<table border=\"1\" class=\"dataframe\">\n  <thead>\n    <tr style=\"text-align: right;\">\n      <th></th>\n      <th>models</th>\n      <th>accs</th>\n      <th>seeds</th>\n      <th>c11</th>\n      <th>c12</th>\n      <th>c21</th>\n      <th>c22</th>\n      <th>n_data</th>\n    </tr>\n  </thead>\n  <tbody>\n    <tr>\n      <th>0</th>\n      <td>nri</td>\n      <td>0.500000</td>\n      <td>1</td>\n      <td>0.8</td>\n      <td>0.1</td>\n      <td>0.1</td>\n      <td>0.8</td>\n      <td>2</td>\n    </tr>\n    <tr>\n      <th>1</th>\n      <td>nri</td>\n      <td>0.000000</td>\n      <td>101</td>\n      <td>0.8</td>\n      <td>0.1</td>\n      <td>0.1</td>\n      <td>0.8</td>\n      <td>2</td>\n    </tr>\n    <tr>\n      <th>2</th>\n      <td>nri</td>\n      <td>0.500000</td>\n      <td>33</td>\n      <td>0.8</td>\n      <td>0.1</td>\n      <td>0.1</td>\n      <td>0.8</td>\n      <td>2</td>\n    </tr>\n    <tr>\n      <th>3</th>\n      <td>nri</td>\n      <td>0.500000</td>\n      <td>12</td>\n      <td>0.8</td>\n      <td>0.1</td>\n      <td>0.1</td>\n      <td>0.8</td>\n      <td>2</td>\n    </tr>\n    <tr>\n      <th>4</th>\n      <td>nri</td>\n      <td>0.500000</td>\n      <td>0</td>\n      <td>0.8</td>\n      <td>0.1</td>\n      <td>0.1</td>\n      <td>0.8</td>\n      <td>2</td>\n    </tr>\n    <tr>\n      <th>5</th>\n      <td>nri</td>\n      <td>0.555556</td>\n      <td>1</td>\n      <td>0.8</td>\n      <td>0.1</td>\n      <td>0.1</td>\n      <td>0.8</td>\n      <td>3</td>\n    </tr>\n    <tr>\n      <th>6</th>\n      <td>nri</td>\n      <td>0.555556</td>\n      <td>101</td>\n      <td>0.8</td>\n      <td>0.1</td>\n      <td>0.1</td>\n      <td>0.8</td>\n      <td>3</td>\n    </tr>\n    <tr>\n      <th>7</th>\n      <td>nri</td>\n      <td>0.666667</td>\n      <td>33</td>\n      <td>0.8</td>\n      <td>0.1</td>\n      <td>0.1</td>\n      <td>0.8</td>\n      <td>3</td>\n    </tr>\n    <tr>\n      <th>8</th>\n      <td>nri</td>\n      <td>0.555556</td>\n      <td>12</td>\n      <td>0.8</td>\n      <td>0.1</td>\n      <td>0.1</td>\n      <td>0.8</td>\n      <td>3</td>\n    </tr>\n    <tr>\n      <th>9</th>\n      <td>nri</td>\n      <td>0.555556</td>\n      <td>0</td>\n      <td>0.8</td>\n      <td>0.1</td>\n      <td>0.1</td>\n      <td>0.8</td>\n      <td>3</td>\n    </tr>\n    <tr>\n      <th>10</th>\n      <td>nri</td>\n      <td>0.625000</td>\n      <td>1</td>\n      <td>0.8</td>\n      <td>0.1</td>\n      <td>0.1</td>\n      <td>0.8</td>\n      <td>4</td>\n    </tr>\n    <tr>\n      <th>11</th>\n      <td>nri</td>\n      <td>0.562500</td>\n      <td>101</td>\n      <td>0.8</td>\n      <td>0.1</td>\n      <td>0.1</td>\n      <td>0.8</td>\n      <td>4</td>\n    </tr>\n    <tr>\n      <th>12</th>\n      <td>nri</td>\n      <td>0.625000</td>\n      <td>33</td>\n      <td>0.8</td>\n      <td>0.1</td>\n      <td>0.1</td>\n      <td>0.8</td>\n      <td>4</td>\n    </tr>\n    <tr>\n      <th>13</th>\n      <td>nri</td>\n      <td>0.625000</td>\n      <td>12</td>\n      <td>0.8</td>\n      <td>0.1</td>\n      <td>0.1</td>\n      <td>0.8</td>\n      <td>4</td>\n    </tr>\n    <tr>\n      <th>14</th>\n      <td>nri</td>\n      <td>0.687500</td>\n      <td>0</td>\n      <td>0.8</td>\n      <td>0.1</td>\n      <td>0.1</td>\n      <td>0.8</td>\n      <td>4</td>\n    </tr>\n    <tr>\n      <th>15</th>\n      <td>nri</td>\n      <td>0.800000</td>\n      <td>1</td>\n      <td>0.8</td>\n      <td>0.1</td>\n      <td>0.1</td>\n      <td>0.8</td>\n      <td>5</td>\n    </tr>\n    <tr>\n      <th>16</th>\n      <td>nri</td>\n      <td>0.720000</td>\n      <td>101</td>\n      <td>0.8</td>\n      <td>0.1</td>\n      <td>0.1</td>\n      <td>0.8</td>\n      <td>5</td>\n    </tr>\n    <tr>\n      <th>17</th>\n      <td>nri</td>\n      <td>0.760000</td>\n      <td>33</td>\n      <td>0.8</td>\n      <td>0.1</td>\n      <td>0.1</td>\n      <td>0.8</td>\n      <td>5</td>\n    </tr>\n  </tbody>\n</table>\n</div>"
     },
     "execution_count": 10,
     "metadata": {},
     "output_type": "execute_result"
    }
   ],
   "source": [
    "df = pd.DataFrame(data=results)\n",
    "df"
   ],
   "metadata": {
    "collapsed": false,
    "pycharm": {
     "name": "#%%\n"
    }
   }
  },
  {
   "cell_type": "markdown",
   "source": [
    "# Experiment 4"
   ],
   "metadata": {
    "collapsed": false,
    "pycharm": {
     "name": "#%% md\n"
    }
   }
  },
  {
   "cell_type": "code",
   "execution_count": 11,
   "outputs": [],
   "source": [
    "import pandas as pd"
   ],
   "metadata": {
    "collapsed": false,
    "pycharm": {
     "name": "#%%\n"
    }
   }
  },
  {
   "cell_type": "code",
   "execution_count": 12,
   "outputs": [],
   "source": [
    "# Get data\n",
    "experiment = '4'\n",
    "\n",
    "model_names = ['ngc']\n",
    "result_files = [f'results/{experiment}/{model_name}/results.json' for model_name in model_names]\n",
    "\n",
    "results = {\n",
    "    'models': [],\n",
    "    'accs': [],\n",
    "    'seeds': [],\n",
    "    'c11': [],\n",
    "    'c12': [],\n",
    "    'c21': [],\n",
    "    'c22': [],\n",
    "    'sparsity': [],\n",
    "}\n",
    "\n",
    "experiments = {}\n",
    "for i, result_file_ in enumerate(result_files):\n",
    "    with open(result_file_) as f:\n",
    "        results_file = json.load(f)\n",
    "\n",
    "        results['models'] += [\n",
    "            result_exp['experiment_config']['model'] for result_exp in results_file.values()\n",
    "        ]\n",
    "        results['accs'] += [\n",
    "            result_exp['model_results']['accuracy'] for result_exp in results_file.values()\n",
    "        ]\n",
    "        results['seeds'] += [\n",
    "            result_exp['experiment_config']['seed'] for result_exp in results_file.values()\n",
    "        ]\n",
    "        results['c11'] += [\n",
    "            result_exp['experiment_config']['c11'] for result_exp in results_file.values()\n",
    "        ]\n",
    "        results['c12'] += [\n",
    "            result_exp['experiment_config']['c12'] for result_exp in results_file.values()\n",
    "        ]\n",
    "        results['c21'] += [\n",
    "            result_exp['experiment_config']['c21'] for result_exp in results_file.values()\n",
    "        ]\n",
    "        results['c22'] += [\n",
    "            result_exp['experiment_config']['c22'] for result_exp in results_file.values()\n",
    "        ]\n",
    "        results['sparsity'] += [\n",
    "            result_exp['experiment_config']['sparsity'] for result_exp in results_file.values()\n",
    "        ]"
   ],
   "metadata": {
    "collapsed": false,
    "pycharm": {
     "name": "#%%\n"
    }
   }
  },
  {
   "cell_type": "code",
   "execution_count": 13,
   "outputs": [
    {
     "data": {
      "text/plain": "   models  accs  seeds  c11  c12  c21  c22  sparsity\n0     ngc   1.0      1    0    0    0    0       0.1\n1     ngc   1.0    101    0    0    0    0       0.1\n2     ngc   1.0     33    0    0    0    0       0.1\n3     ngc   1.0     12    0    0    0    0       0.1\n4     ngc   1.0      0    0    0    0    0       0.1\n5     ngc   1.0      1    0    0    0    0       0.2\n6     ngc   1.0    101    0    0    0    0       0.2\n7     ngc   1.0     33    0    0    0    0       0.2\n8     ngc   1.0     12    0    0    0    0       0.2\n9     ngc   1.0      0    0    0    0    0       0.2\n10    ngc   1.0      1    0    0    0    0       0.3\n11    ngc   1.0    101    0    0    0    0       0.3\n12    ngc   1.0     33    0    0    0    0       0.3\n13    ngc   1.0     12    0    0    0    0       0.3\n14    ngc   1.0      0    0    0    0    0       0.3\n15    ngc   1.0      1    0    0    0    0       0.4\n16    ngc   1.0    101    0    0    0    0       0.4\n17    ngc   1.0     33    0    0    0    0       0.4\n18    ngc   1.0     12    0    0    0    0       0.4\n19    ngc   1.0      0    0    0    0    0       0.4\n20    ngc   1.0      1    0    0    0    0       0.5\n21    ngc   1.0    101    0    0    0    0       0.5\n22    ngc   1.0     33    0    0    0    0       0.5\n23    ngc   1.0     12    0    0    0    0       0.5\n24    ngc   1.0      0    0    0    0    0       0.5\n25    ngc   1.0      1    0    0    0    0       0.6\n26    ngc   1.0    101    0    0    0    0       0.6\n27    ngc   1.0     33    0    0    0    0       0.6\n28    ngc   1.0     12    0    0    0    0       0.6\n29    ngc   1.0      0    0    0    0    0       0.6\n30    ngc   1.0      1    0    0    0    0       0.7\n31    ngc   1.0    101    0    0    0    0       0.7\n32    ngc   1.0     33    0    0    0    0       0.7\n33    ngc   1.0     12    0    0    0    0       0.7\n34    ngc   1.0      0    0    0    0    0       0.7\n35    ngc   1.0      1    0    0    0    0       0.8\n36    ngc   1.0    101    0    0    0    0       0.8\n37    ngc   1.0     33    0    0    0    0       0.8\n38    ngc   1.0     12    0    0    0    0       0.8\n39    ngc   1.0      0    0    0    0    0       0.8\n40    ngc   1.0      1    0    0    0    0       0.9\n41    ngc   1.0    101    0    0    0    0       0.9\n42    ngc   1.0     33    0    0    0    0       0.9\n43    ngc   1.0     12    0    0    0    0       0.9\n44    ngc   1.0      0    0    0    0    0       0.9",
      "text/html": "<div>\n<style scoped>\n    .dataframe tbody tr th:only-of-type {\n        vertical-align: middle;\n    }\n\n    .dataframe tbody tr th {\n        vertical-align: top;\n    }\n\n    .dataframe thead th {\n        text-align: right;\n    }\n</style>\n<table border=\"1\" class=\"dataframe\">\n  <thead>\n    <tr style=\"text-align: right;\">\n      <th></th>\n      <th>models</th>\n      <th>accs</th>\n      <th>seeds</th>\n      <th>c11</th>\n      <th>c12</th>\n      <th>c21</th>\n      <th>c22</th>\n      <th>sparsity</th>\n    </tr>\n  </thead>\n  <tbody>\n    <tr>\n      <th>0</th>\n      <td>ngc</td>\n      <td>1.0</td>\n      <td>1</td>\n      <td>0</td>\n      <td>0</td>\n      <td>0</td>\n      <td>0</td>\n      <td>0.1</td>\n    </tr>\n    <tr>\n      <th>1</th>\n      <td>ngc</td>\n      <td>1.0</td>\n      <td>101</td>\n      <td>0</td>\n      <td>0</td>\n      <td>0</td>\n      <td>0</td>\n      <td>0.1</td>\n    </tr>\n    <tr>\n      <th>2</th>\n      <td>ngc</td>\n      <td>1.0</td>\n      <td>33</td>\n      <td>0</td>\n      <td>0</td>\n      <td>0</td>\n      <td>0</td>\n      <td>0.1</td>\n    </tr>\n    <tr>\n      <th>3</th>\n      <td>ngc</td>\n      <td>1.0</td>\n      <td>12</td>\n      <td>0</td>\n      <td>0</td>\n      <td>0</td>\n      <td>0</td>\n      <td>0.1</td>\n    </tr>\n    <tr>\n      <th>4</th>\n      <td>ngc</td>\n      <td>1.0</td>\n      <td>0</td>\n      <td>0</td>\n      <td>0</td>\n      <td>0</td>\n      <td>0</td>\n      <td>0.1</td>\n    </tr>\n    <tr>\n      <th>5</th>\n      <td>ngc</td>\n      <td>1.0</td>\n      <td>1</td>\n      <td>0</td>\n      <td>0</td>\n      <td>0</td>\n      <td>0</td>\n      <td>0.2</td>\n    </tr>\n    <tr>\n      <th>6</th>\n      <td>ngc</td>\n      <td>1.0</td>\n      <td>101</td>\n      <td>0</td>\n      <td>0</td>\n      <td>0</td>\n      <td>0</td>\n      <td>0.2</td>\n    </tr>\n    <tr>\n      <th>7</th>\n      <td>ngc</td>\n      <td>1.0</td>\n      <td>33</td>\n      <td>0</td>\n      <td>0</td>\n      <td>0</td>\n      <td>0</td>\n      <td>0.2</td>\n    </tr>\n    <tr>\n      <th>8</th>\n      <td>ngc</td>\n      <td>1.0</td>\n      <td>12</td>\n      <td>0</td>\n      <td>0</td>\n      <td>0</td>\n      <td>0</td>\n      <td>0.2</td>\n    </tr>\n    <tr>\n      <th>9</th>\n      <td>ngc</td>\n      <td>1.0</td>\n      <td>0</td>\n      <td>0</td>\n      <td>0</td>\n      <td>0</td>\n      <td>0</td>\n      <td>0.2</td>\n    </tr>\n    <tr>\n      <th>10</th>\n      <td>ngc</td>\n      <td>1.0</td>\n      <td>1</td>\n      <td>0</td>\n      <td>0</td>\n      <td>0</td>\n      <td>0</td>\n      <td>0.3</td>\n    </tr>\n    <tr>\n      <th>11</th>\n      <td>ngc</td>\n      <td>1.0</td>\n      <td>101</td>\n      <td>0</td>\n      <td>0</td>\n      <td>0</td>\n      <td>0</td>\n      <td>0.3</td>\n    </tr>\n    <tr>\n      <th>12</th>\n      <td>ngc</td>\n      <td>1.0</td>\n      <td>33</td>\n      <td>0</td>\n      <td>0</td>\n      <td>0</td>\n      <td>0</td>\n      <td>0.3</td>\n    </tr>\n    <tr>\n      <th>13</th>\n      <td>ngc</td>\n      <td>1.0</td>\n      <td>12</td>\n      <td>0</td>\n      <td>0</td>\n      <td>0</td>\n      <td>0</td>\n      <td>0.3</td>\n    </tr>\n    <tr>\n      <th>14</th>\n      <td>ngc</td>\n      <td>1.0</td>\n      <td>0</td>\n      <td>0</td>\n      <td>0</td>\n      <td>0</td>\n      <td>0</td>\n      <td>0.3</td>\n    </tr>\n    <tr>\n      <th>15</th>\n      <td>ngc</td>\n      <td>1.0</td>\n      <td>1</td>\n      <td>0</td>\n      <td>0</td>\n      <td>0</td>\n      <td>0</td>\n      <td>0.4</td>\n    </tr>\n    <tr>\n      <th>16</th>\n      <td>ngc</td>\n      <td>1.0</td>\n      <td>101</td>\n      <td>0</td>\n      <td>0</td>\n      <td>0</td>\n      <td>0</td>\n      <td>0.4</td>\n    </tr>\n    <tr>\n      <th>17</th>\n      <td>ngc</td>\n      <td>1.0</td>\n      <td>33</td>\n      <td>0</td>\n      <td>0</td>\n      <td>0</td>\n      <td>0</td>\n      <td>0.4</td>\n    </tr>\n    <tr>\n      <th>18</th>\n      <td>ngc</td>\n      <td>1.0</td>\n      <td>12</td>\n      <td>0</td>\n      <td>0</td>\n      <td>0</td>\n      <td>0</td>\n      <td>0.4</td>\n    </tr>\n    <tr>\n      <th>19</th>\n      <td>ngc</td>\n      <td>1.0</td>\n      <td>0</td>\n      <td>0</td>\n      <td>0</td>\n      <td>0</td>\n      <td>0</td>\n      <td>0.4</td>\n    </tr>\n    <tr>\n      <th>20</th>\n      <td>ngc</td>\n      <td>1.0</td>\n      <td>1</td>\n      <td>0</td>\n      <td>0</td>\n      <td>0</td>\n      <td>0</td>\n      <td>0.5</td>\n    </tr>\n    <tr>\n      <th>21</th>\n      <td>ngc</td>\n      <td>1.0</td>\n      <td>101</td>\n      <td>0</td>\n      <td>0</td>\n      <td>0</td>\n      <td>0</td>\n      <td>0.5</td>\n    </tr>\n    <tr>\n      <th>22</th>\n      <td>ngc</td>\n      <td>1.0</td>\n      <td>33</td>\n      <td>0</td>\n      <td>0</td>\n      <td>0</td>\n      <td>0</td>\n      <td>0.5</td>\n    </tr>\n    <tr>\n      <th>23</th>\n      <td>ngc</td>\n      <td>1.0</td>\n      <td>12</td>\n      <td>0</td>\n      <td>0</td>\n      <td>0</td>\n      <td>0</td>\n      <td>0.5</td>\n    </tr>\n    <tr>\n      <th>24</th>\n      <td>ngc</td>\n      <td>1.0</td>\n      <td>0</td>\n      <td>0</td>\n      <td>0</td>\n      <td>0</td>\n      <td>0</td>\n      <td>0.5</td>\n    </tr>\n    <tr>\n      <th>25</th>\n      <td>ngc</td>\n      <td>1.0</td>\n      <td>1</td>\n      <td>0</td>\n      <td>0</td>\n      <td>0</td>\n      <td>0</td>\n      <td>0.6</td>\n    </tr>\n    <tr>\n      <th>26</th>\n      <td>ngc</td>\n      <td>1.0</td>\n      <td>101</td>\n      <td>0</td>\n      <td>0</td>\n      <td>0</td>\n      <td>0</td>\n      <td>0.6</td>\n    </tr>\n    <tr>\n      <th>27</th>\n      <td>ngc</td>\n      <td>1.0</td>\n      <td>33</td>\n      <td>0</td>\n      <td>0</td>\n      <td>0</td>\n      <td>0</td>\n      <td>0.6</td>\n    </tr>\n    <tr>\n      <th>28</th>\n      <td>ngc</td>\n      <td>1.0</td>\n      <td>12</td>\n      <td>0</td>\n      <td>0</td>\n      <td>0</td>\n      <td>0</td>\n      <td>0.6</td>\n    </tr>\n    <tr>\n      <th>29</th>\n      <td>ngc</td>\n      <td>1.0</td>\n      <td>0</td>\n      <td>0</td>\n      <td>0</td>\n      <td>0</td>\n      <td>0</td>\n      <td>0.6</td>\n    </tr>\n    <tr>\n      <th>30</th>\n      <td>ngc</td>\n      <td>1.0</td>\n      <td>1</td>\n      <td>0</td>\n      <td>0</td>\n      <td>0</td>\n      <td>0</td>\n      <td>0.7</td>\n    </tr>\n    <tr>\n      <th>31</th>\n      <td>ngc</td>\n      <td>1.0</td>\n      <td>101</td>\n      <td>0</td>\n      <td>0</td>\n      <td>0</td>\n      <td>0</td>\n      <td>0.7</td>\n    </tr>\n    <tr>\n      <th>32</th>\n      <td>ngc</td>\n      <td>1.0</td>\n      <td>33</td>\n      <td>0</td>\n      <td>0</td>\n      <td>0</td>\n      <td>0</td>\n      <td>0.7</td>\n    </tr>\n    <tr>\n      <th>33</th>\n      <td>ngc</td>\n      <td>1.0</td>\n      <td>12</td>\n      <td>0</td>\n      <td>0</td>\n      <td>0</td>\n      <td>0</td>\n      <td>0.7</td>\n    </tr>\n    <tr>\n      <th>34</th>\n      <td>ngc</td>\n      <td>1.0</td>\n      <td>0</td>\n      <td>0</td>\n      <td>0</td>\n      <td>0</td>\n      <td>0</td>\n      <td>0.7</td>\n    </tr>\n    <tr>\n      <th>35</th>\n      <td>ngc</td>\n      <td>1.0</td>\n      <td>1</td>\n      <td>0</td>\n      <td>0</td>\n      <td>0</td>\n      <td>0</td>\n      <td>0.8</td>\n    </tr>\n    <tr>\n      <th>36</th>\n      <td>ngc</td>\n      <td>1.0</td>\n      <td>101</td>\n      <td>0</td>\n      <td>0</td>\n      <td>0</td>\n      <td>0</td>\n      <td>0.8</td>\n    </tr>\n    <tr>\n      <th>37</th>\n      <td>ngc</td>\n      <td>1.0</td>\n      <td>33</td>\n      <td>0</td>\n      <td>0</td>\n      <td>0</td>\n      <td>0</td>\n      <td>0.8</td>\n    </tr>\n    <tr>\n      <th>38</th>\n      <td>ngc</td>\n      <td>1.0</td>\n      <td>12</td>\n      <td>0</td>\n      <td>0</td>\n      <td>0</td>\n      <td>0</td>\n      <td>0.8</td>\n    </tr>\n    <tr>\n      <th>39</th>\n      <td>ngc</td>\n      <td>1.0</td>\n      <td>0</td>\n      <td>0</td>\n      <td>0</td>\n      <td>0</td>\n      <td>0</td>\n      <td>0.8</td>\n    </tr>\n    <tr>\n      <th>40</th>\n      <td>ngc</td>\n      <td>1.0</td>\n      <td>1</td>\n      <td>0</td>\n      <td>0</td>\n      <td>0</td>\n      <td>0</td>\n      <td>0.9</td>\n    </tr>\n    <tr>\n      <th>41</th>\n      <td>ngc</td>\n      <td>1.0</td>\n      <td>101</td>\n      <td>0</td>\n      <td>0</td>\n      <td>0</td>\n      <td>0</td>\n      <td>0.9</td>\n    </tr>\n    <tr>\n      <th>42</th>\n      <td>ngc</td>\n      <td>1.0</td>\n      <td>33</td>\n      <td>0</td>\n      <td>0</td>\n      <td>0</td>\n      <td>0</td>\n      <td>0.9</td>\n    </tr>\n    <tr>\n      <th>43</th>\n      <td>ngc</td>\n      <td>1.0</td>\n      <td>12</td>\n      <td>0</td>\n      <td>0</td>\n      <td>0</td>\n      <td>0</td>\n      <td>0.9</td>\n    </tr>\n    <tr>\n      <th>44</th>\n      <td>ngc</td>\n      <td>1.0</td>\n      <td>0</td>\n      <td>0</td>\n      <td>0</td>\n      <td>0</td>\n      <td>0</td>\n      <td>0.9</td>\n    </tr>\n  </tbody>\n</table>\n</div>"
     },
     "execution_count": 13,
     "metadata": {},
     "output_type": "execute_result"
    }
   ],
   "source": [
    "df = pd.DataFrame(data=results)\n",
    "df"
   ],
   "metadata": {
    "collapsed": false,
    "pycharm": {
     "name": "#%%\n"
    }
   }
  },
  {
   "cell_type": "code",
   "execution_count": null,
   "outputs": [],
   "source": [],
   "metadata": {
    "collapsed": false,
    "pycharm": {
     "name": "#%%\n"
    }
   }
  },
  {
   "cell_type": "markdown",
   "source": [
    "# Experiment 5"
   ],
   "metadata": {
    "collapsed": false,
    "pycharm": {
     "name": "#%% md\n"
    }
   }
  },
  {
   "cell_type": "code",
   "execution_count": 3,
   "outputs": [],
   "source": [
    "import pandas as pd\n",
    "import json"
   ],
   "metadata": {
    "collapsed": false,
    "pycharm": {
     "name": "#%%\n"
    }
   }
  },
  {
   "cell_type": "code",
   "execution_count": 4,
   "outputs": [],
   "source": [
    "# Get data\n",
    "experiment = '5'\n",
    "experiments = ['5a', '5b', '5c', '5d']\n",
    "\n",
    "model_names = ['ngc', 'ngc0', 'nri', 'tvar']\n",
    "result_files = [f'results/{experiment}/{ex}/{model_name}/results.json' for model_name in model_names for ex in experiments]\n",
    "\n",
    "results = {\n",
    "    'models': [],\n",
    "    'accs': [],\n",
    "    'seeds': [],\n",
    "    'c11': [],\n",
    "    'c12': [],\n",
    "    'c21': [],\n",
    "    'c22': []\n",
    "}\n",
    "\n",
    "experiments = {}\n",
    "for i, result_file_ in enumerate(result_files):\n",
    "    with open(result_file_) as f:\n",
    "        results_file = json.load(f)\n",
    "\n",
    "        results['models'] += [\n",
    "            result_exp['experiment_config']['model'] for result_exp in results_file.values()\n",
    "        ]\n",
    "        results['accs'] += [\n",
    "            result_exp['model_results']['accuracy'] for result_exp in results_file.values()\n",
    "        ]\n",
    "        results['seeds'] += [\n",
    "            result_exp['experiment_config']['seed'] for result_exp in results_file.values()\n",
    "        ]\n",
    "        results['c11'] += [\n",
    "            result_exp['experiment_config']['c11'] for result_exp in results_file.values()\n",
    "        ]\n",
    "        results['c12'] += [\n",
    "            result_exp['experiment_config']['c12'] for result_exp in results_file.values()\n",
    "        ]\n",
    "        results['c21'] += [\n",
    "            result_exp['experiment_config']['c21'] for result_exp in results_file.values()\n",
    "        ]\n",
    "        results['c22'] += [\n",
    "            result_exp['experiment_config']['c22'] for result_exp in results_file.values()\n",
    "        ]"
   ],
   "metadata": {
    "collapsed": false,
    "pycharm": {
     "name": "#%%\n"
    }
   }
  },
  {
   "cell_type": "code",
   "execution_count": 6,
   "outputs": [
    {
     "data": {
      "text/plain": "   models  accs  seeds  c11  c12  c21  c22\n0     ngc  0.75      1  0.9  0.4  0.0  0.9\n1     ngc  0.75    101  0.9  0.4  0.0  0.9\n2     ngc  0.75     33  0.9  0.4  0.0  0.9\n3     ngc  0.75     12  0.9  0.4  0.0  0.9\n4     ngc  0.75      0  0.9  0.4  0.0  0.9\n..    ...   ...    ...  ...  ...  ...  ...\n75   tvar  0.50      1  0.9  0.0  0.0  0.9\n76   tvar  0.50    101  0.9  0.0  0.0  0.9\n77   tvar  0.25     33  0.9  0.0  0.0  0.9\n78   tvar  0.50     12  0.9  0.0  0.0  0.9\n79   tvar  0.25      0  0.9  0.0  0.0  0.9\n\n[80 rows x 7 columns]",
      "text/html": "<div>\n<style scoped>\n    .dataframe tbody tr th:only-of-type {\n        vertical-align: middle;\n    }\n\n    .dataframe tbody tr th {\n        vertical-align: top;\n    }\n\n    .dataframe thead th {\n        text-align: right;\n    }\n</style>\n<table border=\"1\" class=\"dataframe\">\n  <thead>\n    <tr style=\"text-align: right;\">\n      <th></th>\n      <th>models</th>\n      <th>accs</th>\n      <th>seeds</th>\n      <th>c11</th>\n      <th>c12</th>\n      <th>c21</th>\n      <th>c22</th>\n    </tr>\n  </thead>\n  <tbody>\n    <tr>\n      <th>0</th>\n      <td>ngc</td>\n      <td>0.75</td>\n      <td>1</td>\n      <td>0.9</td>\n      <td>0.4</td>\n      <td>0.0</td>\n      <td>0.9</td>\n    </tr>\n    <tr>\n      <th>1</th>\n      <td>ngc</td>\n      <td>0.75</td>\n      <td>101</td>\n      <td>0.9</td>\n      <td>0.4</td>\n      <td>0.0</td>\n      <td>0.9</td>\n    </tr>\n    <tr>\n      <th>2</th>\n      <td>ngc</td>\n      <td>0.75</td>\n      <td>33</td>\n      <td>0.9</td>\n      <td>0.4</td>\n      <td>0.0</td>\n      <td>0.9</td>\n    </tr>\n    <tr>\n      <th>3</th>\n      <td>ngc</td>\n      <td>0.75</td>\n      <td>12</td>\n      <td>0.9</td>\n      <td>0.4</td>\n      <td>0.0</td>\n      <td>0.9</td>\n    </tr>\n    <tr>\n      <th>4</th>\n      <td>ngc</td>\n      <td>0.75</td>\n      <td>0</td>\n      <td>0.9</td>\n      <td>0.4</td>\n      <td>0.0</td>\n      <td>0.9</td>\n    </tr>\n    <tr>\n      <th>...</th>\n      <td>...</td>\n      <td>...</td>\n      <td>...</td>\n      <td>...</td>\n      <td>...</td>\n      <td>...</td>\n      <td>...</td>\n    </tr>\n    <tr>\n      <th>75</th>\n      <td>tvar</td>\n      <td>0.50</td>\n      <td>1</td>\n      <td>0.9</td>\n      <td>0.0</td>\n      <td>0.0</td>\n      <td>0.9</td>\n    </tr>\n    <tr>\n      <th>76</th>\n      <td>tvar</td>\n      <td>0.50</td>\n      <td>101</td>\n      <td>0.9</td>\n      <td>0.0</td>\n      <td>0.0</td>\n      <td>0.9</td>\n    </tr>\n    <tr>\n      <th>77</th>\n      <td>tvar</td>\n      <td>0.25</td>\n      <td>33</td>\n      <td>0.9</td>\n      <td>0.0</td>\n      <td>0.0</td>\n      <td>0.9</td>\n    </tr>\n    <tr>\n      <th>78</th>\n      <td>tvar</td>\n      <td>0.50</td>\n      <td>12</td>\n      <td>0.9</td>\n      <td>0.0</td>\n      <td>0.0</td>\n      <td>0.9</td>\n    </tr>\n    <tr>\n      <th>79</th>\n      <td>tvar</td>\n      <td>0.25</td>\n      <td>0</td>\n      <td>0.9</td>\n      <td>0.0</td>\n      <td>0.0</td>\n      <td>0.9</td>\n    </tr>\n  </tbody>\n</table>\n<p>80 rows × 7 columns</p>\n</div>"
     },
     "execution_count": 6,
     "metadata": {},
     "output_type": "execute_result"
    }
   ],
   "source": [
    "df = pd.DataFrame(data=results)\n",
    "df.to_csv(f'results/5/processed_results_{experiment}.csv')\n",
    "df"
   ],
   "metadata": {
    "collapsed": false,
    "pycharm": {
     "name": "#%%\n"
    }
   }
  },
  {
   "cell_type": "code",
   "execution_count": 8,
   "outputs": [
    {
     "data": {
      "text/plain": "   models  accs  seeds  c11  c12  c21  c22\n0     ngc  0.75      1  0.9  0.4  0.0  0.9\n1     ngc  0.75    101  0.9  0.4  0.0  0.9\n2     ngc  0.75     33  0.9  0.4  0.0  0.9\n3     ngc  0.75     12  0.9  0.4  0.0  0.9\n4     ngc  0.75      0  0.9  0.4  0.0  0.9\n..    ...   ...    ...  ...  ...  ...  ...\n75   tvar  0.50      1  0.9  0.0  0.0  0.9\n76   tvar  0.50    101  0.9  0.0  0.0  0.9\n77   tvar  0.25     33  0.9  0.0  0.0  0.9\n78   tvar  0.50     12  0.9  0.0  0.0  0.9\n79   tvar  0.25      0  0.9  0.0  0.0  0.9\n\n[80 rows x 7 columns]",
      "text/html": "<div>\n<style scoped>\n    .dataframe tbody tr th:only-of-type {\n        vertical-align: middle;\n    }\n\n    .dataframe tbody tr th {\n        vertical-align: top;\n    }\n\n    .dataframe thead th {\n        text-align: right;\n    }\n</style>\n<table border=\"1\" class=\"dataframe\">\n  <thead>\n    <tr style=\"text-align: right;\">\n      <th></th>\n      <th>models</th>\n      <th>accs</th>\n      <th>seeds</th>\n      <th>c11</th>\n      <th>c12</th>\n      <th>c21</th>\n      <th>c22</th>\n    </tr>\n  </thead>\n  <tbody>\n    <tr>\n      <th>0</th>\n      <td>ngc</td>\n      <td>0.75</td>\n      <td>1</td>\n      <td>0.9</td>\n      <td>0.4</td>\n      <td>0.0</td>\n      <td>0.9</td>\n    </tr>\n    <tr>\n      <th>1</th>\n      <td>ngc</td>\n      <td>0.75</td>\n      <td>101</td>\n      <td>0.9</td>\n      <td>0.4</td>\n      <td>0.0</td>\n      <td>0.9</td>\n    </tr>\n    <tr>\n      <th>2</th>\n      <td>ngc</td>\n      <td>0.75</td>\n      <td>33</td>\n      <td>0.9</td>\n      <td>0.4</td>\n      <td>0.0</td>\n      <td>0.9</td>\n    </tr>\n    <tr>\n      <th>3</th>\n      <td>ngc</td>\n      <td>0.75</td>\n      <td>12</td>\n      <td>0.9</td>\n      <td>0.4</td>\n      <td>0.0</td>\n      <td>0.9</td>\n    </tr>\n    <tr>\n      <th>4</th>\n      <td>ngc</td>\n      <td>0.75</td>\n      <td>0</td>\n      <td>0.9</td>\n      <td>0.4</td>\n      <td>0.0</td>\n      <td>0.9</td>\n    </tr>\n    <tr>\n      <th>...</th>\n      <td>...</td>\n      <td>...</td>\n      <td>...</td>\n      <td>...</td>\n      <td>...</td>\n      <td>...</td>\n      <td>...</td>\n    </tr>\n    <tr>\n      <th>75</th>\n      <td>tvar</td>\n      <td>0.50</td>\n      <td>1</td>\n      <td>0.9</td>\n      <td>0.0</td>\n      <td>0.0</td>\n      <td>0.9</td>\n    </tr>\n    <tr>\n      <th>76</th>\n      <td>tvar</td>\n      <td>0.50</td>\n      <td>101</td>\n      <td>0.9</td>\n      <td>0.0</td>\n      <td>0.0</td>\n      <td>0.9</td>\n    </tr>\n    <tr>\n      <th>77</th>\n      <td>tvar</td>\n      <td>0.25</td>\n      <td>33</td>\n      <td>0.9</td>\n      <td>0.0</td>\n      <td>0.0</td>\n      <td>0.9</td>\n    </tr>\n    <tr>\n      <th>78</th>\n      <td>tvar</td>\n      <td>0.50</td>\n      <td>12</td>\n      <td>0.9</td>\n      <td>0.0</td>\n      <td>0.0</td>\n      <td>0.9</td>\n    </tr>\n    <tr>\n      <th>79</th>\n      <td>tvar</td>\n      <td>0.25</td>\n      <td>0</td>\n      <td>0.9</td>\n      <td>0.0</td>\n      <td>0.0</td>\n      <td>0.9</td>\n    </tr>\n  </tbody>\n</table>\n<p>80 rows × 7 columns</p>\n</div>"
     },
     "execution_count": 8,
     "metadata": {},
     "output_type": "execute_result"
    }
   ],
   "source": [
    "df = pd.read_csv(f'results/5/processed_results_{experiment}.csv', index_col='Unnamed: 0')\n",
    "df"
   ],
   "metadata": {
    "collapsed": false,
    "pycharm": {
     "name": "#%%\n"
    }
   }
  },
  {
   "cell_type": "code",
   "execution_count": null,
   "outputs": [],
   "source": [],
   "metadata": {
    "collapsed": false,
    "pycharm": {
     "name": "#%%\n"
    }
   }
  }
 ],
 "metadata": {
  "kernelspec": {
   "display_name": "Python 3",
   "language": "python",
   "name": "python3"
  },
  "language_info": {
   "codemirror_mode": {
    "name": "ipython",
    "version": 2
   },
   "file_extension": ".py",
   "mimetype": "text/x-python",
   "name": "python",
   "nbconvert_exporter": "python",
   "pygments_lexer": "ipython2",
   "version": "2.7.6"
  }
 },
 "nbformat": 4,
 "nbformat_minor": 0
}