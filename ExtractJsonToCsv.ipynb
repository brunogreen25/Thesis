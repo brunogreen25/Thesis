{
 "cells": [
  {
   "cell_type": "code",
   "execution_count": 206,
   "outputs": [],
   "source": [
    "import numpy as np\n",
    "import pandas as pd\n",
    "import os\n",
    "\n",
    "# Load Ground Truth connections for real data\n",
    "connection_files = [f'data/connections/{data_size}/{file}' for data_size in os.listdir('data/connections') for file in os.listdir(os.path.join('data/connections', data_size))]\n",
    "\n",
    "connections = {file.split('/')[-2]+'_'+file.split('/')[-1].split('.')[0]: np.array(pd.read_csv(file, index_col='Unnamed: 0'), dtype=np.int64) for file in connection_files}"
   ],
   "metadata": {
    "collapsed": false,
    "pycharm": {
     "name": "#%%\n"
    }
   }
  },
  {
   "cell_type": "code",
   "execution_count": 207,
   "outputs": [],
   "source": [
    "def accuracy(GC_est, GC_gt):\n",
    "    return sum(GC_est.ravel() == GC_gt.ravel()) / len(GC_est.ravel())\n",
    "\n",
    "def calculate_real_data_accuracy(GC_est, experiment_name):\n",
    "    global connections\n",
    "    # Get connections for this experiment\n",
    "    if experiment_name.startswith('6') or experiment_name.startswith('7'):\n",
    "        connections = {k:v for (k,v) in connections.items() if k.startswith('full_dataset')}\n",
    "    elif experiment_name.startswith('8'):\n",
    "        connections = {k:v for (k,v) in connections.items() if k.startswith('part_dataset')}\n",
    "    else:\n",
    "        raise FileNotFoundError(\"There is no connectivity matrix for this experiment.\")\n",
    "\n",
    "    GC_est_np = np.array(GC_est)\n",
    "    accs = {connection_name+'_acc':accuracy(GC_est_np, connection) for (connection_name, connection) in connections.items()}\n",
    "    return accs"
   ],
   "metadata": {
    "collapsed": false,
    "pycharm": {
     "name": "#%%\n"
    }
   }
  },
  {
   "cell_type": "code",
   "execution_count": 208,
   "outputs": [],
   "source": [
    "import json\n",
    "import os\n",
    "\n",
    "def get_results(experiment: str, attrs: list, result_files: list = None):\n",
    "    if result_files is None:\n",
    "        path = f'results/{experiment}'\n",
    "        result_files = [f'results/{experiment}/{model_name}/results.json' for model_name in os.listdir(path) if os.path.isdir(os.path.join(path, model_name))]\n",
    "\n",
    "    results = {}\n",
    "    for i, result_file_ in enumerate(result_files):\n",
    "        with open(result_file_) as f:\n",
    "            results_file = json.load(f)\n",
    "\n",
    "            for config_part, attr in attrs:\n",
    "                # To calculate accuracy for real data\n",
    "                if (experiment.startswith('6') or experiment.startswith('7') or experiment.startswith('8')) and attr == 'accuracy':\n",
    "                    # Calculate accuracies for different graphs and different experiments in this file\n",
    "                    experiments_accs = [calculate_real_data_accuracy(results['model_results']['GC_est'], experiment) for results in results_file.values()]\n",
    "\n",
    "                    # Reformat the accuracies\n",
    "                    accs = {k: [] for k in experiments_accs[0].keys()}\n",
    "                    for experiment_accs in experiments_accs:\n",
    "                        for acc_type, acc_value in experiment_accs.items():\n",
    "                            accs[acc_type].append(acc_value)\n",
    "\n",
    "                    # Add accuracies to the results\n",
    "                    for acc_type, acc_vals in accs.items():\n",
    "                        if acc_type not in results:\n",
    "                            results[acc_type] = acc_vals\n",
    "                        else:\n",
    "                            results[acc_type] += acc_vals\n",
    "\n",
    "                    continue\n",
    "\n",
    "                # To get the rest of desired experiment results\n",
    "                l = [result_exp[config_part][attr] for result_exp in results_file.values() if result_exp['experiment_config']['c11'] == result_exp['experiment_config']['c22']] \\\n",
    "                    if experiment.startswith('1') else [result_exp[config_part][attr] for result_exp in results_file.values()]\n",
    "                if attr in results:\n",
    "                    results[attr] += l\n",
    "                else:\n",
    "                    results[attr] = l\n",
    "\n",
    "    return results"
   ],
   "metadata": {
    "collapsed": false,
    "pycharm": {
     "name": "#%%\n"
    }
   }
  },
  {
   "cell_type": "markdown",
   "source": [
    "# Experiment 0"
   ],
   "metadata": {
    "collapsed": false,
    "pycharm": {
     "name": "#%% md\n"
    }
   }
  },
  {
   "cell_type": "code",
   "execution_count": 219,
   "outputs": [],
   "source": [
    "import pandas as pd\n",
    "\n",
    "save_loaded_results = False"
   ],
   "metadata": {
    "collapsed": false,
    "pycharm": {
     "name": "#%%\n"
    }
   }
  },
  {
   "cell_type": "code",
   "execution_count": 217,
   "outputs": [],
   "source": [
    "# Get data\n",
    "experiment = '0'\n",
    "attrs = [\n",
    "    ('experiment_config', 'model'),\n",
    "    ('model_results', 'accuracy'),\n",
    "    ('experiment_config', 'seed'),\n",
    "    ('experiment_config', 'trainset_size'),\n",
    "    ('experiment_config', 'tvt_split')\n",
    "]\n",
    "\n",
    "results = get_results(experiment, attrs)"
   ],
   "metadata": {
    "collapsed": false,
    "pycharm": {
     "name": "#%%\n"
    }
   }
  },
  {
   "cell_type": "code",
   "execution_count": 218,
   "outputs": [
    {
     "data": {
      "text/plain": "    model  accuracy  seed  trainset_size  tvt_split\n0     ngc      0.75     1            500        0.1\n1     ngc      1.00   101            500        0.1\n2     ngc      1.00    33            500        0.1\n3     ngc      0.75    12            500        0.1\n4     ngc      1.00     0            500        0.1\n..    ...       ...   ...            ...        ...\n595  tvar      1.00     1           5000        1.0\n596  tvar      1.00   101           5000        1.0\n597  tvar      1.00    33           5000        1.0\n598  tvar      1.00    12           5000        1.0\n599  tvar      1.00     0           5000        1.0\n\n[600 rows x 5 columns]",
      "text/html": "<div>\n<style scoped>\n    .dataframe tbody tr th:only-of-type {\n        vertical-align: middle;\n    }\n\n    .dataframe tbody tr th {\n        vertical-align: top;\n    }\n\n    .dataframe thead th {\n        text-align: right;\n    }\n</style>\n<table border=\"1\" class=\"dataframe\">\n  <thead>\n    <tr style=\"text-align: right;\">\n      <th></th>\n      <th>model</th>\n      <th>accuracy</th>\n      <th>seed</th>\n      <th>trainset_size</th>\n      <th>tvt_split</th>\n    </tr>\n  </thead>\n  <tbody>\n    <tr>\n      <th>0</th>\n      <td>ngc</td>\n      <td>0.75</td>\n      <td>1</td>\n      <td>500</td>\n      <td>0.1</td>\n    </tr>\n    <tr>\n      <th>1</th>\n      <td>ngc</td>\n      <td>1.00</td>\n      <td>101</td>\n      <td>500</td>\n      <td>0.1</td>\n    </tr>\n    <tr>\n      <th>2</th>\n      <td>ngc</td>\n      <td>1.00</td>\n      <td>33</td>\n      <td>500</td>\n      <td>0.1</td>\n    </tr>\n    <tr>\n      <th>3</th>\n      <td>ngc</td>\n      <td>0.75</td>\n      <td>12</td>\n      <td>500</td>\n      <td>0.1</td>\n    </tr>\n    <tr>\n      <th>4</th>\n      <td>ngc</td>\n      <td>1.00</td>\n      <td>0</td>\n      <td>500</td>\n      <td>0.1</td>\n    </tr>\n    <tr>\n      <th>...</th>\n      <td>...</td>\n      <td>...</td>\n      <td>...</td>\n      <td>...</td>\n      <td>...</td>\n    </tr>\n    <tr>\n      <th>595</th>\n      <td>tvar</td>\n      <td>1.00</td>\n      <td>1</td>\n      <td>5000</td>\n      <td>1.0</td>\n    </tr>\n    <tr>\n      <th>596</th>\n      <td>tvar</td>\n      <td>1.00</td>\n      <td>101</td>\n      <td>5000</td>\n      <td>1.0</td>\n    </tr>\n    <tr>\n      <th>597</th>\n      <td>tvar</td>\n      <td>1.00</td>\n      <td>33</td>\n      <td>5000</td>\n      <td>1.0</td>\n    </tr>\n    <tr>\n      <th>598</th>\n      <td>tvar</td>\n      <td>1.00</td>\n      <td>12</td>\n      <td>5000</td>\n      <td>1.0</td>\n    </tr>\n    <tr>\n      <th>599</th>\n      <td>tvar</td>\n      <td>1.00</td>\n      <td>0</td>\n      <td>5000</td>\n      <td>1.0</td>\n    </tr>\n  </tbody>\n</table>\n<p>600 rows × 5 columns</p>\n</div>"
     },
     "execution_count": 218,
     "metadata": {},
     "output_type": "execute_result"
    }
   ],
   "source": [
    "# Save data in csv\n",
    "df = pd.DataFrame(data=results)\n",
    "if save_loaded_results:\n",
    "    df.to_csv(f'results/{experiment}/processed_results_{experiment}.csv')\n",
    "    df = pd.read_csv(f'results/{experiment}/processed_results_{experiment}.csv', index_col='Unnamed: 0')\n",
    "df"
   ],
   "metadata": {
    "collapsed": false,
    "pycharm": {
     "name": "#%%\n"
    }
   }
  },
  {
   "cell_type": "markdown",
   "source": [
    "# Experiment 1a / 1b / 1c / 1d"
   ],
   "metadata": {
    "collapsed": false,
    "pycharm": {
     "name": "#%% md\n"
    }
   }
  },
  {
   "cell_type": "code",
   "execution_count": 230,
   "outputs": [],
   "source": [
    "import pandas as pd\n",
    "\n",
    "save_loaded_results = False"
   ],
   "metadata": {
    "collapsed": false,
    "pycharm": {
     "name": "#%%\n"
    }
   }
  },
  {
   "cell_type": "code",
   "execution_count": 228,
   "outputs": [
    {
     "data": {
      "text/plain": "dict_keys(['model', 'accuracy', 'seed', 'c11', 'c12', 'c21', 'c22'])"
     },
     "execution_count": 228,
     "metadata": {},
     "output_type": "execute_result"
    }
   ],
   "source": [
    "# Get data\n",
    "experiment = '1a'\n",
    "\n",
    "attrs = [\n",
    "    ('experiment_config', 'model'),\n",
    "    ('model_results', 'accuracy'),\n",
    "    ('experiment_config', 'seed'),\n",
    "    ('experiment_config', 'c11'),\n",
    "    ('experiment_config', 'c12'),\n",
    "    ('experiment_config', 'c21'),\n",
    "    ('experiment_config', 'c22')\n",
    "]\n",
    "\n",
    "results = get_results(experiment, attrs)\n",
    "results.keys()"
   ],
   "metadata": {
    "collapsed": false,
    "pycharm": {
     "name": "#%%\n"
    }
   }
  },
  {
   "cell_type": "code",
   "execution_count": 229,
   "outputs": [
    {
     "data": {
      "text/plain": "    model  accuracy  seed  c11  c12  c21  c22\n0     ngc      1.00     1  0.4  0.0  0.0  0.4\n1     ngc      1.00   101  0.4  0.0  0.0  0.4\n2     ngc      0.50    33  0.4  0.0  0.0  0.4\n3     ngc      0.75    12  0.4  0.0  0.0  0.4\n4     ngc      0.50     0  0.4  0.0  0.0  0.4\n..    ...       ...   ...  ...  ...  ...  ...\n115  tvar      1.00     1  0.4  0.5  0.5  0.4\n116  tvar      1.00   101  0.4  0.5  0.5  0.4\n117  tvar      1.00    33  0.4  0.5  0.5  0.4\n118  tvar      1.00    12  0.4  0.5  0.5  0.4\n119  tvar      1.00     0  0.4  0.5  0.5  0.4\n\n[120 rows x 7 columns]",
      "text/html": "<div>\n<style scoped>\n    .dataframe tbody tr th:only-of-type {\n        vertical-align: middle;\n    }\n\n    .dataframe tbody tr th {\n        vertical-align: top;\n    }\n\n    .dataframe thead th {\n        text-align: right;\n    }\n</style>\n<table border=\"1\" class=\"dataframe\">\n  <thead>\n    <tr style=\"text-align: right;\">\n      <th></th>\n      <th>model</th>\n      <th>accuracy</th>\n      <th>seed</th>\n      <th>c11</th>\n      <th>c12</th>\n      <th>c21</th>\n      <th>c22</th>\n    </tr>\n  </thead>\n  <tbody>\n    <tr>\n      <th>0</th>\n      <td>ngc</td>\n      <td>1.00</td>\n      <td>1</td>\n      <td>0.4</td>\n      <td>0.0</td>\n      <td>0.0</td>\n      <td>0.4</td>\n    </tr>\n    <tr>\n      <th>1</th>\n      <td>ngc</td>\n      <td>1.00</td>\n      <td>101</td>\n      <td>0.4</td>\n      <td>0.0</td>\n      <td>0.0</td>\n      <td>0.4</td>\n    </tr>\n    <tr>\n      <th>2</th>\n      <td>ngc</td>\n      <td>0.50</td>\n      <td>33</td>\n      <td>0.4</td>\n      <td>0.0</td>\n      <td>0.0</td>\n      <td>0.4</td>\n    </tr>\n    <tr>\n      <th>3</th>\n      <td>ngc</td>\n      <td>0.75</td>\n      <td>12</td>\n      <td>0.4</td>\n      <td>0.0</td>\n      <td>0.0</td>\n      <td>0.4</td>\n    </tr>\n    <tr>\n      <th>4</th>\n      <td>ngc</td>\n      <td>0.50</td>\n      <td>0</td>\n      <td>0.4</td>\n      <td>0.0</td>\n      <td>0.0</td>\n      <td>0.4</td>\n    </tr>\n    <tr>\n      <th>...</th>\n      <td>...</td>\n      <td>...</td>\n      <td>...</td>\n      <td>...</td>\n      <td>...</td>\n      <td>...</td>\n      <td>...</td>\n    </tr>\n    <tr>\n      <th>115</th>\n      <td>tvar</td>\n      <td>1.00</td>\n      <td>1</td>\n      <td>0.4</td>\n      <td>0.5</td>\n      <td>0.5</td>\n      <td>0.4</td>\n    </tr>\n    <tr>\n      <th>116</th>\n      <td>tvar</td>\n      <td>1.00</td>\n      <td>101</td>\n      <td>0.4</td>\n      <td>0.5</td>\n      <td>0.5</td>\n      <td>0.4</td>\n    </tr>\n    <tr>\n      <th>117</th>\n      <td>tvar</td>\n      <td>1.00</td>\n      <td>33</td>\n      <td>0.4</td>\n      <td>0.5</td>\n      <td>0.5</td>\n      <td>0.4</td>\n    </tr>\n    <tr>\n      <th>118</th>\n      <td>tvar</td>\n      <td>1.00</td>\n      <td>12</td>\n      <td>0.4</td>\n      <td>0.5</td>\n      <td>0.5</td>\n      <td>0.4</td>\n    </tr>\n    <tr>\n      <th>119</th>\n      <td>tvar</td>\n      <td>1.00</td>\n      <td>0</td>\n      <td>0.4</td>\n      <td>0.5</td>\n      <td>0.5</td>\n      <td>0.4</td>\n    </tr>\n  </tbody>\n</table>\n<p>120 rows × 7 columns</p>\n</div>"
     },
     "execution_count": 229,
     "metadata": {},
     "output_type": "execute_result"
    }
   ],
   "source": [
    "df = pd.DataFrame(data=results)\n",
    "if save_loaded_results:\n",
    "    df.to_csv(f'results/{experiment}/processed_results_{experiment}.csv')\n",
    "    df = pd.read_csv(f'results/{experiment}/processed_results_{experiment}.csv', index_col='Unnamed: 0')\n",
    "df"
   ],
   "metadata": {
    "collapsed": false,
    "pycharm": {
     "name": "#%%\n"
    }
   }
  },
  {
   "cell_type": "markdown",
   "source": [
    "# Experiment 2"
   ],
   "metadata": {
    "collapsed": false,
    "pycharm": {
     "name": "#%% md\n"
    }
   }
  },
  {
   "cell_type": "code",
   "execution_count": 234,
   "outputs": [],
   "source": [
    "import pandas as pd\n",
    "\n",
    "save_loaded_results = False"
   ],
   "metadata": {
    "collapsed": false,
    "pycharm": {
     "name": "#%%\n"
    }
   }
  },
  {
   "cell_type": "code",
   "execution_count": 232,
   "outputs": [
    {
     "data": {
      "text/plain": "dict_keys(['model', 'accuracy', 'seed', 'c11', 'c12', 'c21', 'c22', 'sigma_eta_diag', 'sigma_eta_off_diag'])"
     },
     "execution_count": 232,
     "metadata": {},
     "output_type": "execute_result"
    }
   ],
   "source": [
    "# Get data\n",
    "experiment = '2'\n",
    "\n",
    "attrs = [\n",
    "    ('experiment_config', 'model'),\n",
    "    ('model_results', 'accuracy'),\n",
    "    ('experiment_config', 'seed'),\n",
    "    ('experiment_config', 'c11'),\n",
    "    ('experiment_config', 'c12'),\n",
    "    ('experiment_config', 'c21'),\n",
    "    ('experiment_config', 'c22'),\n",
    "    ('experiment_config', 'sigma_eta_diag'),\n",
    "    ('experiment_config', 'sigma_eta_off_diag')\n",
    "]\n",
    "\n",
    "results = get_results(experiment, attrs)\n",
    "results.keys()"
   ],
   "metadata": {
    "collapsed": false,
    "pycharm": {
     "name": "#%%\n"
    }
   }
  },
  {
   "cell_type": "code",
   "execution_count": 233,
   "outputs": [
    {
     "data": {
      "text/plain": "    model  accuracy  seed  c11  c12  c21  c22  sigma_eta_diag  \\\n0     ngc       1.0     1  0.8  0.0    0  0.8            0.01   \n1     ngc       1.0   101  0.8  0.0    0  0.8            0.01   \n2     ngc       1.0    33  0.8  0.0    0  0.8            0.01   \n3     ngc       1.0    12  0.8  0.0    0  0.8            0.01   \n4     ngc       1.0     0  0.8  0.0    0  0.8            0.01   \n..    ...       ...   ...  ...  ...  ...  ...             ...   \n155  tvar       1.0     1  0.8  0.8    0  0.8            0.02   \n156  tvar       1.0   101  0.8  0.8    0  0.8            0.02   \n157  tvar       1.0    33  0.8  0.8    0  0.8            0.02   \n158  tvar       1.0    12  0.8  0.8    0  0.8            0.02   \n159  tvar       1.0     0  0.8  0.8    0  0.8            0.02   \n\n     sigma_eta_off_diag  \n0                  0.00  \n1                  0.00  \n2                  0.00  \n3                  0.00  \n4                  0.00  \n..                  ...  \n155                0.02  \n156                0.02  \n157                0.02  \n158                0.02  \n159                0.02  \n\n[160 rows x 9 columns]",
      "text/html": "<div>\n<style scoped>\n    .dataframe tbody tr th:only-of-type {\n        vertical-align: middle;\n    }\n\n    .dataframe tbody tr th {\n        vertical-align: top;\n    }\n\n    .dataframe thead th {\n        text-align: right;\n    }\n</style>\n<table border=\"1\" class=\"dataframe\">\n  <thead>\n    <tr style=\"text-align: right;\">\n      <th></th>\n      <th>model</th>\n      <th>accuracy</th>\n      <th>seed</th>\n      <th>c11</th>\n      <th>c12</th>\n      <th>c21</th>\n      <th>c22</th>\n      <th>sigma_eta_diag</th>\n      <th>sigma_eta_off_diag</th>\n    </tr>\n  </thead>\n  <tbody>\n    <tr>\n      <th>0</th>\n      <td>ngc</td>\n      <td>1.0</td>\n      <td>1</td>\n      <td>0.8</td>\n      <td>0.0</td>\n      <td>0</td>\n      <td>0.8</td>\n      <td>0.01</td>\n      <td>0.00</td>\n    </tr>\n    <tr>\n      <th>1</th>\n      <td>ngc</td>\n      <td>1.0</td>\n      <td>101</td>\n      <td>0.8</td>\n      <td>0.0</td>\n      <td>0</td>\n      <td>0.8</td>\n      <td>0.01</td>\n      <td>0.00</td>\n    </tr>\n    <tr>\n      <th>2</th>\n      <td>ngc</td>\n      <td>1.0</td>\n      <td>33</td>\n      <td>0.8</td>\n      <td>0.0</td>\n      <td>0</td>\n      <td>0.8</td>\n      <td>0.01</td>\n      <td>0.00</td>\n    </tr>\n    <tr>\n      <th>3</th>\n      <td>ngc</td>\n      <td>1.0</td>\n      <td>12</td>\n      <td>0.8</td>\n      <td>0.0</td>\n      <td>0</td>\n      <td>0.8</td>\n      <td>0.01</td>\n      <td>0.00</td>\n    </tr>\n    <tr>\n      <th>4</th>\n      <td>ngc</td>\n      <td>1.0</td>\n      <td>0</td>\n      <td>0.8</td>\n      <td>0.0</td>\n      <td>0</td>\n      <td>0.8</td>\n      <td>0.01</td>\n      <td>0.00</td>\n    </tr>\n    <tr>\n      <th>...</th>\n      <td>...</td>\n      <td>...</td>\n      <td>...</td>\n      <td>...</td>\n      <td>...</td>\n      <td>...</td>\n      <td>...</td>\n      <td>...</td>\n      <td>...</td>\n    </tr>\n    <tr>\n      <th>155</th>\n      <td>tvar</td>\n      <td>1.0</td>\n      <td>1</td>\n      <td>0.8</td>\n      <td>0.8</td>\n      <td>0</td>\n      <td>0.8</td>\n      <td>0.02</td>\n      <td>0.02</td>\n    </tr>\n    <tr>\n      <th>156</th>\n      <td>tvar</td>\n      <td>1.0</td>\n      <td>101</td>\n      <td>0.8</td>\n      <td>0.8</td>\n      <td>0</td>\n      <td>0.8</td>\n      <td>0.02</td>\n      <td>0.02</td>\n    </tr>\n    <tr>\n      <th>157</th>\n      <td>tvar</td>\n      <td>1.0</td>\n      <td>33</td>\n      <td>0.8</td>\n      <td>0.8</td>\n      <td>0</td>\n      <td>0.8</td>\n      <td>0.02</td>\n      <td>0.02</td>\n    </tr>\n    <tr>\n      <th>158</th>\n      <td>tvar</td>\n      <td>1.0</td>\n      <td>12</td>\n      <td>0.8</td>\n      <td>0.8</td>\n      <td>0</td>\n      <td>0.8</td>\n      <td>0.02</td>\n      <td>0.02</td>\n    </tr>\n    <tr>\n      <th>159</th>\n      <td>tvar</td>\n      <td>1.0</td>\n      <td>0</td>\n      <td>0.8</td>\n      <td>0.8</td>\n      <td>0</td>\n      <td>0.8</td>\n      <td>0.02</td>\n      <td>0.02</td>\n    </tr>\n  </tbody>\n</table>\n<p>160 rows × 9 columns</p>\n</div>"
     },
     "execution_count": 233,
     "metadata": {},
     "output_type": "execute_result"
    }
   ],
   "source": [
    "df = pd.DataFrame(data=results)\n",
    "if save_loaded_results:\n",
    "    df.to_csv(f'results/{experiment}/processed_data_{experiment}.csv')\n",
    "    df = pd.read_csv(f'results/{experiment}/processed_data_{experiment}.csv', index_col='Unnamed: 0')\n",
    "df"
   ],
   "metadata": {
    "collapsed": false,
    "pycharm": {
     "name": "#%%\n"
    }
   }
  },
  {
   "cell_type": "markdown",
   "source": [
    "# Experiment 3"
   ],
   "metadata": {
    "collapsed": false,
    "pycharm": {
     "name": "#%% md\n"
    }
   }
  },
  {
   "cell_type": "code",
   "execution_count": 240,
   "outputs": [],
   "source": [
    "import pandas as pd\n",
    "\n",
    "save_loaded_results = False"
   ],
   "metadata": {
    "collapsed": false,
    "pycharm": {
     "name": "#%%\n"
    }
   }
  },
  {
   "cell_type": "code",
   "execution_count": 238,
   "outputs": [
    {
     "data": {
      "text/plain": "dict_keys(['model', 'accuracy', 'seed', 'c11', 'c12', 'c21', 'c22', 'n_data', 'date'])"
     },
     "execution_count": 238,
     "metadata": {},
     "output_type": "execute_result"
    }
   ],
   "source": [
    "# Get data\n",
    "experiment = '3'\n",
    "\n",
    "attrs = [\n",
    "    ('experiment_config', 'model'),\n",
    "    ('model_results', 'accuracy'),\n",
    "    ('experiment_config', 'seed'),\n",
    "    ('experiment_config', 'c11'),\n",
    "    ('experiment_config', 'c12'),\n",
    "    ('experiment_config', 'c21'),\n",
    "    ('experiment_config', 'c22'),\n",
    "    ('experiment_config', 'n_data'),\n",
    "    ('model_results', 'date')\n",
    "]\n",
    "\n",
    "results = get_results(experiment, attrs)\n",
    "results.keys()"
   ],
   "metadata": {
    "collapsed": false,
    "pycharm": {
     "name": "#%%\n"
    }
   }
  },
  {
   "cell_type": "code",
   "execution_count": 239,
   "outputs": [
    {
     "data": {
      "text/plain": "    model  accuracy  seed  c11  c12  c21  c22  n_data                 date\n0     ngc  1.000000     1  0.0  0.0  0.0  0.0       2  23-11-2022 00:40:45\n1     ngc  1.000000   101  0.0  0.0  0.0  0.0       2  23-11-2022 00:43:16\n2     ngc  1.000000    33  0.0  0.0  0.0  0.0       2  23-11-2022 00:45:47\n3     ngc  1.000000    12  0.0  0.0  0.0  0.0       2  23-11-2022 00:48:20\n4     ngc  1.000000     0  0.0  0.0  0.0  0.0       2  23-11-2022 00:50:51\n..    ...       ...   ...  ...  ...  ...  ...     ...                  ...\n155  tvar  1.000000     1  0.8  0.0  0.0  0.8       8  28-11-2022 18:28:16\n156  tvar  1.000000   101  0.8  0.0  0.0  0.8       8  28-11-2022 18:39:55\n157  tvar  0.968750    33  0.8  0.0  0.0  0.8       8  28-11-2022 18:49:37\n158  tvar  0.968750    12  0.8  0.0  0.0  0.8       8  28-11-2022 19:00:35\n159  tvar  0.984375     0  0.8  0.0  0.0  0.8       8  28-11-2022 19:09:23\n\n[160 rows x 9 columns]",
      "text/html": "<div>\n<style scoped>\n    .dataframe tbody tr th:only-of-type {\n        vertical-align: middle;\n    }\n\n    .dataframe tbody tr th {\n        vertical-align: top;\n    }\n\n    .dataframe thead th {\n        text-align: right;\n    }\n</style>\n<table border=\"1\" class=\"dataframe\">\n  <thead>\n    <tr style=\"text-align: right;\">\n      <th></th>\n      <th>model</th>\n      <th>accuracy</th>\n      <th>seed</th>\n      <th>c11</th>\n      <th>c12</th>\n      <th>c21</th>\n      <th>c22</th>\n      <th>n_data</th>\n      <th>date</th>\n    </tr>\n  </thead>\n  <tbody>\n    <tr>\n      <th>0</th>\n      <td>ngc</td>\n      <td>1.000000</td>\n      <td>1</td>\n      <td>0.0</td>\n      <td>0.0</td>\n      <td>0.0</td>\n      <td>0.0</td>\n      <td>2</td>\n      <td>23-11-2022 00:40:45</td>\n    </tr>\n    <tr>\n      <th>1</th>\n      <td>ngc</td>\n      <td>1.000000</td>\n      <td>101</td>\n      <td>0.0</td>\n      <td>0.0</td>\n      <td>0.0</td>\n      <td>0.0</td>\n      <td>2</td>\n      <td>23-11-2022 00:43:16</td>\n    </tr>\n    <tr>\n      <th>2</th>\n      <td>ngc</td>\n      <td>1.000000</td>\n      <td>33</td>\n      <td>0.0</td>\n      <td>0.0</td>\n      <td>0.0</td>\n      <td>0.0</td>\n      <td>2</td>\n      <td>23-11-2022 00:45:47</td>\n    </tr>\n    <tr>\n      <th>3</th>\n      <td>ngc</td>\n      <td>1.000000</td>\n      <td>12</td>\n      <td>0.0</td>\n      <td>0.0</td>\n      <td>0.0</td>\n      <td>0.0</td>\n      <td>2</td>\n      <td>23-11-2022 00:48:20</td>\n    </tr>\n    <tr>\n      <th>4</th>\n      <td>ngc</td>\n      <td>1.000000</td>\n      <td>0</td>\n      <td>0.0</td>\n      <td>0.0</td>\n      <td>0.0</td>\n      <td>0.0</td>\n      <td>2</td>\n      <td>23-11-2022 00:50:51</td>\n    </tr>\n    <tr>\n      <th>...</th>\n      <td>...</td>\n      <td>...</td>\n      <td>...</td>\n      <td>...</td>\n      <td>...</td>\n      <td>...</td>\n      <td>...</td>\n      <td>...</td>\n      <td>...</td>\n    </tr>\n    <tr>\n      <th>155</th>\n      <td>tvar</td>\n      <td>1.000000</td>\n      <td>1</td>\n      <td>0.8</td>\n      <td>0.0</td>\n      <td>0.0</td>\n      <td>0.8</td>\n      <td>8</td>\n      <td>28-11-2022 18:28:16</td>\n    </tr>\n    <tr>\n      <th>156</th>\n      <td>tvar</td>\n      <td>1.000000</td>\n      <td>101</td>\n      <td>0.8</td>\n      <td>0.0</td>\n      <td>0.0</td>\n      <td>0.8</td>\n      <td>8</td>\n      <td>28-11-2022 18:39:55</td>\n    </tr>\n    <tr>\n      <th>157</th>\n      <td>tvar</td>\n      <td>0.968750</td>\n      <td>33</td>\n      <td>0.8</td>\n      <td>0.0</td>\n      <td>0.0</td>\n      <td>0.8</td>\n      <td>8</td>\n      <td>28-11-2022 18:49:37</td>\n    </tr>\n    <tr>\n      <th>158</th>\n      <td>tvar</td>\n      <td>0.968750</td>\n      <td>12</td>\n      <td>0.8</td>\n      <td>0.0</td>\n      <td>0.0</td>\n      <td>0.8</td>\n      <td>8</td>\n      <td>28-11-2022 19:00:35</td>\n    </tr>\n    <tr>\n      <th>159</th>\n      <td>tvar</td>\n      <td>0.984375</td>\n      <td>0</td>\n      <td>0.8</td>\n      <td>0.0</td>\n      <td>0.0</td>\n      <td>0.8</td>\n      <td>8</td>\n      <td>28-11-2022 19:09:23</td>\n    </tr>\n  </tbody>\n</table>\n<p>160 rows × 9 columns</p>\n</div>"
     },
     "execution_count": 239,
     "metadata": {},
     "output_type": "execute_result"
    }
   ],
   "source": [
    "df = pd.DataFrame(data=results)\n",
    "if save_loaded_results:\n",
    "    df.to_csv(f'results/{experiment}/processed_data_{experiment}.csv')\n",
    "    df = pd.read_csv(f'results/{experiment}/processed_data_{experiment}.csv', index_col='Unnamed: 0')\n",
    "df"
   ],
   "metadata": {
    "collapsed": false,
    "pycharm": {
     "name": "#%%\n"
    }
   }
  },
  {
   "cell_type": "markdown",
   "source": [
    "# Experiment 4"
   ],
   "metadata": {
    "collapsed": false,
    "pycharm": {
     "name": "#%% md\n"
    }
   }
  },
  {
   "cell_type": "code",
   "execution_count": 244,
   "outputs": [],
   "source": [
    "import pandas as pd\n",
    "\n",
    "save_loaded_results = False"
   ],
   "metadata": {
    "collapsed": false,
    "pycharm": {
     "name": "#%%\n"
    }
   }
  },
  {
   "cell_type": "code",
   "execution_count": 245,
   "outputs": [
    {
     "data": {
      "text/plain": "dict_keys(['model', 'accuracy', 'seed', 'c11', 'c12', 'c21', 'c22', 'sparsity'])"
     },
     "execution_count": 245,
     "metadata": {},
     "output_type": "execute_result"
    }
   ],
   "source": [
    "# Get data\n",
    "experiment = '4'\n",
    "\n",
    "attrs = [\n",
    "    ('experiment_config', 'model'),\n",
    "    ('model_results', 'accuracy'),\n",
    "    ('experiment_config', 'seed'),\n",
    "    ('experiment_config', 'c11'),\n",
    "    ('experiment_config', 'c12'),\n",
    "    ('experiment_config', 'c21'),\n",
    "    ('experiment_config', 'c22'),\n",
    "    ('experiment_config', 'sparsity')\n",
    "]\n",
    "\n",
    "results = get_results(experiment, attrs)\n",
    "results.keys()"
   ],
   "metadata": {
    "collapsed": false,
    "pycharm": {
     "name": "#%%\n"
    }
   }
  },
  {
   "cell_type": "code",
   "execution_count": 246,
   "outputs": [
    {
     "data": {
      "text/plain": "    model  accuracy  seed  c11  c12  c21  c22  sparsity\n0     ngc       1.0     1  0.8  0.0  0.0  0.8     0.125\n1     ngc       1.0   101  0.8  0.0  0.0  0.8     0.125\n2     ngc       1.0    33  0.8  0.0  0.0  0.8     0.125\n3     ngc       1.0    12  0.8  0.0  0.0  0.8     0.125\n4     ngc       1.0     0  0.8  0.0  0.0  0.8     0.125\n..    ...       ...   ...  ...  ...  ...  ...       ...\n155  tvar       1.0     1  0.8  0.0  0.0  0.8     1.000\n156  tvar       1.0   101  0.8  0.0  0.0  0.8     1.000\n157  tvar       1.0    33  0.8  0.0  0.0  0.8     1.000\n158  tvar       1.0    12  0.8  0.0  0.0  0.8     1.000\n159  tvar       1.0     0  0.8  0.0  0.0  0.8     1.000\n\n[160 rows x 8 columns]",
      "text/html": "<div>\n<style scoped>\n    .dataframe tbody tr th:only-of-type {\n        vertical-align: middle;\n    }\n\n    .dataframe tbody tr th {\n        vertical-align: top;\n    }\n\n    .dataframe thead th {\n        text-align: right;\n    }\n</style>\n<table border=\"1\" class=\"dataframe\">\n  <thead>\n    <tr style=\"text-align: right;\">\n      <th></th>\n      <th>model</th>\n      <th>accuracy</th>\n      <th>seed</th>\n      <th>c11</th>\n      <th>c12</th>\n      <th>c21</th>\n      <th>c22</th>\n      <th>sparsity</th>\n    </tr>\n  </thead>\n  <tbody>\n    <tr>\n      <th>0</th>\n      <td>ngc</td>\n      <td>1.0</td>\n      <td>1</td>\n      <td>0.8</td>\n      <td>0.0</td>\n      <td>0.0</td>\n      <td>0.8</td>\n      <td>0.125</td>\n    </tr>\n    <tr>\n      <th>1</th>\n      <td>ngc</td>\n      <td>1.0</td>\n      <td>101</td>\n      <td>0.8</td>\n      <td>0.0</td>\n      <td>0.0</td>\n      <td>0.8</td>\n      <td>0.125</td>\n    </tr>\n    <tr>\n      <th>2</th>\n      <td>ngc</td>\n      <td>1.0</td>\n      <td>33</td>\n      <td>0.8</td>\n      <td>0.0</td>\n      <td>0.0</td>\n      <td>0.8</td>\n      <td>0.125</td>\n    </tr>\n    <tr>\n      <th>3</th>\n      <td>ngc</td>\n      <td>1.0</td>\n      <td>12</td>\n      <td>0.8</td>\n      <td>0.0</td>\n      <td>0.0</td>\n      <td>0.8</td>\n      <td>0.125</td>\n    </tr>\n    <tr>\n      <th>4</th>\n      <td>ngc</td>\n      <td>1.0</td>\n      <td>0</td>\n      <td>0.8</td>\n      <td>0.0</td>\n      <td>0.0</td>\n      <td>0.8</td>\n      <td>0.125</td>\n    </tr>\n    <tr>\n      <th>...</th>\n      <td>...</td>\n      <td>...</td>\n      <td>...</td>\n      <td>...</td>\n      <td>...</td>\n      <td>...</td>\n      <td>...</td>\n      <td>...</td>\n    </tr>\n    <tr>\n      <th>155</th>\n      <td>tvar</td>\n      <td>1.0</td>\n      <td>1</td>\n      <td>0.8</td>\n      <td>0.0</td>\n      <td>0.0</td>\n      <td>0.8</td>\n      <td>1.000</td>\n    </tr>\n    <tr>\n      <th>156</th>\n      <td>tvar</td>\n      <td>1.0</td>\n      <td>101</td>\n      <td>0.8</td>\n      <td>0.0</td>\n      <td>0.0</td>\n      <td>0.8</td>\n      <td>1.000</td>\n    </tr>\n    <tr>\n      <th>157</th>\n      <td>tvar</td>\n      <td>1.0</td>\n      <td>33</td>\n      <td>0.8</td>\n      <td>0.0</td>\n      <td>0.0</td>\n      <td>0.8</td>\n      <td>1.000</td>\n    </tr>\n    <tr>\n      <th>158</th>\n      <td>tvar</td>\n      <td>1.0</td>\n      <td>12</td>\n      <td>0.8</td>\n      <td>0.0</td>\n      <td>0.0</td>\n      <td>0.8</td>\n      <td>1.000</td>\n    </tr>\n    <tr>\n      <th>159</th>\n      <td>tvar</td>\n      <td>1.0</td>\n      <td>0</td>\n      <td>0.8</td>\n      <td>0.0</td>\n      <td>0.0</td>\n      <td>0.8</td>\n      <td>1.000</td>\n    </tr>\n  </tbody>\n</table>\n<p>160 rows × 8 columns</p>\n</div>"
     },
     "execution_count": 246,
     "metadata": {},
     "output_type": "execute_result"
    }
   ],
   "source": [
    "df = pd.DataFrame(data=results)\n",
    "if save_loaded_results:\n",
    "    df.to_csv(f'results/{experiment}/processed_data_{experiment}.csv')\n",
    "    df = pd.read_csv(f'results/{experiment}/processed_data_{experiment}.csv', index_col='Unnamed: 0')\n",
    "df"
   ],
   "metadata": {
    "collapsed": false,
    "pycharm": {
     "name": "#%%\n"
    }
   }
  },
  {
   "cell_type": "markdown",
   "source": [
    "# Experiment 5"
   ],
   "metadata": {
    "collapsed": false,
    "pycharm": {
     "name": "#%% md\n"
    }
   }
  },
  {
   "cell_type": "code",
   "execution_count": 250,
   "outputs": [],
   "source": [
    "import pandas as pd\n",
    "\n",
    "save_loaded_results = False"
   ],
   "metadata": {
    "collapsed": false,
    "pycharm": {
     "name": "#%%\n"
    }
   }
  },
  {
   "cell_type": "code",
   "execution_count": 251,
   "outputs": [
    {
     "data": {
      "text/plain": "dict_keys(['model', 'accuracy', 'seed', 'c11', 'c12', 'c21', 'c22'])"
     },
     "execution_count": 251,
     "metadata": {},
     "output_type": "execute_result"
    }
   ],
   "source": [
    "# Get data\n",
    "experiment = '5'\n",
    "path = f'results/{experiment}'\n",
    "result_files = [f'results/{experiment}/{model_name}/{ex}/results.json' for model_name in os.listdir(path) if os.path.isdir(os.path.join(path, model_name)) for ex in os.listdir(os.path.join(path, model_name)) if os.path.isdir(os.path.join(path, model_name, ex))]\n",
    "\n",
    "attrs = [\n",
    "    ('experiment_config', 'model'),\n",
    "    ('model_results', 'accuracy'),\n",
    "    ('experiment_config', 'seed'),\n",
    "    ('experiment_config', 'c11'),\n",
    "    ('experiment_config', 'c12'),\n",
    "    ('experiment_config', 'c21'),\n",
    "    ('experiment_config', 'c22'),\n",
    "]\n",
    "\n",
    "results = get_results(experiment, attrs, result_files)\n",
    "results.keys()"
   ],
   "metadata": {
    "collapsed": false,
    "pycharm": {
     "name": "#%%\n"
    }
   }
  },
  {
   "cell_type": "code",
   "execution_count": 252,
   "outputs": [
    {
     "data": {
      "text/plain": "   model  accuracy  seed  c11  c12  c21  c22\n0    ngc      0.75     1  0.9  0.4  0.0  0.9\n1    ngc      0.75   101  0.9  0.4  0.0  0.9\n2    ngc      0.75    33  0.9  0.4  0.0  0.9\n3    ngc      0.75    12  0.9  0.4  0.0  0.9\n4    ngc      0.75     0  0.9  0.4  0.0  0.9\n..   ...       ...   ...  ...  ...  ...  ...\n75  tvar      0.50     1  0.9  0.0  0.0  0.9\n76  tvar      0.50   101  0.9  0.0  0.0  0.9\n77  tvar      0.25    33  0.9  0.0  0.0  0.9\n78  tvar      0.50    12  0.9  0.0  0.0  0.9\n79  tvar      0.25     0  0.9  0.0  0.0  0.9\n\n[80 rows x 7 columns]",
      "text/html": "<div>\n<style scoped>\n    .dataframe tbody tr th:only-of-type {\n        vertical-align: middle;\n    }\n\n    .dataframe tbody tr th {\n        vertical-align: top;\n    }\n\n    .dataframe thead th {\n        text-align: right;\n    }\n</style>\n<table border=\"1\" class=\"dataframe\">\n  <thead>\n    <tr style=\"text-align: right;\">\n      <th></th>\n      <th>model</th>\n      <th>accuracy</th>\n      <th>seed</th>\n      <th>c11</th>\n      <th>c12</th>\n      <th>c21</th>\n      <th>c22</th>\n    </tr>\n  </thead>\n  <tbody>\n    <tr>\n      <th>0</th>\n      <td>ngc</td>\n      <td>0.75</td>\n      <td>1</td>\n      <td>0.9</td>\n      <td>0.4</td>\n      <td>0.0</td>\n      <td>0.9</td>\n    </tr>\n    <tr>\n      <th>1</th>\n      <td>ngc</td>\n      <td>0.75</td>\n      <td>101</td>\n      <td>0.9</td>\n      <td>0.4</td>\n      <td>0.0</td>\n      <td>0.9</td>\n    </tr>\n    <tr>\n      <th>2</th>\n      <td>ngc</td>\n      <td>0.75</td>\n      <td>33</td>\n      <td>0.9</td>\n      <td>0.4</td>\n      <td>0.0</td>\n      <td>0.9</td>\n    </tr>\n    <tr>\n      <th>3</th>\n      <td>ngc</td>\n      <td>0.75</td>\n      <td>12</td>\n      <td>0.9</td>\n      <td>0.4</td>\n      <td>0.0</td>\n      <td>0.9</td>\n    </tr>\n    <tr>\n      <th>4</th>\n      <td>ngc</td>\n      <td>0.75</td>\n      <td>0</td>\n      <td>0.9</td>\n      <td>0.4</td>\n      <td>0.0</td>\n      <td>0.9</td>\n    </tr>\n    <tr>\n      <th>...</th>\n      <td>...</td>\n      <td>...</td>\n      <td>...</td>\n      <td>...</td>\n      <td>...</td>\n      <td>...</td>\n      <td>...</td>\n    </tr>\n    <tr>\n      <th>75</th>\n      <td>tvar</td>\n      <td>0.50</td>\n      <td>1</td>\n      <td>0.9</td>\n      <td>0.0</td>\n      <td>0.0</td>\n      <td>0.9</td>\n    </tr>\n    <tr>\n      <th>76</th>\n      <td>tvar</td>\n      <td>0.50</td>\n      <td>101</td>\n      <td>0.9</td>\n      <td>0.0</td>\n      <td>0.0</td>\n      <td>0.9</td>\n    </tr>\n    <tr>\n      <th>77</th>\n      <td>tvar</td>\n      <td>0.25</td>\n      <td>33</td>\n      <td>0.9</td>\n      <td>0.0</td>\n      <td>0.0</td>\n      <td>0.9</td>\n    </tr>\n    <tr>\n      <th>78</th>\n      <td>tvar</td>\n      <td>0.50</td>\n      <td>12</td>\n      <td>0.9</td>\n      <td>0.0</td>\n      <td>0.0</td>\n      <td>0.9</td>\n    </tr>\n    <tr>\n      <th>79</th>\n      <td>tvar</td>\n      <td>0.25</td>\n      <td>0</td>\n      <td>0.9</td>\n      <td>0.0</td>\n      <td>0.0</td>\n      <td>0.9</td>\n    </tr>\n  </tbody>\n</table>\n<p>80 rows × 7 columns</p>\n</div>"
     },
     "execution_count": 252,
     "metadata": {},
     "output_type": "execute_result"
    }
   ],
   "source": [
    "df = pd.DataFrame(data=results)\n",
    "if save_loaded_results:\n",
    "    df.to_csv(f'results/5/processed_results_{experiment}.csv')\n",
    "    df = pd.read_csv(f'results/5/processed_results_{experiment}.csv', index_col='Unnamed: 0')\n",
    "df"
   ],
   "metadata": {
    "collapsed": false,
    "pycharm": {
     "name": "#%%\n"
    }
   }
  },
  {
   "cell_type": "markdown",
   "source": [
    "# Experiment 6"
   ],
   "metadata": {
    "collapsed": false,
    "pycharm": {
     "name": "#%% md\n"
    }
   }
  },
  {
   "cell_type": "code",
   "execution_count": 187,
   "outputs": [],
   "source": [
    "import pandas as pd\n",
    "\n",
    "save_loaded_results = False"
   ],
   "metadata": {
    "collapsed": false,
    "pycharm": {
     "name": "#%%\n"
    }
   }
  },
  {
   "cell_type": "code",
   "execution_count": 195,
   "outputs": [
    {
     "data": {
      "text/plain": "dict_keys(['model', 'full_dataset_bi_hvar_acc', 'full_dataset_full_hvar_acc', 'full_dataset_pds_lm_hvar_acc', 'seed', 'tvt_split'])"
     },
     "execution_count": 195,
     "metadata": {},
     "output_type": "execute_result"
    }
   ],
   "source": [
    "# Get data\n",
    "experiment = '6'\n",
    "\n",
    "attrs = [\n",
    "    ('experiment_config', 'model'),\n",
    "    ('model_results', 'accuracy'),\n",
    "    ('experiment_config', 'seed'),\n",
    "    ('experiment_config', 'tvt_split')\n",
    "]\n",
    "\n",
    "result_files = [\n",
    "    'results/6/ngc/results.json',\n",
    "    'results/6/ngc0/results.json'\n",
    "]\n",
    "results = get_results(experiment, attrs, result_files)\n",
    "results.keys()"
   ],
   "metadata": {
    "collapsed": false,
    "pycharm": {
     "name": "#%%\n"
    }
   }
  },
  {
   "cell_type": "code",
   "execution_count": 196,
   "outputs": [
    {
     "data": {
      "text/plain": "  model  full_dataset_bi_hvar_acc  full_dataset_full_hvar_acc  \\\n0   ngc                       0.0                    0.874444   \n1   ngc                       0.0                    0.874444   \n2   ngc                       0.0                    0.874444   \n3   ngc                       0.0                    0.874444   \n4   ngc                       0.0                    0.874444   \n5  ngc0                       0.0                    0.874444   \n6  ngc0                       0.0                    0.874444   \n7  ngc0                       0.0                    0.874444   \n8  ngc0                       0.0                    0.874444   \n9  ngc0                       0.0                    0.874444   \n\n   full_dataset_pds_lm_hvar_acc  seed  tvt_split  \n0                      0.863333     1        0.1  \n1                      0.863333     1        0.2  \n2                      0.863333     1        0.5  \n3                      0.863333     1        0.8  \n4                      0.863333     1        1.0  \n5                      0.863333     1        0.1  \n6                      0.863333     1        0.2  \n7                      0.863333     1        0.5  \n8                      0.863333     1        0.8  \n9                      0.863333     1        1.0  ",
      "text/html": "<div>\n<style scoped>\n    .dataframe tbody tr th:only-of-type {\n        vertical-align: middle;\n    }\n\n    .dataframe tbody tr th {\n        vertical-align: top;\n    }\n\n    .dataframe thead th {\n        text-align: right;\n    }\n</style>\n<table border=\"1\" class=\"dataframe\">\n  <thead>\n    <tr style=\"text-align: right;\">\n      <th></th>\n      <th>model</th>\n      <th>full_dataset_bi_hvar_acc</th>\n      <th>full_dataset_full_hvar_acc</th>\n      <th>full_dataset_pds_lm_hvar_acc</th>\n      <th>seed</th>\n      <th>tvt_split</th>\n    </tr>\n  </thead>\n  <tbody>\n    <tr>\n      <th>0</th>\n      <td>ngc</td>\n      <td>0.0</td>\n      <td>0.874444</td>\n      <td>0.863333</td>\n      <td>1</td>\n      <td>0.1</td>\n    </tr>\n    <tr>\n      <th>1</th>\n      <td>ngc</td>\n      <td>0.0</td>\n      <td>0.874444</td>\n      <td>0.863333</td>\n      <td>1</td>\n      <td>0.2</td>\n    </tr>\n    <tr>\n      <th>2</th>\n      <td>ngc</td>\n      <td>0.0</td>\n      <td>0.874444</td>\n      <td>0.863333</td>\n      <td>1</td>\n      <td>0.5</td>\n    </tr>\n    <tr>\n      <th>3</th>\n      <td>ngc</td>\n      <td>0.0</td>\n      <td>0.874444</td>\n      <td>0.863333</td>\n      <td>1</td>\n      <td>0.8</td>\n    </tr>\n    <tr>\n      <th>4</th>\n      <td>ngc</td>\n      <td>0.0</td>\n      <td>0.874444</td>\n      <td>0.863333</td>\n      <td>1</td>\n      <td>1.0</td>\n    </tr>\n    <tr>\n      <th>5</th>\n      <td>ngc0</td>\n      <td>0.0</td>\n      <td>0.874444</td>\n      <td>0.863333</td>\n      <td>1</td>\n      <td>0.1</td>\n    </tr>\n    <tr>\n      <th>6</th>\n      <td>ngc0</td>\n      <td>0.0</td>\n      <td>0.874444</td>\n      <td>0.863333</td>\n      <td>1</td>\n      <td>0.2</td>\n    </tr>\n    <tr>\n      <th>7</th>\n      <td>ngc0</td>\n      <td>0.0</td>\n      <td>0.874444</td>\n      <td>0.863333</td>\n      <td>1</td>\n      <td>0.5</td>\n    </tr>\n    <tr>\n      <th>8</th>\n      <td>ngc0</td>\n      <td>0.0</td>\n      <td>0.874444</td>\n      <td>0.863333</td>\n      <td>1</td>\n      <td>0.8</td>\n    </tr>\n    <tr>\n      <th>9</th>\n      <td>ngc0</td>\n      <td>0.0</td>\n      <td>0.874444</td>\n      <td>0.863333</td>\n      <td>1</td>\n      <td>1.0</td>\n    </tr>\n  </tbody>\n</table>\n</div>"
     },
     "execution_count": 196,
     "metadata": {},
     "output_type": "execute_result"
    }
   ],
   "source": [
    "df = pd.DataFrame(data=results)\n",
    "if save_loaded_results:\n",
    "    df.to_csv(f'results/{experiment}/processed_results_{experiment}.csv')\n",
    "    df = pd.read_csv(f'results/{experiment}/processed_results_{experiment}.csv', index_col='Unnamed: 0')\n",
    "df"
   ],
   "metadata": {
    "collapsed": false,
    "pycharm": {
     "name": "#%%\n"
    }
   }
  }
 ],
 "metadata": {
  "kernelspec": {
   "display_name": "Python 3",
   "language": "python",
   "name": "python3"
  },
  "language_info": {
   "codemirror_mode": {
    "name": "ipython",
    "version": 2
   },
   "file_extension": ".py",
   "mimetype": "text/x-python",
   "name": "python",
   "nbconvert_exporter": "python",
   "pygments_lexer": "ipython2",
   "version": "2.7.6"
  }
 },
 "nbformat": 4,
 "nbformat_minor": 0
}