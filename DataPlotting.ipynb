{
 "cells": [
  {
   "cell_type": "code",
   "execution_count": 1,
   "outputs": [],
   "source": [
    "import json\n",
    "import numpy as np\n",
    "import os\n",
    "import seaborn as sns\n",
    "import pandas as pd"
   ],
   "metadata": {
    "collapsed": false,
    "pycharm": {
     "name": "#%%\n"
    }
   }
  },
  {
   "cell_type": "code",
   "execution_count": 60,
   "outputs": [
    {
     "data": {
      "text/plain": "{'nri': {'accs': [0.5,\n   0.5,\n   0.5,\n   0.5,\n   0.5,\n   0.5,\n   0.5,\n   0.5,\n   0.5,\n   0.5,\n   0.5,\n   0.5,\n   0.5,\n   0.5,\n   0.5,\n   0.5,\n   0.5,\n   0.5,\n   0.5,\n   0.5,\n   0.5,\n   0.5,\n   0.5,\n   0.5,\n   0.5,\n   0.5,\n   0.5,\n   0.5,\n   0.5,\n   0.5,\n   0.5,\n   0.5,\n   0.5,\n   0.5,\n   0.5,\n   0.5,\n   0.5,\n   0.5,\n   0.5,\n   0.5,\n   0.5,\n   0.5,\n   0.5,\n   0.5,\n   0.5,\n   0.5,\n   0.5,\n   0.5,\n   0.5,\n   0.5,\n   0.5,\n   0.5,\n   0.5,\n   0.5,\n   0.5,\n   0.5,\n   0.5,\n   0.5,\n   0.5,\n   0.5,\n   0.5,\n   0.5,\n   0.5,\n   0.5,\n   0.5,\n   0.5,\n   0.5,\n   0.5,\n   0.5,\n   0.5,\n   0.5,\n   0.5,\n   0.5,\n   0.5,\n   0.5,\n   0.5,\n   0.5,\n   0.5,\n   0.5,\n   0.5,\n   0.5,\n   0.5,\n   0.5,\n   0.5,\n   0.5,\n   0.5,\n   0.5,\n   0.5,\n   0.5,\n   0.5,\n   0.5,\n   0.5,\n   0.5,\n   0.5,\n   0.5,\n   0.5,\n   0.5,\n   0.5,\n   0.5,\n   0.5,\n   0.5,\n   0.5,\n   0.5,\n   0.5,\n   0.5,\n   0.5,\n   0.5,\n   0.5,\n   0.5,\n   0.5,\n   0.5,\n   0.5,\n   0.5,\n   0.5,\n   0.5,\n   0.5,\n   0.5,\n   0.5,\n   0.5,\n   0.5,\n   0.5,\n   0.5,\n   0.5,\n   0.5,\n   0.5,\n   0.5,\n   0.5,\n   0.5,\n   0.5,\n   0.5,\n   0.5,\n   0.5,\n   0.5,\n   0.5,\n   0.5,\n   0.5,\n   0.5,\n   0.5,\n   0.5,\n   0.5,\n   0.5,\n   0.5,\n   0.5,\n   0.5,\n   0.5,\n   0.5,\n   0.5,\n   0.5,\n   0.5,\n   0.5],\n  'tvt_splits': [0.1,\n   0.1,\n   0.1,\n   0.1,\n   0.1,\n   0.2,\n   0.2,\n   0.2,\n   0.2,\n   0.2,\n   0.5,\n   0.5,\n   0.5,\n   0.5,\n   0.5,\n   0.8,\n   0.8,\n   0.8,\n   0.8,\n   0.8,\n   1,\n   1,\n   1,\n   1,\n   1,\n   0.1,\n   0.1,\n   0.1,\n   0.1,\n   0.1,\n   0.2,\n   0.2,\n   0.2,\n   0.2,\n   0.2,\n   0.5,\n   0.5,\n   0.5,\n   0.5,\n   0.5,\n   0.8,\n   0.8,\n   0.8,\n   0.8,\n   0.8,\n   1,\n   1,\n   1,\n   1,\n   1,\n   0.1,\n   0.1,\n   0.1,\n   0.1,\n   0.1,\n   0.2,\n   0.2,\n   0.2,\n   0.2,\n   0.2,\n   0.5,\n   0.5,\n   0.5,\n   0.5,\n   0.5,\n   0.8,\n   0.8,\n   0.8,\n   0.8,\n   0.8,\n   1,\n   1,\n   1,\n   1,\n   1,\n   0.1,\n   0.1,\n   0.1,\n   0.1,\n   0.1,\n   0.2,\n   0.2,\n   0.2,\n   0.2,\n   0.2,\n   0.5,\n   0.5,\n   0.5,\n   0.5,\n   0.5,\n   0.8,\n   0.8,\n   0.8,\n   0.8,\n   0.8,\n   1,\n   1,\n   1,\n   1,\n   1,\n   0.1,\n   0.1,\n   0.1,\n   0.1,\n   0.1,\n   0.2,\n   0.2,\n   0.2,\n   0.2,\n   0.2,\n   0.5,\n   0.5,\n   0.5,\n   0.5,\n   0.5,\n   0.8,\n   0.8,\n   0.8,\n   0.8,\n   0.8,\n   1,\n   1,\n   1,\n   1,\n   1,\n   0.1,\n   0.1,\n   0.1,\n   0.1,\n   0.1,\n   0.2,\n   0.2,\n   0.2,\n   0.2,\n   0.2,\n   0.5,\n   0.5,\n   0.5,\n   0.5,\n   0.5,\n   0.8,\n   0.8,\n   0.8,\n   0.8,\n   0.8,\n   1,\n   1,\n   1,\n   1,\n   1],\n  'trainset_sizes': [500,\n   500,\n   500,\n   500,\n   500,\n   500,\n   500,\n   500,\n   500,\n   500,\n   500,\n   500,\n   500,\n   500,\n   500,\n   500,\n   500,\n   500,\n   500,\n   500,\n   500,\n   500,\n   500,\n   500,\n   500,\n   1000,\n   1000,\n   1000,\n   1000,\n   1000,\n   1000,\n   1000,\n   1000,\n   1000,\n   1000,\n   1000,\n   1000,\n   1000,\n   1000,\n   1000,\n   1000,\n   1000,\n   1000,\n   1000,\n   1000,\n   1000,\n   1000,\n   1000,\n   1000,\n   1000,\n   2000,\n   2000,\n   2000,\n   2000,\n   2000,\n   2000,\n   2000,\n   2000,\n   2000,\n   2000,\n   2000,\n   2000,\n   2000,\n   2000,\n   2000,\n   2000,\n   2000,\n   2000,\n   2000,\n   2000,\n   2000,\n   2000,\n   2000,\n   2000,\n   2000,\n   3000,\n   3000,\n   3000,\n   3000,\n   3000,\n   3000,\n   3000,\n   3000,\n   3000,\n   3000,\n   3000,\n   3000,\n   3000,\n   3000,\n   3000,\n   3000,\n   3000,\n   3000,\n   3000,\n   3000,\n   3000,\n   3000,\n   3000,\n   3000,\n   3000,\n   4000,\n   4000,\n   4000,\n   4000,\n   4000,\n   4000,\n   4000,\n   4000,\n   4000,\n   4000,\n   4000,\n   4000,\n   4000,\n   4000,\n   4000,\n   4000,\n   4000,\n   4000,\n   4000,\n   4000,\n   4000,\n   4000,\n   4000,\n   4000,\n   4000,\n   5000,\n   5000,\n   5000,\n   5000,\n   5000,\n   5000,\n   5000,\n   5000,\n   5000,\n   5000,\n   5000,\n   5000,\n   5000,\n   5000,\n   5000,\n   5000,\n   5000,\n   5000,\n   5000,\n   5000,\n   5000,\n   5000,\n   5000,\n   5000,\n   5000]},\n 'ngc': {'accs': [0.75,\n   1.0,\n   1.0,\n   0.75,\n   1.0,\n   0.75,\n   1.0,\n   1.0,\n   0.75,\n   1.0,\n   0.75,\n   0.75,\n   1.0,\n   0.75,\n   1.0,\n   0.75,\n   0.75,\n   1.0,\n   0.75,\n   1.0,\n   0.75,\n   0.75,\n   1.0,\n   0.75,\n   1.0,\n   0.75,\n   0.75,\n   1.0,\n   0.75,\n   1.0,\n   0.75,\n   0.75,\n   0.75,\n   0.75,\n   1.0,\n   0.75,\n   0.75,\n   1.0,\n   0.75,\n   1.0,\n   0.75,\n   0.75,\n   0.75,\n   0.75,\n   1.0,\n   0.75,\n   0.75,\n   0.75,\n   0.75,\n   1.0,\n   0.75,\n   0.75,\n   1.0,\n   0.75,\n   1.0,\n   0.75,\n   0.75,\n   0.75,\n   0.75,\n   1.0,\n   0.75,\n   0.75,\n   0.75,\n   0.75,\n   0.75,\n   0.75,\n   0.75,\n   0.75,\n   0.75,\n   0.75,\n   0.75,\n   0.75,\n   0.75,\n   0.75,\n   0.75,\n   0.75,\n   0.75,\n   0.75,\n   0.75,\n   0.75,\n   0.75,\n   0.75,\n   0.75,\n   0.75,\n   0.75,\n   0.75,\n   0.75,\n   0.75,\n   0.75,\n   0.75,\n   0.75,\n   0.75,\n   0.75,\n   0.75,\n   0.75,\n   0.75,\n   0.75,\n   0.75,\n   0.75,\n   0.75,\n   0.75,\n   0.75,\n   0.75,\n   0.75,\n   0.75,\n   0.75,\n   0.75,\n   0.75,\n   0.75,\n   0.75,\n   0.75,\n   0.75,\n   0.75,\n   0.75,\n   0.75,\n   0.75,\n   0.75,\n   0.75,\n   0.75,\n   0.75,\n   0.75,\n   0.75,\n   0.75,\n   0.75,\n   0.75,\n   0.75,\n   0.75,\n   0.75,\n   0.75,\n   0.75,\n   0.75,\n   0.75,\n   0.75,\n   0.75,\n   0.75,\n   0.75,\n   0.75,\n   0.75,\n   0.75,\n   0.75,\n   0.75,\n   0.75,\n   0.75,\n   0.75,\n   0.75,\n   0.75,\n   0.75,\n   0.75,\n   0.75,\n   0.75],\n  'tvt_splits': [0.1,\n   0.1,\n   0.1,\n   0.1,\n   0.1,\n   0.2,\n   0.2,\n   0.2,\n   0.2,\n   0.2,\n   0.5,\n   0.5,\n   0.5,\n   0.5,\n   0.5,\n   0.8,\n   0.8,\n   0.8,\n   0.8,\n   0.8,\n   1,\n   1,\n   1,\n   1,\n   1,\n   0.1,\n   0.1,\n   0.1,\n   0.1,\n   0.1,\n   0.2,\n   0.2,\n   0.2,\n   0.2,\n   0.2,\n   0.5,\n   0.5,\n   0.5,\n   0.5,\n   0.5,\n   0.8,\n   0.8,\n   0.8,\n   0.8,\n   0.8,\n   1,\n   1,\n   1,\n   1,\n   1,\n   0.1,\n   0.1,\n   0.1,\n   0.1,\n   0.1,\n   0.2,\n   0.2,\n   0.2,\n   0.2,\n   0.2,\n   0.5,\n   0.5,\n   0.5,\n   0.5,\n   0.5,\n   0.8,\n   0.8,\n   0.8,\n   0.8,\n   0.8,\n   1,\n   1,\n   1,\n   1,\n   1,\n   0.1,\n   0.1,\n   0.1,\n   0.1,\n   0.1,\n   0.2,\n   0.2,\n   0.2,\n   0.2,\n   0.2,\n   0.5,\n   0.5,\n   0.5,\n   0.5,\n   0.5,\n   0.8,\n   0.8,\n   0.8,\n   0.8,\n   0.8,\n   1,\n   1,\n   1,\n   1,\n   1,\n   0.1,\n   0.1,\n   0.1,\n   0.1,\n   0.1,\n   0.2,\n   0.2,\n   0.2,\n   0.2,\n   0.2,\n   0.5,\n   0.5,\n   0.5,\n   0.5,\n   0.5,\n   0.8,\n   0.8,\n   0.8,\n   0.8,\n   0.8,\n   1,\n   1,\n   1,\n   1,\n   1,\n   0.1,\n   0.1,\n   0.1,\n   0.1,\n   0.1,\n   0.2,\n   0.2,\n   0.2,\n   0.2,\n   0.2,\n   0.5,\n   0.5,\n   0.5,\n   0.5,\n   0.5,\n   0.8,\n   0.8,\n   0.8,\n   0.8,\n   0.8,\n   1,\n   1,\n   1,\n   1,\n   1],\n  'trainset_sizes': [500,\n   500,\n   500,\n   500,\n   500,\n   500,\n   500,\n   500,\n   500,\n   500,\n   500,\n   500,\n   500,\n   500,\n   500,\n   500,\n   500,\n   500,\n   500,\n   500,\n   500,\n   500,\n   500,\n   500,\n   500,\n   1000,\n   1000,\n   1000,\n   1000,\n   1000,\n   1000,\n   1000,\n   1000,\n   1000,\n   1000,\n   1000,\n   1000,\n   1000,\n   1000,\n   1000,\n   1000,\n   1000,\n   1000,\n   1000,\n   1000,\n   1000,\n   1000,\n   1000,\n   1000,\n   1000,\n   2000,\n   2000,\n   2000,\n   2000,\n   2000,\n   2000,\n   2000,\n   2000,\n   2000,\n   2000,\n   2000,\n   2000,\n   2000,\n   2000,\n   2000,\n   2000,\n   2000,\n   2000,\n   2000,\n   2000,\n   2000,\n   2000,\n   2000,\n   2000,\n   2000,\n   3000,\n   3000,\n   3000,\n   3000,\n   3000,\n   3000,\n   3000,\n   3000,\n   3000,\n   3000,\n   3000,\n   3000,\n   3000,\n   3000,\n   3000,\n   3000,\n   3000,\n   3000,\n   3000,\n   3000,\n   3000,\n   3000,\n   3000,\n   3000,\n   3000,\n   4000,\n   4000,\n   4000,\n   4000,\n   4000,\n   4000,\n   4000,\n   4000,\n   4000,\n   4000,\n   4000,\n   4000,\n   4000,\n   4000,\n   4000,\n   4000,\n   4000,\n   4000,\n   4000,\n   4000,\n   4000,\n   4000,\n   4000,\n   4000,\n   4000,\n   5000,\n   5000,\n   5000,\n   5000,\n   5000,\n   5000,\n   5000,\n   5000,\n   5000,\n   5000,\n   5000,\n   5000,\n   5000,\n   5000,\n   5000,\n   5000,\n   5000,\n   5000,\n   5000,\n   5000,\n   5000,\n   5000,\n   5000,\n   5000,\n   5000]},\n 'ngc0': {'accs': [1.0,\n   1.0,\n   1.0,\n   1.0,\n   1.0,\n   1.0,\n   1.0,\n   1.0,\n   1.0,\n   1.0,\n   1.0,\n   1.0,\n   1.0,\n   1.0,\n   1.0,\n   1.0,\n   1.0,\n   1.0,\n   1.0,\n   1.0,\n   1.0,\n   1.0,\n   1.0,\n   1.0,\n   1.0,\n   1.0,\n   1.0,\n   1.0,\n   1.0,\n   1.0,\n   1.0,\n   1.0,\n   1.0,\n   1.0,\n   1.0,\n   1.0,\n   1.0,\n   1.0,\n   1.0,\n   1.0,\n   1.0,\n   1.0,\n   1.0,\n   1.0,\n   1.0,\n   1.0,\n   1.0,\n   1.0,\n   1.0,\n   1.0,\n   1.0,\n   1.0,\n   1.0,\n   1.0,\n   1.0,\n   1.0,\n   1.0,\n   1.0,\n   1.0,\n   1.0,\n   1.0,\n   1.0,\n   1.0,\n   1.0,\n   1.0,\n   1.0,\n   1.0,\n   1.0,\n   1.0,\n   1.0,\n   1.0,\n   1.0,\n   1.0,\n   1.0,\n   1.0,\n   1.0,\n   1.0,\n   1.0,\n   1.0,\n   1.0,\n   1.0,\n   1.0,\n   1.0,\n   1.0,\n   1.0,\n   1.0,\n   1.0,\n   1.0,\n   1.0,\n   1.0,\n   1.0,\n   1.0,\n   1.0,\n   1.0,\n   1.0,\n   1.0,\n   1.0,\n   1.0,\n   1.0,\n   1.0,\n   1.0,\n   1.0,\n   1.0,\n   1.0,\n   1.0,\n   1.0,\n   1.0,\n   1.0,\n   1.0,\n   1.0,\n   1.0,\n   1.0,\n   1.0,\n   1.0,\n   1.0,\n   1.0,\n   1.0,\n   1.0,\n   1.0,\n   1.0,\n   1.0,\n   1.0,\n   1.0,\n   1.0,\n   1.0,\n   1.0,\n   1.0,\n   1.0,\n   1.0,\n   1.0,\n   1.0,\n   1.0,\n   1.0,\n   1.0,\n   1.0,\n   1.0,\n   1.0,\n   1.0,\n   1.0,\n   1.0,\n   1.0,\n   1.0,\n   1.0,\n   1.0,\n   1.0,\n   1.0,\n   1.0,\n   1.0,\n   1.0,\n   1.0],\n  'tvt_splits': [0.1,\n   0.1,\n   0.1,\n   0.1,\n   0.1,\n   0.2,\n   0.2,\n   0.2,\n   0.2,\n   0.2,\n   0.5,\n   0.5,\n   0.5,\n   0.5,\n   0.5,\n   0.8,\n   0.8,\n   0.8,\n   0.8,\n   0.8,\n   1,\n   1,\n   1,\n   1,\n   1,\n   0.1,\n   0.1,\n   0.1,\n   0.1,\n   0.1,\n   0.2,\n   0.2,\n   0.2,\n   0.2,\n   0.2,\n   0.5,\n   0.5,\n   0.5,\n   0.5,\n   0.5,\n   0.8,\n   0.8,\n   0.8,\n   0.8,\n   0.8,\n   1,\n   1,\n   1,\n   1,\n   1,\n   0.1,\n   0.1,\n   0.1,\n   0.1,\n   0.1,\n   0.2,\n   0.2,\n   0.2,\n   0.2,\n   0.2,\n   0.5,\n   0.5,\n   0.5,\n   0.5,\n   0.5,\n   0.8,\n   0.8,\n   0.8,\n   0.8,\n   0.8,\n   1,\n   1,\n   1,\n   1,\n   1,\n   0.1,\n   0.1,\n   0.1,\n   0.1,\n   0.1,\n   0.2,\n   0.2,\n   0.2,\n   0.2,\n   0.2,\n   0.5,\n   0.5,\n   0.5,\n   0.5,\n   0.5,\n   0.8,\n   0.8,\n   0.8,\n   0.8,\n   0.8,\n   1,\n   1,\n   1,\n   1,\n   1,\n   0.1,\n   0.1,\n   0.1,\n   0.1,\n   0.1,\n   0.2,\n   0.2,\n   0.2,\n   0.2,\n   0.2,\n   0.5,\n   0.5,\n   0.5,\n   0.5,\n   0.5,\n   0.8,\n   0.8,\n   0.8,\n   0.8,\n   0.8,\n   1,\n   1,\n   1,\n   1,\n   1,\n   0.1,\n   0.1,\n   0.1,\n   0.1,\n   0.1,\n   0.2,\n   0.2,\n   0.2,\n   0.2,\n   0.2,\n   0.5,\n   0.5,\n   0.5,\n   0.5,\n   0.5,\n   0.8,\n   0.8,\n   0.8,\n   0.8,\n   0.8,\n   1,\n   1,\n   1,\n   1,\n   1],\n  'trainset_sizes': [500,\n   500,\n   500,\n   500,\n   500,\n   500,\n   500,\n   500,\n   500,\n   500,\n   500,\n   500,\n   500,\n   500,\n   500,\n   500,\n   500,\n   500,\n   500,\n   500,\n   500,\n   500,\n   500,\n   500,\n   500,\n   1000,\n   1000,\n   1000,\n   1000,\n   1000,\n   1000,\n   1000,\n   1000,\n   1000,\n   1000,\n   1000,\n   1000,\n   1000,\n   1000,\n   1000,\n   1000,\n   1000,\n   1000,\n   1000,\n   1000,\n   1000,\n   1000,\n   1000,\n   1000,\n   1000,\n   2000,\n   2000,\n   2000,\n   2000,\n   2000,\n   2000,\n   2000,\n   2000,\n   2000,\n   2000,\n   2000,\n   2000,\n   2000,\n   2000,\n   2000,\n   2000,\n   2000,\n   2000,\n   2000,\n   2000,\n   2000,\n   2000,\n   2000,\n   2000,\n   2000,\n   3000,\n   3000,\n   3000,\n   3000,\n   3000,\n   3000,\n   3000,\n   3000,\n   3000,\n   3000,\n   3000,\n   3000,\n   3000,\n   3000,\n   3000,\n   3000,\n   3000,\n   3000,\n   3000,\n   3000,\n   3000,\n   3000,\n   3000,\n   3000,\n   3000,\n   4000,\n   4000,\n   4000,\n   4000,\n   4000,\n   4000,\n   4000,\n   4000,\n   4000,\n   4000,\n   4000,\n   4000,\n   4000,\n   4000,\n   4000,\n   4000,\n   4000,\n   4000,\n   4000,\n   4000,\n   4000,\n   4000,\n   4000,\n   4000,\n   4000,\n   5000,\n   5000,\n   5000,\n   5000,\n   5000,\n   5000,\n   5000,\n   5000,\n   5000,\n   5000,\n   5000,\n   5000,\n   5000,\n   5000,\n   5000,\n   5000,\n   5000,\n   5000,\n   5000,\n   5000,\n   5000,\n   5000,\n   5000,\n   5000,\n   5000]}}"
     },
     "execution_count": 60,
     "metadata": {},
     "output_type": "execute_result"
    }
   ],
   "source": [
    "experiment = '0'\n",
    "\n",
    "model_names = [model_name for model_name in os.listdir(f'results/{experiment}')]\n",
    "result_files = [f'results/{experiment}/{model_name}/results.json' for model_name in model_names]\n",
    "accuracies = {\n",
    "    'nri': {},\n",
    "    'ngc': {},\n",
    "    'ngc0': {}\n",
    "}\n",
    "\n",
    "for i, result_file in enumerate(result_files):\n",
    "    with open(result_file) as f:\n",
    "        results = json.load(f)\n",
    "        accuracies[model_names[i]]['accs'] = [\n",
    "            result_exp['model_results']['accuracy'] for result_exp in results.values()\n",
    "        ]\n",
    "        accuracies[model_names[i]]['tvt_splits'] =[\n",
    "            result_exp['experiment_config']['tvt_split'] for result_exp in results.values()\n",
    "        ]\n",
    "        accuracies[model_names[i]]['trainset_sizes'] = [\n",
    "            result_exp['experiment_config']['trainset_size'] for result_exp in results.values()\n",
    "        ]\n",
    "\n",
    "accuracies"
   ],
   "metadata": {
    "collapsed": false,
    "pycharm": {
     "name": "#%%\n"
    }
   }
  },
  {
   "cell_type": "code",
   "execution_count": null,
   "outputs": [],
   "source": [
    "# Create data for plot\n",
    "for model_accuracies in accuracies:\n",
    "    for acc in "
   ],
   "metadata": {
    "collapsed": false,
    "pycharm": {
     "name": "#%%\n"
    }
   }
  },
  {
   "cell_type": "code",
   "execution_count": 59,
   "outputs": [
    {
     "data": {
      "text/plain": "[1.0,\n 1.0,\n 1.0,\n 1.0,\n 1.0,\n 1.0,\n 1.0,\n 1.0,\n 1.0,\n 1.0,\n 1.0,\n 1.0,\n 1.0,\n 1.0,\n 1.0,\n 1.0,\n 1.0,\n 1.0,\n 1.0,\n 1.0,\n 1.0,\n 1.0,\n 1.0,\n 1.0,\n 1.0,\n 1.0,\n 1.0,\n 1.0,\n 1.0,\n 1.0,\n 1.0,\n 1.0,\n 1.0,\n 1.0,\n 1.0,\n 1.0,\n 1.0,\n 1.0,\n 1.0,\n 1.0,\n 1.0,\n 1.0,\n 1.0,\n 1.0,\n 1.0,\n 1.0,\n 1.0,\n 1.0,\n 1.0,\n 1.0,\n 1.0,\n 1.0,\n 1.0,\n 1.0,\n 1.0,\n 1.0,\n 1.0,\n 1.0,\n 1.0,\n 1.0,\n 1.0,\n 1.0,\n 1.0,\n 1.0,\n 1.0,\n 1.0,\n 1.0,\n 1.0,\n 1.0,\n 1.0,\n 1.0,\n 1.0,\n 1.0,\n 1.0,\n 1.0,\n 1.0,\n 1.0,\n 1.0,\n 1.0,\n 1.0,\n 1.0,\n 1.0,\n 1.0,\n 1.0,\n 1.0,\n 1.0,\n 1.0,\n 1.0,\n 1.0,\n 1.0,\n 1.0,\n 1.0,\n 1.0,\n 1.0,\n 1.0,\n 1.0,\n 1.0,\n 1.0,\n 1.0,\n 1.0,\n 1.0,\n 1.0,\n 1.0,\n 1.0,\n 1.0,\n 1.0,\n 1.0,\n 1.0,\n 1.0,\n 1.0,\n 1.0,\n 1.0,\n 1.0,\n 1.0,\n 1.0,\n 1.0,\n 1.0,\n 1.0,\n 1.0,\n 1.0,\n 1.0,\n 1.0,\n 1.0,\n 1.0,\n 1.0,\n 1.0,\n 1.0,\n 1.0,\n 1.0,\n 1.0,\n 1.0,\n 1.0,\n 1.0,\n 1.0,\n 1.0,\n 1.0,\n 1.0,\n 1.0,\n 1.0,\n 1.0,\n 1.0,\n 1.0,\n 1.0,\n 1.0,\n 1.0,\n 1.0,\n 1.0,\n 1.0,\n 1.0,\n 1.0]"
     },
     "execution_count": 59,
     "metadata": {},
     "output_type": "execute_result"
    }
   ],
   "source": [
    "accuracies['ngc0']['accs']"
   ],
   "metadata": {
    "collapsed": false,
    "pycharm": {
     "name": "#%%\n"
    }
   }
  },
  {
   "cell_type": "code",
   "execution_count": 86,
   "outputs": [
    {
     "data": {
      "text/plain": "<AxesSubplot:xlabel='model_name', ylabel='accs'>"
     },
     "execution_count": 86,
     "metadata": {},
     "output_type": "execute_result"
    },
    {
     "data": {
      "text/plain": "<Figure size 432x288 with 1 Axes>",
      "image/png": "[encoded data removed]"
     },
     "metadata": {},
     "output_type": "display_data"
    }
   ],
   "source": [
    "model_name_dict = {\n",
    "    'ngc': 0,\n",
    "    'nri': 1,\n",
    "    'ngc0': 2,\n",
    "}\n",
    "model_name_dict_r = {v:k for (k,v) in model_name_dict.items()}\n",
    "accs_model = np.array([[float(acc), model_name_dict[model_name]] for model_name,v in accuracies.items() for acc in v['accs']]).T\n",
    "\n",
    "df = pd.DataFrame({\n",
    "    'accs': accs_model[0],\n",
    "    'model':accs_model[1]\n",
    "})\n",
    "df['model_name'] = [model_name_dict_r[i] for i in accs_model[1]]\n",
    "\n",
    "sns.boxplot(data=df, x=\"model_name\", y=\"accs\")"
   ],
   "metadata": {
    "collapsed": false,
    "pycharm": {
     "name": "#%%\n"
    }
   }
  },
  {
   "cell_type": "code",
   "execution_count": 8,
   "outputs": [
    {
     "data": {
      "text/plain": "dict_keys(['edges', 'coef_mat', 'date'])"
     },
     "execution_count": 8,
     "metadata": {},
     "output_type": "execute_result"
    }
   ],
   "source": [
    "with open('results/0/nri/results.json') as f:\n",
    "    d = json.load(f)"
   ],
   "metadata": {
    "collapsed": false,
    "pycharm": {
     "name": "#%%\n"
    }
   }
  },
  {
   "cell_type": "code",
   "execution_count": 36,
   "outputs": [],
   "source": [
    "a = d['150']"
   ],
   "metadata": {
    "collapsed": false,
    "pycharm": {
     "name": "#%%\n"
    }
   }
  },
  {
   "cell_type": "code",
   "execution_count": 52,
   "outputs": [
    {
     "data": {
      "text/plain": "(500, 0.1, 0.5)"
     },
     "execution_count": 52,
     "metadata": {},
     "output_type": "execute_result"
    }
   ],
   "source": [
    "a['experiment_config']['trainset_size'], a['experiment_config']['tvt_split'], a['model_results']['accuracy']"
   ],
   "metadata": {
    "collapsed": false,
    "pycharm": {
     "name": "#%%\n"
    }
   }
  },
  {
   "cell_type": "code",
   "execution_count": 41,
   "outputs": [
    {
     "data": {
      "text/plain": "0.5"
     },
     "execution_count": 41,
     "metadata": {},
     "output_type": "execute_result"
    }
   ],
   "source": [
    "a['model_results']['accuracy']"
   ],
   "metadata": {
    "collapsed": false,
    "pycharm": {
     "name": "#%%\n"
    }
   }
  },
  {
   "cell_type": "markdown",
   "source": [
    "# Delete Me"
   ],
   "metadata": {
    "collapsed": false,
    "pycharm": {
     "name": "#%% md\n"
    }
   }
  },
  {
   "cell_type": "code",
   "execution_count": 40,
   "outputs": [],
   "source": [
    "import json\n",
    "\n",
    "with open('results.json') as f:\n",
    "    data = json.load(f)\n",
    "\n",
    "import utils\n",
    "data = utils.dotdict(data)"
   ],
   "metadata": {
    "collapsed": false,
    "pycharm": {
     "name": "#%%\n"
    }
   }
  },
  {
   "cell_type": "markdown",
   "source": [],
   "metadata": {
    "collapsed": false,
    "pycharm": {
     "name": "#%% md\n"
    }
   }
  },
  {
   "cell_type": "code",
   "execution_count": 55,
   "outputs": [
    {
     "name": "stdout",
     "output_type": "stream",
     "text": [
      "0.1 500\n",
      "0.1 500\n",
      "0.1 500\n",
      "0.1 500\n",
      "0.1 500\n",
      "0.2 500\n",
      "0.2 500\n",
      "0.2 500\n",
      "0.2 500\n",
      "0.2 500\n",
      "0.5 500\n",
      "0.5 500\n",
      "0.5 500\n",
      "0.5 500\n",
      "0.5 500\n",
      "0.8 500\n",
      "0.8 500\n",
      "0.8 500\n",
      "0.8 500\n",
      "0.8 500\n",
      "1 500\n",
      "1 500\n",
      "1 500\n",
      "1 500\n",
      "1 500\n",
      "0.1 1000\n",
      "0.1 1000\n",
      "0.1 1000\n",
      "0.1 1000\n",
      "0.1 1000\n",
      "0.2 1000\n",
      "0.2 1000\n",
      "0.2 1000\n",
      "0.2 1000\n",
      "0.2 1000\n",
      "0.5 1000\n",
      "0.5 1000\n",
      "0.5 1000\n",
      "0.5 1000\n",
      "0.5 1000\n",
      "0.8 1000\n",
      "0.8 1000\n",
      "0.8 1000\n",
      "0.8 1000\n",
      "0.8 1000\n",
      "1 1000\n",
      "1 1000\n",
      "1 1000\n",
      "1 1000\n",
      "1 1000\n",
      "0.1 2000\n",
      "0.1 2000\n",
      "0.1 2000\n",
      "0.1 2000\n",
      "0.1 2000\n",
      "0.2 2000\n",
      "0.2 2000\n",
      "0.2 2000\n",
      "0.2 2000\n",
      "0.2 2000\n",
      "0.5 2000\n",
      "0.5 2000\n",
      "0.5 2000\n",
      "0.5 2000\n",
      "0.5 2000\n",
      "0.8 2000\n",
      "0.8 2000\n",
      "0.8 2000\n",
      "0.8 2000\n",
      "0.8 2000\n",
      "1 2000\n",
      "1 2000\n",
      "1 2000\n",
      "1 2000\n",
      "1 2000\n",
      "0.1 3000\n"
     ]
    }
   ],
   "source": [
    "for i in range(0, 76):\n",
    "    print(data[str(i)]['experiment_config']['tvt_split'], data[str(i)]['experiment_config']['trainset_size'])"
   ],
   "metadata": {
    "collapsed": false,
    "pycharm": {
     "name": "#%%\n"
    }
   }
  },
  {
   "cell_type": "code",
   "execution_count": 22,
   "outputs": [],
   "source": [],
   "metadata": {
    "collapsed": false,
    "pycharm": {
     "name": "#%%\n"
    }
   }
  },
  {
   "cell_type": "code",
   "execution_count": null,
   "outputs": [],
   "source": [],
   "metadata": {
    "collapsed": false,
    "pycharm": {
     "name": "#%%\n"
    }
   }
  }
 ],
 "metadata": {
  "kernelspec": {
   "display_name": "Python 3",
   "language": "python",
   "name": "python3"
  },
  "language_info": {
   "codemirror_mode": {
    "name": "ipython",
    "version": 2
   },
   "file_extension": ".py",
   "mimetype": "text/x-python",
   "name": "python",
   "nbconvert_exporter": "python",
   "pygments_lexer": "ipython2",
   "version": "2.7.6"
  }
 },
 "nbformat": 4,
 "nbformat_minor": 0
}