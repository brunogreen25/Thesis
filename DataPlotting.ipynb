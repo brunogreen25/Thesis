{
 "cells": [
  {
   "cell_type": "code",
   "execution_count": 1,
   "outputs": [],
   "source": [
    "import numpy as np\n",
    "import pandas as pd"
   ],
   "metadata": {
    "collapsed": false,
    "pycharm": {
     "name": "#%%\n"
    }
   }
  },
  {
   "cell_type": "code",
   "execution_count": 41,
   "outputs": [
    {
     "data": {
      "text/plain": "    model  accuracy  seed  c11  c12  c21  c22  sigma_eta_diag  \\\n0     ngc       1.0     1  0.8  0.0    0  0.8            0.01   \n1     ngc       1.0   101  0.8  0.0    0  0.8            0.01   \n2     ngc       1.0    33  0.8  0.0    0  0.8            0.01   \n3     ngc       1.0    12  0.8  0.0    0  0.8            0.01   \n4     ngc       1.0     0  0.8  0.0    0  0.8            0.01   \n..    ...       ...   ...  ...  ...  ...  ...             ...   \n155  tvar       1.0     1  0.8  0.8    0  0.8            0.02   \n156  tvar       1.0   101  0.8  0.8    0  0.8            0.02   \n157  tvar       1.0    33  0.8  0.8    0  0.8            0.02   \n158  tvar       1.0    12  0.8  0.8    0  0.8            0.02   \n159  tvar       1.0     0  0.8  0.8    0  0.8            0.02   \n\n     sigma_eta_off_diag  \n0                  0.00  \n1                  0.00  \n2                  0.00  \n3                  0.00  \n4                  0.00  \n..                  ...  \n155                0.02  \n156                0.02  \n157                0.02  \n158                0.02  \n159                0.02  \n\n[160 rows x 9 columns]",
      "text/html": "<div>\n<style scoped>\n    .dataframe tbody tr th:only-of-type {\n        vertical-align: middle;\n    }\n\n    .dataframe tbody tr th {\n        vertical-align: top;\n    }\n\n    .dataframe thead th {\n        text-align: right;\n    }\n</style>\n<table border=\"1\" class=\"dataframe\">\n  <thead>\n    <tr style=\"text-align: right;\">\n      <th></th>\n      <th>model</th>\n      <th>accuracy</th>\n      <th>seed</th>\n      <th>c11</th>\n      <th>c12</th>\n      <th>c21</th>\n      <th>c22</th>\n      <th>sigma_eta_diag</th>\n      <th>sigma_eta_off_diag</th>\n    </tr>\n  </thead>\n  <tbody>\n    <tr>\n      <th>0</th>\n      <td>ngc</td>\n      <td>1.0</td>\n      <td>1</td>\n      <td>0.8</td>\n      <td>0.0</td>\n      <td>0</td>\n      <td>0.8</td>\n      <td>0.01</td>\n      <td>0.00</td>\n    </tr>\n    <tr>\n      <th>1</th>\n      <td>ngc</td>\n      <td>1.0</td>\n      <td>101</td>\n      <td>0.8</td>\n      <td>0.0</td>\n      <td>0</td>\n      <td>0.8</td>\n      <td>0.01</td>\n      <td>0.00</td>\n    </tr>\n    <tr>\n      <th>2</th>\n      <td>ngc</td>\n      <td>1.0</td>\n      <td>33</td>\n      <td>0.8</td>\n      <td>0.0</td>\n      <td>0</td>\n      <td>0.8</td>\n      <td>0.01</td>\n      <td>0.00</td>\n    </tr>\n    <tr>\n      <th>3</th>\n      <td>ngc</td>\n      <td>1.0</td>\n      <td>12</td>\n      <td>0.8</td>\n      <td>0.0</td>\n      <td>0</td>\n      <td>0.8</td>\n      <td>0.01</td>\n      <td>0.00</td>\n    </tr>\n    <tr>\n      <th>4</th>\n      <td>ngc</td>\n      <td>1.0</td>\n      <td>0</td>\n      <td>0.8</td>\n      <td>0.0</td>\n      <td>0</td>\n      <td>0.8</td>\n      <td>0.01</td>\n      <td>0.00</td>\n    </tr>\n    <tr>\n      <th>...</th>\n      <td>...</td>\n      <td>...</td>\n      <td>...</td>\n      <td>...</td>\n      <td>...</td>\n      <td>...</td>\n      <td>...</td>\n      <td>...</td>\n      <td>...</td>\n    </tr>\n    <tr>\n      <th>155</th>\n      <td>tvar</td>\n      <td>1.0</td>\n      <td>1</td>\n      <td>0.8</td>\n      <td>0.8</td>\n      <td>0</td>\n      <td>0.8</td>\n      <td>0.02</td>\n      <td>0.02</td>\n    </tr>\n    <tr>\n      <th>156</th>\n      <td>tvar</td>\n      <td>1.0</td>\n      <td>101</td>\n      <td>0.8</td>\n      <td>0.8</td>\n      <td>0</td>\n      <td>0.8</td>\n      <td>0.02</td>\n      <td>0.02</td>\n    </tr>\n    <tr>\n      <th>157</th>\n      <td>tvar</td>\n      <td>1.0</td>\n      <td>33</td>\n      <td>0.8</td>\n      <td>0.8</td>\n      <td>0</td>\n      <td>0.8</td>\n      <td>0.02</td>\n      <td>0.02</td>\n    </tr>\n    <tr>\n      <th>158</th>\n      <td>tvar</td>\n      <td>1.0</td>\n      <td>12</td>\n      <td>0.8</td>\n      <td>0.8</td>\n      <td>0</td>\n      <td>0.8</td>\n      <td>0.02</td>\n      <td>0.02</td>\n    </tr>\n    <tr>\n      <th>159</th>\n      <td>tvar</td>\n      <td>1.0</td>\n      <td>0</td>\n      <td>0.8</td>\n      <td>0.8</td>\n      <td>0</td>\n      <td>0.8</td>\n      <td>0.02</td>\n      <td>0.02</td>\n    </tr>\n  </tbody>\n</table>\n<p>160 rows × 9 columns</p>\n</div>"
     },
     "execution_count": 41,
     "metadata": {},
     "output_type": "execute_result"
    }
   ],
   "source": [
    "experiment = f'2'\n",
    "\n",
    "df = pd.read_csv(f'results/{experiment}/processed_data_{experiment}.csv', index_col='Unnamed: 0')\n",
    "\n",
    "#df = df.loc[df.c12 == 0]\n",
    "#df = df[[c for c in df.columns if c != 'date']]\n",
    "#df['accuracy'] = df[[c for c in df.columns if c.endswith('_acc')][0]]\n",
    "#df = df[df.n_data <= 8]\n",
    "df.loc[df.sigma_eta_off_diag == -1, 'sigma_eta_off_diag'] = df.sigma_eta_diag\n",
    "#df = df[[c for c in df.columns if c != 'tvt_split']]\n",
    "if 'prior' in df.columns:\n",
    "    df.loc[df.prior == True, 'model'] = df[df.prior == True].model + '_sparse'\n",
    "\n",
    "# Dataframe experiment 7\n",
    "#acc_cols = [c[:-4] for c in df.columns if c.endswith('_acc')]\n",
    "#num_repetitions = len(df)\n",
    "\n",
    "#df = pd.concat([df, df, df])\n",
    "#df = df.reset_index(drop=True)\n",
    "#df['dataset'] = sorted(acc_cols * num_repetitions)\n",
    "#df['accuracy'] = np.zeros(df.shape[0])\n",
    "#for acc_col in acc_cols:\n",
    "#    df.loc[df.dataset == acc_col, 'accuracy'] = df.loc[df.dataset == acc_col, f\"{acc_col}_acc\"]\n",
    "#df = df[df.c21 == 0]\n",
    "\n",
    "df"
   ],
   "metadata": {
    "collapsed": false,
    "pycharm": {
     "name": "#%%\n"
    }
   }
  },
  {
   "cell_type": "code",
   "execution_count": 42,
   "outputs": [
    {
     "data": {
      "text/plain": "   model  c11  c12  c21  c22  sigma_eta_diag  sigma_eta_off_diag  acc_mean  \\\n0    ngc  0.8  0.0    0  0.8            0.01                0.00      1.00   \n1    ngc  0.8  0.0    0  0.8            0.01                0.01      0.50   \n2    ngc  0.8  0.0    0  0.8            0.02                0.00      1.00   \n3    ngc  0.8  0.0    0  0.8            0.02                0.02      0.50   \n4    ngc  0.8  0.8    0  0.8            0.01                0.00      0.75   \n5    ngc  0.8  0.8    0  0.8            0.01                0.01      0.75   \n6    ngc  0.8  0.8    0  0.8            0.02                0.00      0.80   \n7    ngc  0.8  0.8    0  0.8            0.02                0.02      0.75   \n8   ngc0  0.8  0.0    0  0.8            0.01                0.00      1.00   \n9   ngc0  0.8  0.0    0  0.8            0.01                0.01      0.50   \n10  ngc0  0.8  0.0    0  0.8            0.02                0.00      1.00   \n11  ngc0  0.8  0.0    0  0.8            0.02                0.02      0.50   \n12  ngc0  0.8  0.8    0  0.8            0.01                0.00      1.00   \n13  ngc0  0.8  0.8    0  0.8            0.01                0.01      0.85   \n14  ngc0  0.8  0.8    0  0.8            0.02                0.00      1.00   \n15  ngc0  0.8  0.8    0  0.8            0.02                0.02      1.00   \n16   nri  0.8  0.0    0  0.8            0.01                0.00      0.45   \n17   nri  0.8  0.0    0  0.8            0.01                0.01      0.20   \n18   nri  0.8  0.0    0  0.8            0.02                0.00      0.45   \n19   nri  0.8  0.0    0  0.8            0.02                0.02      0.20   \n20   nri  0.8  0.8    0  0.8            0.01                0.00      0.50   \n21   nri  0.8  0.8    0  0.8            0.01                0.01      0.50   \n22   nri  0.8  0.8    0  0.8            0.02                0.00      0.50   \n23   nri  0.8  0.8    0  0.8            0.02                0.02      0.50   \n24  tvar  0.8  0.0    0  0.8            0.01                0.00      0.90   \n25  tvar  0.8  0.0    0  0.8            0.01                0.01      0.50   \n26  tvar  0.8  0.0    0  0.8            0.02                0.00      0.90   \n27  tvar  0.8  0.0    0  0.8            0.02                0.02      0.50   \n28  tvar  0.8  0.8    0  0.8            0.01                0.00      1.00   \n29  tvar  0.8  0.8    0  0.8            0.01                0.01      1.00   \n30  tvar  0.8  0.8    0  0.8            0.02                0.00      1.00   \n31  tvar  0.8  0.8    0  0.8            0.02                0.02      1.00   \n\n     acc_std  \n0   0.000000  \n1   0.000000  \n2   0.000000  \n3   0.000000  \n4   0.000000  \n5   0.000000  \n6   0.111803  \n7   0.000000  \n8   0.000000  \n9   0.000000  \n10  0.000000  \n11  0.000000  \n12  0.000000  \n13  0.136931  \n14  0.000000  \n15  0.000000  \n16  0.111803  \n17  0.273861  \n18  0.111803  \n19  0.273861  \n20  0.000000  \n21  0.000000  \n22  0.000000  \n23  0.000000  \n24  0.136931  \n25  0.000000  \n26  0.136931  \n27  0.000000  \n28  0.000000  \n29  0.000000  \n30  0.000000  \n31  0.000000  ",
      "text/html": "<div>\n<style scoped>\n    .dataframe tbody tr th:only-of-type {\n        vertical-align: middle;\n    }\n\n    .dataframe tbody tr th {\n        vertical-align: top;\n    }\n\n    .dataframe thead th {\n        text-align: right;\n    }\n</style>\n<table border=\"1\" class=\"dataframe\">\n  <thead>\n    <tr style=\"text-align: right;\">\n      <th></th>\n      <th>model</th>\n      <th>c11</th>\n      <th>c12</th>\n      <th>c21</th>\n      <th>c22</th>\n      <th>sigma_eta_diag</th>\n      <th>sigma_eta_off_diag</th>\n      <th>acc_mean</th>\n      <th>acc_std</th>\n    </tr>\n  </thead>\n  <tbody>\n    <tr>\n      <th>0</th>\n      <td>ngc</td>\n      <td>0.8</td>\n      <td>0.0</td>\n      <td>0</td>\n      <td>0.8</td>\n      <td>0.01</td>\n      <td>0.00</td>\n      <td>1.00</td>\n      <td>0.000000</td>\n    </tr>\n    <tr>\n      <th>1</th>\n      <td>ngc</td>\n      <td>0.8</td>\n      <td>0.0</td>\n      <td>0</td>\n      <td>0.8</td>\n      <td>0.01</td>\n      <td>0.01</td>\n      <td>0.50</td>\n      <td>0.000000</td>\n    </tr>\n    <tr>\n      <th>2</th>\n      <td>ngc</td>\n      <td>0.8</td>\n      <td>0.0</td>\n      <td>0</td>\n      <td>0.8</td>\n      <td>0.02</td>\n      <td>0.00</td>\n      <td>1.00</td>\n      <td>0.000000</td>\n    </tr>\n    <tr>\n      <th>3</th>\n      <td>ngc</td>\n      <td>0.8</td>\n      <td>0.0</td>\n      <td>0</td>\n      <td>0.8</td>\n      <td>0.02</td>\n      <td>0.02</td>\n      <td>0.50</td>\n      <td>0.000000</td>\n    </tr>\n    <tr>\n      <th>4</th>\n      <td>ngc</td>\n      <td>0.8</td>\n      <td>0.8</td>\n      <td>0</td>\n      <td>0.8</td>\n      <td>0.01</td>\n      <td>0.00</td>\n      <td>0.75</td>\n      <td>0.000000</td>\n    </tr>\n    <tr>\n      <th>5</th>\n      <td>ngc</td>\n      <td>0.8</td>\n      <td>0.8</td>\n      <td>0</td>\n      <td>0.8</td>\n      <td>0.01</td>\n      <td>0.01</td>\n      <td>0.75</td>\n      <td>0.000000</td>\n    </tr>\n    <tr>\n      <th>6</th>\n      <td>ngc</td>\n      <td>0.8</td>\n      <td>0.8</td>\n      <td>0</td>\n      <td>0.8</td>\n      <td>0.02</td>\n      <td>0.00</td>\n      <td>0.80</td>\n      <td>0.111803</td>\n    </tr>\n    <tr>\n      <th>7</th>\n      <td>ngc</td>\n      <td>0.8</td>\n      <td>0.8</td>\n      <td>0</td>\n      <td>0.8</td>\n      <td>0.02</td>\n      <td>0.02</td>\n      <td>0.75</td>\n      <td>0.000000</td>\n    </tr>\n    <tr>\n      <th>8</th>\n      <td>ngc0</td>\n      <td>0.8</td>\n      <td>0.0</td>\n      <td>0</td>\n      <td>0.8</td>\n      <td>0.01</td>\n      <td>0.00</td>\n      <td>1.00</td>\n      <td>0.000000</td>\n    </tr>\n    <tr>\n      <th>9</th>\n      <td>ngc0</td>\n      <td>0.8</td>\n      <td>0.0</td>\n      <td>0</td>\n      <td>0.8</td>\n      <td>0.01</td>\n      <td>0.01</td>\n      <td>0.50</td>\n      <td>0.000000</td>\n    </tr>\n    <tr>\n      <th>10</th>\n      <td>ngc0</td>\n      <td>0.8</td>\n      <td>0.0</td>\n      <td>0</td>\n      <td>0.8</td>\n      <td>0.02</td>\n      <td>0.00</td>\n      <td>1.00</td>\n      <td>0.000000</td>\n    </tr>\n    <tr>\n      <th>11</th>\n      <td>ngc0</td>\n      <td>0.8</td>\n      <td>0.0</td>\n      <td>0</td>\n      <td>0.8</td>\n      <td>0.02</td>\n      <td>0.02</td>\n      <td>0.50</td>\n      <td>0.000000</td>\n    </tr>\n    <tr>\n      <th>12</th>\n      <td>ngc0</td>\n      <td>0.8</td>\n      <td>0.8</td>\n      <td>0</td>\n      <td>0.8</td>\n      <td>0.01</td>\n      <td>0.00</td>\n      <td>1.00</td>\n      <td>0.000000</td>\n    </tr>\n    <tr>\n      <th>13</th>\n      <td>ngc0</td>\n      <td>0.8</td>\n      <td>0.8</td>\n      <td>0</td>\n      <td>0.8</td>\n      <td>0.01</td>\n      <td>0.01</td>\n      <td>0.85</td>\n      <td>0.136931</td>\n    </tr>\n    <tr>\n      <th>14</th>\n      <td>ngc0</td>\n      <td>0.8</td>\n      <td>0.8</td>\n      <td>0</td>\n      <td>0.8</td>\n      <td>0.02</td>\n      <td>0.00</td>\n      <td>1.00</td>\n      <td>0.000000</td>\n    </tr>\n    <tr>\n      <th>15</th>\n      <td>ngc0</td>\n      <td>0.8</td>\n      <td>0.8</td>\n      <td>0</td>\n      <td>0.8</td>\n      <td>0.02</td>\n      <td>0.02</td>\n      <td>1.00</td>\n      <td>0.000000</td>\n    </tr>\n    <tr>\n      <th>16</th>\n      <td>nri</td>\n      <td>0.8</td>\n      <td>0.0</td>\n      <td>0</td>\n      <td>0.8</td>\n      <td>0.01</td>\n      <td>0.00</td>\n      <td>0.45</td>\n      <td>0.111803</td>\n    </tr>\n    <tr>\n      <th>17</th>\n      <td>nri</td>\n      <td>0.8</td>\n      <td>0.0</td>\n      <td>0</td>\n      <td>0.8</td>\n      <td>0.01</td>\n      <td>0.01</td>\n      <td>0.20</td>\n      <td>0.273861</td>\n    </tr>\n    <tr>\n      <th>18</th>\n      <td>nri</td>\n      <td>0.8</td>\n      <td>0.0</td>\n      <td>0</td>\n      <td>0.8</td>\n      <td>0.02</td>\n      <td>0.00</td>\n      <td>0.45</td>\n      <td>0.111803</td>\n    </tr>\n    <tr>\n      <th>19</th>\n      <td>nri</td>\n      <td>0.8</td>\n      <td>0.0</td>\n      <td>0</td>\n      <td>0.8</td>\n      <td>0.02</td>\n      <td>0.02</td>\n      <td>0.20</td>\n      <td>0.273861</td>\n    </tr>\n    <tr>\n      <th>20</th>\n      <td>nri</td>\n      <td>0.8</td>\n      <td>0.8</td>\n      <td>0</td>\n      <td>0.8</td>\n      <td>0.01</td>\n      <td>0.00</td>\n      <td>0.50</td>\n      <td>0.000000</td>\n    </tr>\n    <tr>\n      <th>21</th>\n      <td>nri</td>\n      <td>0.8</td>\n      <td>0.8</td>\n      <td>0</td>\n      <td>0.8</td>\n      <td>0.01</td>\n      <td>0.01</td>\n      <td>0.50</td>\n      <td>0.000000</td>\n    </tr>\n    <tr>\n      <th>22</th>\n      <td>nri</td>\n      <td>0.8</td>\n      <td>0.8</td>\n      <td>0</td>\n      <td>0.8</td>\n      <td>0.02</td>\n      <td>0.00</td>\n      <td>0.50</td>\n      <td>0.000000</td>\n    </tr>\n    <tr>\n      <th>23</th>\n      <td>nri</td>\n      <td>0.8</td>\n      <td>0.8</td>\n      <td>0</td>\n      <td>0.8</td>\n      <td>0.02</td>\n      <td>0.02</td>\n      <td>0.50</td>\n      <td>0.000000</td>\n    </tr>\n    <tr>\n      <th>24</th>\n      <td>tvar</td>\n      <td>0.8</td>\n      <td>0.0</td>\n      <td>0</td>\n      <td>0.8</td>\n      <td>0.01</td>\n      <td>0.00</td>\n      <td>0.90</td>\n      <td>0.136931</td>\n    </tr>\n    <tr>\n      <th>25</th>\n      <td>tvar</td>\n      <td>0.8</td>\n      <td>0.0</td>\n      <td>0</td>\n      <td>0.8</td>\n      <td>0.01</td>\n      <td>0.01</td>\n      <td>0.50</td>\n      <td>0.000000</td>\n    </tr>\n    <tr>\n      <th>26</th>\n      <td>tvar</td>\n      <td>0.8</td>\n      <td>0.0</td>\n      <td>0</td>\n      <td>0.8</td>\n      <td>0.02</td>\n      <td>0.00</td>\n      <td>0.90</td>\n      <td>0.136931</td>\n    </tr>\n    <tr>\n      <th>27</th>\n      <td>tvar</td>\n      <td>0.8</td>\n      <td>0.0</td>\n      <td>0</td>\n      <td>0.8</td>\n      <td>0.02</td>\n      <td>0.02</td>\n      <td>0.50</td>\n      <td>0.000000</td>\n    </tr>\n    <tr>\n      <th>28</th>\n      <td>tvar</td>\n      <td>0.8</td>\n      <td>0.8</td>\n      <td>0</td>\n      <td>0.8</td>\n      <td>0.01</td>\n      <td>0.00</td>\n      <td>1.00</td>\n      <td>0.000000</td>\n    </tr>\n    <tr>\n      <th>29</th>\n      <td>tvar</td>\n      <td>0.8</td>\n      <td>0.8</td>\n      <td>0</td>\n      <td>0.8</td>\n      <td>0.01</td>\n      <td>0.01</td>\n      <td>1.00</td>\n      <td>0.000000</td>\n    </tr>\n    <tr>\n      <th>30</th>\n      <td>tvar</td>\n      <td>0.8</td>\n      <td>0.8</td>\n      <td>0</td>\n      <td>0.8</td>\n      <td>0.02</td>\n      <td>0.00</td>\n      <td>1.00</td>\n      <td>0.000000</td>\n    </tr>\n    <tr>\n      <th>31</th>\n      <td>tvar</td>\n      <td>0.8</td>\n      <td>0.8</td>\n      <td>0</td>\n      <td>0.8</td>\n      <td>0.02</td>\n      <td>0.02</td>\n      <td>1.00</td>\n      <td>0.000000</td>\n    </tr>\n  </tbody>\n</table>\n</div>"
     },
     "execution_count": 42,
     "metadata": {},
     "output_type": "execute_result"
    }
   ],
   "source": [
    "groupby_columns = ['model'] + ['c11', 'c12', 'c21', 'c22', 'sigma_eta_diag', 'sigma_eta_off_diag']\n",
    "df_mean = df.groupby(by=groupby_columns).mean().rename(columns={'accuracy':'acc_mean'})[['acc_mean']]\n",
    "df_std = df.groupby(by=groupby_columns).std().rename(columns={'accuracy': 'acc_std'})[['acc_std']]\n",
    "df_results = pd.concat([df_mean, df_std], axis=1, join=\"inner\").reset_index()#[['model', 'c11', 'acc_mean', 'acc_std']]\n",
    "df_results"
   ],
   "metadata": {
    "collapsed": false,
    "pycharm": {
     "name": "#%%\n"
    }
   }
  },
  {
   "cell_type": "code",
   "execution_count": 43,
   "outputs": [
    {
     "data": {
      "text/plain": "((4, 8), (4, 8))"
     },
     "execution_count": 43,
     "metadata": {},
     "output_type": "execute_result"
    }
   ],
   "source": [
    "mean_acc = np.array([df_results[df_results.model==model]['acc_mean'] for model in list(set(df.model))])\n",
    "std_acc = np.array([df_results[df_results.model==model]['acc_std'] for model in list(set(df.model))])\n",
    "\n",
    "mean_acc.shape, std_acc.shape"
   ],
   "metadata": {
    "collapsed": false,
    "pycharm": {
     "name": "#%%\n"
    }
   }
  },
  {
   "cell_type": "code",
   "execution_count": 44,
   "outputs": [
    {
     "name": "stdout",
     "output_type": "stream",
     "text": [
      "['nri', 'ngc0', 'ngc', 'tvar']\n"
     ]
    },
    {
     "data": {
      "text/plain": "<Figure size 1080x360 with 1 Axes>",
      "image/png": "[encoded data removed]"
     },
     "metadata": {
      "needs_background": "light"
     },
     "output_type": "display_data"
    }
   ],
   "source": [
    "# Should I save figure?\n",
    "save_figure = True\n",
    "\n",
    "# Import the necessary libraries.\n",
    "import matplotlib.pyplot as plt\n",
    "import numpy as np\n",
    "\n",
    "# create a figure with a width of 10 inches and a height of 8 inches\n",
    "fig = plt.figure(figsize=(15, 5))\n",
    "\n",
    "# Model name dictionary\n",
    "model_names_dict = {\n",
    "    'ngc': 'NGC',\n",
    "    'ngc0': 'NGC-0',\n",
    "    'nri': 'NRI',\n",
    "    'tvar': 't-VAR',\n",
    "    'nri_sparse': 'NRI (sparse prior)'\n",
    "}\n",
    "\n",
    "# Set the names of the four deep learning models.\n",
    "model_names = list(set(df_results.model))\n",
    "print(model_names)\n",
    "\n",
    "# Set the number of hyperparameters for each model.\n",
    "n_hyperparams = [int(len(df_results)/len(model_names))] * len(model_names)\n",
    "\n",
    "# Set the mean accuracy and standard deviation of each hyperparameter for each model.\n",
    "mean_accuracy = mean_acc\n",
    "std_dev = std_acc\n",
    "\n",
    "# Create the grouped bar chart.\n",
    "for i, model_name in enumerate(model_names):\n",
    "    x = np.arange(n_hyperparams[i]) + 1\n",
    "    y = mean_accuracy[i]\n",
    "    error = std_dev[i]\n",
    "    plt.bar(x + i * 0.1, y, yerr=error, capsize=10, width=0.1, label=model_names_dict[model_name])\n",
    "\n",
    "# Set the x-axis limits.\n",
    "plt.xlim(+0.75, n_hyperparams[0]+0.5)\n",
    "plt.xticks(np.arange(n_hyperparams[0])+1)\n",
    "\n",
    "# Set the y-axis limits.\n",
    "#plt.ylim(0, 1)\n",
    "\n",
    "# Set axis names\n",
    "plt.ylabel('Accuracy')\n",
    "plt.xlabel('Experiment ID')\n",
    "plt.title(f'Experiment {int(experiment[0])+1} \\n Mean and standard deviation of accuracy of four different models over {n_hyperparams[0]} sub-experiments')\n",
    "\n",
    "# Add a legend.\n",
    "plt.legend(bbox_to_anchor=(1.0, 0.5))\n",
    "\n",
    "# Save figure\n",
    "if save_figure:\n",
    "    plt.savefig(f'results/{experiment}/results')\n",
    "\n",
    "# Show the plot.\n",
    "plt.show()"
   ],
   "metadata": {
    "collapsed": false,
    "pycharm": {
     "name": "#%%\n"
    }
   }
  },
  {
   "cell_type": "code",
   "execution_count": null,
   "outputs": [],
   "source": [],
   "metadata": {
    "collapsed": false,
    "pycharm": {
     "name": "#%%\n"
    }
   }
  }
 ],
 "metadata": {
  "kernelspec": {
   "display_name": "Python 3",
   "language": "python",
   "name": "python3"
  },
  "language_info": {
   "codemirror_mode": {
    "name": "ipython",
    "version": 2
   },
   "file_extension": ".py",
   "mimetype": "text/x-python",
   "name": "python",
   "nbconvert_exporter": "python",
   "pygments_lexer": "ipython2",
   "version": "2.7.6"
  }
 },
 "nbformat": 4,
 "nbformat_minor": 0
}