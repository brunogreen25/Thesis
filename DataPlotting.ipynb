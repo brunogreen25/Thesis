{
 "cells": [
  {
   "cell_type": "code",
   "execution_count": 14,
   "outputs": [],
   "source": [
    "import numpy as np\n",
    "import pandas as pd"
   ],
   "metadata": {
    "collapsed": false,
    "pycharm": {
     "name": "#%%\n"
    }
   }
  },
  {
   "cell_type": "code",
   "execution_count": 16,
   "outputs": [
    {
     "data": {
      "text/plain": "    models  accs  seeds  c11  c12  c21  c22\n0      ngc   1.0      1  0.0  0.0  0.0  0.0\n1      ngc   1.0    101  0.0  0.0  0.0  0.0\n2      ngc   1.0     33  0.0  0.0  0.0  0.0\n3      ngc   1.0     12  0.0  0.0  0.0  0.0\n4      ngc   1.0      0  0.0  0.0  0.0  0.0\n..     ...   ...    ...  ...  ...  ...  ...\n145    nri   0.0      1  0.9  0.0  0.0  0.9\n146    nri   0.5    101  0.9  0.0  0.0  0.9\n147    nri   0.5     33  0.9  0.0  0.0  0.9\n148    nri   0.5     12  0.9  0.0  0.0  0.9\n149    nri   0.5      0  0.9  0.0  0.0  0.9\n\n[150 rows x 7 columns]",
      "text/html": "<div>\n<style scoped>\n    .dataframe tbody tr th:only-of-type {\n        vertical-align: middle;\n    }\n\n    .dataframe tbody tr th {\n        vertical-align: top;\n    }\n\n    .dataframe thead th {\n        text-align: right;\n    }\n</style>\n<table border=\"1\" class=\"dataframe\">\n  <thead>\n    <tr style=\"text-align: right;\">\n      <th></th>\n      <th>models</th>\n      <th>accs</th>\n      <th>seeds</th>\n      <th>c11</th>\n      <th>c12</th>\n      <th>c21</th>\n      <th>c22</th>\n    </tr>\n  </thead>\n  <tbody>\n    <tr>\n      <th>0</th>\n      <td>ngc</td>\n      <td>1.0</td>\n      <td>1</td>\n      <td>0.0</td>\n      <td>0.0</td>\n      <td>0.0</td>\n      <td>0.0</td>\n    </tr>\n    <tr>\n      <th>1</th>\n      <td>ngc</td>\n      <td>1.0</td>\n      <td>101</td>\n      <td>0.0</td>\n      <td>0.0</td>\n      <td>0.0</td>\n      <td>0.0</td>\n    </tr>\n    <tr>\n      <th>2</th>\n      <td>ngc</td>\n      <td>1.0</td>\n      <td>33</td>\n      <td>0.0</td>\n      <td>0.0</td>\n      <td>0.0</td>\n      <td>0.0</td>\n    </tr>\n    <tr>\n      <th>3</th>\n      <td>ngc</td>\n      <td>1.0</td>\n      <td>12</td>\n      <td>0.0</td>\n      <td>0.0</td>\n      <td>0.0</td>\n      <td>0.0</td>\n    </tr>\n    <tr>\n      <th>4</th>\n      <td>ngc</td>\n      <td>1.0</td>\n      <td>0</td>\n      <td>0.0</td>\n      <td>0.0</td>\n      <td>0.0</td>\n      <td>0.0</td>\n    </tr>\n    <tr>\n      <th>...</th>\n      <td>...</td>\n      <td>...</td>\n      <td>...</td>\n      <td>...</td>\n      <td>...</td>\n      <td>...</td>\n      <td>...</td>\n    </tr>\n    <tr>\n      <th>145</th>\n      <td>nri</td>\n      <td>0.0</td>\n      <td>1</td>\n      <td>0.9</td>\n      <td>0.0</td>\n      <td>0.0</td>\n      <td>0.9</td>\n    </tr>\n    <tr>\n      <th>146</th>\n      <td>nri</td>\n      <td>0.5</td>\n      <td>101</td>\n      <td>0.9</td>\n      <td>0.0</td>\n      <td>0.0</td>\n      <td>0.9</td>\n    </tr>\n    <tr>\n      <th>147</th>\n      <td>nri</td>\n      <td>0.5</td>\n      <td>33</td>\n      <td>0.9</td>\n      <td>0.0</td>\n      <td>0.0</td>\n      <td>0.9</td>\n    </tr>\n    <tr>\n      <th>148</th>\n      <td>nri</td>\n      <td>0.5</td>\n      <td>12</td>\n      <td>0.9</td>\n      <td>0.0</td>\n      <td>0.0</td>\n      <td>0.9</td>\n    </tr>\n    <tr>\n      <th>149</th>\n      <td>nri</td>\n      <td>0.5</td>\n      <td>0</td>\n      <td>0.9</td>\n      <td>0.0</td>\n      <td>0.0</td>\n      <td>0.9</td>\n    </tr>\n  </tbody>\n</table>\n<p>150 rows × 7 columns</p>\n</div>"
     },
     "execution_count": 16,
     "metadata": {},
     "output_type": "execute_result"
    }
   ],
   "source": [
    "experiment = '1a'\n",
    "\n",
    "df = pd.read_csv(f'results/{experiment}/processed_results_{experiment}.csv', index_col='Unnamed: 0')\n",
    "df"
   ],
   "metadata": {
    "collapsed": false,
    "pycharm": {
     "name": "#%%\n"
    }
   }
  },
  {
   "cell_type": "code",
   "execution_count": 20,
   "outputs": [
    {
     "data": {
      "text/plain": "                        accs  seeds\nmodels c11 c12 c21 c22             \nngc    0.0 0.0 0.0 0.0  1.00   29.4\n       0.1 0.0 0.0 0.1  0.50   29.4\n       0.2 0.0 0.0 0.2  0.50   29.4\n       0.3 0.0 0.0 0.3  0.50   29.4\n       0.4 0.0 0.0 0.4  0.75   29.4\n       0.5 0.0 0.0 0.5  1.00   29.4\n       0.6 0.0 0.0 0.6  1.00   29.4\n       0.7 0.0 0.0 0.7  1.00   29.4\n       0.8 0.0 0.0 0.8  1.00   29.4\n       0.9 0.0 0.0 0.9  1.00   29.4\nngc0   0.0 0.0 0.0 0.0  1.00   29.4\n       0.1 0.0 0.0 0.1  0.55   29.4\n       0.2 0.0 0.0 0.2  1.00   29.4\n       0.3 0.0 0.0 0.3  1.00   29.4\n       0.4 0.0 0.0 0.4  1.00   29.4\n       0.5 0.0 0.0 0.5  1.00   29.4\n       0.6 0.0 0.0 0.6  1.00   29.4\n       0.7 0.0 0.0 0.7  1.00   29.4\n       0.8 0.0 0.0 0.8  1.00   29.4\n       0.9 0.0 0.0 0.9  1.00   29.4\nnri    0.0 0.0 0.0 0.0  0.85   29.4\n       0.1 0.0 0.0 0.1  0.35   29.4\n       0.2 0.0 0.0 0.2  0.40   29.4\n       0.3 0.0 0.0 0.3  0.40   29.4\n       0.4 0.0 0.0 0.4  0.40   29.4\n       0.5 0.0 0.0 0.5  0.40   29.4\n       0.6 0.0 0.0 0.6  0.40   29.4\n       0.7 0.0 0.0 0.7  0.40   29.4\n       0.8 0.0 0.0 0.8  0.45   29.4\n       0.9 0.0 0.0 0.9  0.40   29.4",
      "text/html": "<div>\n<style scoped>\n    .dataframe tbody tr th:only-of-type {\n        vertical-align: middle;\n    }\n\n    .dataframe tbody tr th {\n        vertical-align: top;\n    }\n\n    .dataframe thead th {\n        text-align: right;\n    }\n</style>\n<table border=\"1\" class=\"dataframe\">\n  <thead>\n    <tr style=\"text-align: right;\">\n      <th></th>\n      <th></th>\n      <th></th>\n      <th></th>\n      <th></th>\n      <th>accs</th>\n      <th>seeds</th>\n    </tr>\n    <tr>\n      <th>models</th>\n      <th>c11</th>\n      <th>c12</th>\n      <th>c21</th>\n      <th>c22</th>\n      <th></th>\n      <th></th>\n    </tr>\n  </thead>\n  <tbody>\n    <tr>\n      <th rowspan=\"10\" valign=\"top\">ngc</th>\n      <th>0.0</th>\n      <th>0.0</th>\n      <th>0.0</th>\n      <th>0.0</th>\n      <td>1.00</td>\n      <td>29.4</td>\n    </tr>\n    <tr>\n      <th>0.1</th>\n      <th>0.0</th>\n      <th>0.0</th>\n      <th>0.1</th>\n      <td>0.50</td>\n      <td>29.4</td>\n    </tr>\n    <tr>\n      <th>0.2</th>\n      <th>0.0</th>\n      <th>0.0</th>\n      <th>0.2</th>\n      <td>0.50</td>\n      <td>29.4</td>\n    </tr>\n    <tr>\n      <th>0.3</th>\n      <th>0.0</th>\n      <th>0.0</th>\n      <th>0.3</th>\n      <td>0.50</td>\n      <td>29.4</td>\n    </tr>\n    <tr>\n      <th>0.4</th>\n      <th>0.0</th>\n      <th>0.0</th>\n      <th>0.4</th>\n      <td>0.75</td>\n      <td>29.4</td>\n    </tr>\n    <tr>\n      <th>0.5</th>\n      <th>0.0</th>\n      <th>0.0</th>\n      <th>0.5</th>\n      <td>1.00</td>\n      <td>29.4</td>\n    </tr>\n    <tr>\n      <th>0.6</th>\n      <th>0.0</th>\n      <th>0.0</th>\n      <th>0.6</th>\n      <td>1.00</td>\n      <td>29.4</td>\n    </tr>\n    <tr>\n      <th>0.7</th>\n      <th>0.0</th>\n      <th>0.0</th>\n      <th>0.7</th>\n      <td>1.00</td>\n      <td>29.4</td>\n    </tr>\n    <tr>\n      <th>0.8</th>\n      <th>0.0</th>\n      <th>0.0</th>\n      <th>0.8</th>\n      <td>1.00</td>\n      <td>29.4</td>\n    </tr>\n    <tr>\n      <th>0.9</th>\n      <th>0.0</th>\n      <th>0.0</th>\n      <th>0.9</th>\n      <td>1.00</td>\n      <td>29.4</td>\n    </tr>\n    <tr>\n      <th rowspan=\"10\" valign=\"top\">ngc0</th>\n      <th>0.0</th>\n      <th>0.0</th>\n      <th>0.0</th>\n      <th>0.0</th>\n      <td>1.00</td>\n      <td>29.4</td>\n    </tr>\n    <tr>\n      <th>0.1</th>\n      <th>0.0</th>\n      <th>0.0</th>\n      <th>0.1</th>\n      <td>0.55</td>\n      <td>29.4</td>\n    </tr>\n    <tr>\n      <th>0.2</th>\n      <th>0.0</th>\n      <th>0.0</th>\n      <th>0.2</th>\n      <td>1.00</td>\n      <td>29.4</td>\n    </tr>\n    <tr>\n      <th>0.3</th>\n      <th>0.0</th>\n      <th>0.0</th>\n      <th>0.3</th>\n      <td>1.00</td>\n      <td>29.4</td>\n    </tr>\n    <tr>\n      <th>0.4</th>\n      <th>0.0</th>\n      <th>0.0</th>\n      <th>0.4</th>\n      <td>1.00</td>\n      <td>29.4</td>\n    </tr>\n    <tr>\n      <th>0.5</th>\n      <th>0.0</th>\n      <th>0.0</th>\n      <th>0.5</th>\n      <td>1.00</td>\n      <td>29.4</td>\n    </tr>\n    <tr>\n      <th>0.6</th>\n      <th>0.0</th>\n      <th>0.0</th>\n      <th>0.6</th>\n      <td>1.00</td>\n      <td>29.4</td>\n    </tr>\n    <tr>\n      <th>0.7</th>\n      <th>0.0</th>\n      <th>0.0</th>\n      <th>0.7</th>\n      <td>1.00</td>\n      <td>29.4</td>\n    </tr>\n    <tr>\n      <th>0.8</th>\n      <th>0.0</th>\n      <th>0.0</th>\n      <th>0.8</th>\n      <td>1.00</td>\n      <td>29.4</td>\n    </tr>\n    <tr>\n      <th>0.9</th>\n      <th>0.0</th>\n      <th>0.0</th>\n      <th>0.9</th>\n      <td>1.00</td>\n      <td>29.4</td>\n    </tr>\n    <tr>\n      <th rowspan=\"10\" valign=\"top\">nri</th>\n      <th>0.0</th>\n      <th>0.0</th>\n      <th>0.0</th>\n      <th>0.0</th>\n      <td>0.85</td>\n      <td>29.4</td>\n    </tr>\n    <tr>\n      <th>0.1</th>\n      <th>0.0</th>\n      <th>0.0</th>\n      <th>0.1</th>\n      <td>0.35</td>\n      <td>29.4</td>\n    </tr>\n    <tr>\n      <th>0.2</th>\n      <th>0.0</th>\n      <th>0.0</th>\n      <th>0.2</th>\n      <td>0.40</td>\n      <td>29.4</td>\n    </tr>\n    <tr>\n      <th>0.3</th>\n      <th>0.0</th>\n      <th>0.0</th>\n      <th>0.3</th>\n      <td>0.40</td>\n      <td>29.4</td>\n    </tr>\n    <tr>\n      <th>0.4</th>\n      <th>0.0</th>\n      <th>0.0</th>\n      <th>0.4</th>\n      <td>0.40</td>\n      <td>29.4</td>\n    </tr>\n    <tr>\n      <th>0.5</th>\n      <th>0.0</th>\n      <th>0.0</th>\n      <th>0.5</th>\n      <td>0.40</td>\n      <td>29.4</td>\n    </tr>\n    <tr>\n      <th>0.6</th>\n      <th>0.0</th>\n      <th>0.0</th>\n      <th>0.6</th>\n      <td>0.40</td>\n      <td>29.4</td>\n    </tr>\n    <tr>\n      <th>0.7</th>\n      <th>0.0</th>\n      <th>0.0</th>\n      <th>0.7</th>\n      <td>0.40</td>\n      <td>29.4</td>\n    </tr>\n    <tr>\n      <th>0.8</th>\n      <th>0.0</th>\n      <th>0.0</th>\n      <th>0.8</th>\n      <td>0.45</td>\n      <td>29.4</td>\n    </tr>\n    <tr>\n      <th>0.9</th>\n      <th>0.0</th>\n      <th>0.0</th>\n      <th>0.9</th>\n      <td>0.40</td>\n      <td>29.4</td>\n    </tr>\n  </tbody>\n</table>\n</div>"
     },
     "execution_count": 20,
     "metadata": {},
     "output_type": "execute_result"
    }
   ],
   "source": [
    "df.groupby(by=['models', 'c11', 'c12', 'c21', 'c22']).mean()"
   ],
   "metadata": {
    "collapsed": false,
    "pycharm": {
     "name": "#%%\n"
    }
   }
  },
  {
   "cell_type": "code",
   "execution_count": null,
   "outputs": [],
   "source": [],
   "metadata": {
    "collapsed": false,
    "pycharm": {
     "name": "#%%\n"
    }
   }
  }
 ],
 "metadata": {
  "kernelspec": {
   "display_name": "Python 3",
   "language": "python",
   "name": "python3"
  },
  "language_info": {
   "codemirror_mode": {
    "name": "ipython",
    "version": 2
   },
   "file_extension": ".py",
   "mimetype": "text/x-python",
   "name": "python",
   "nbconvert_exporter": "python",
   "pygments_lexer": "ipython2",
   "version": "2.7.6"
  }
 },
 "nbformat": 4,
 "nbformat_minor": 0
}